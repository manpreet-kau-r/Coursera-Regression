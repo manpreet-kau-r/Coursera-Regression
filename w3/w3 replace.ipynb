{
 "cells": [
  {
   "cell_type": "code",
   "execution_count": 1,
   "metadata": {},
   "outputs": [],
   "source": [
    "import numpy as np\n",
    "import pandas as pd\n",
    "import matplotlib.pyplot as plt\n",
    "from sklearn import metrics,model_selection\n",
    "from sklearn.linear_model import LinearRegression"
   ]
  },
  {
   "cell_type": "code",
   "execution_count": 8,
   "metadata": {},
   "outputs": [],
   "source": [
    "data=pd.read_csv('kc_house_data.csv')\n",
    "train=pd.read_csv('wk3_kc_house_train_data.csv')\n",
    "test=pd.read_csv('wk3_kc_house_test_data.csv')\n",
    "valid=pd.read_csv('wk3_kc_house_valid_data.csv')\n",
    "set1=pd.read_csv('wk3_kc_house_set_1_data.csv')\n",
    "set2=pd.read_csv('wk3_kc_house_set_2_data.csv')\n",
    "set3=pd.read_csv('wk3_kc_house_set_3_data.csv')\n",
    "set4=pd.read_csv('wk3_kc_house_set_4_data.csv')"
   ]
  },
  {
   "cell_type": "code",
   "execution_count": 87,
   "metadata": {},
   "outputs": [],
   "source": [
    "def polynomial_frame(feat, deg):\n",
    "    df=pd.DataFrame()\n",
    "    df['power_1']=feat\n",
    "    if(deg>1):\n",
    "        for power in range(2,deg+1):\n",
    "            name='power_'+str(power)\n",
    "            df[name]=feat**power\n",
    "    return df"
   ]
  },
  {
   "cell_type": "code",
   "execution_count": 88,
   "metadata": {},
   "outputs": [
    {
     "data": {
      "text/html": [
       "<div>\n",
       "<style scoped>\n",
       "    .dataframe tbody tr th:only-of-type {\n",
       "        vertical-align: middle;\n",
       "    }\n",
       "\n",
       "    .dataframe tbody tr th {\n",
       "        vertical-align: top;\n",
       "    }\n",
       "\n",
       "    .dataframe thead th {\n",
       "        text-align: right;\n",
       "    }\n",
       "</style>\n",
       "<table border=\"1\" class=\"dataframe\">\n",
       "  <thead>\n",
       "    <tr style=\"text-align: right;\">\n",
       "      <th></th>\n",
       "      <th>id</th>\n",
       "      <th>date</th>\n",
       "      <th>price</th>\n",
       "      <th>bedrooms</th>\n",
       "      <th>bathrooms</th>\n",
       "      <th>sqft_living</th>\n",
       "      <th>sqft_lot</th>\n",
       "      <th>floors</th>\n",
       "      <th>waterfront</th>\n",
       "      <th>view</th>\n",
       "      <th>...</th>\n",
       "      <th>grade</th>\n",
       "      <th>sqft_above</th>\n",
       "      <th>sqft_basement</th>\n",
       "      <th>yr_built</th>\n",
       "      <th>yr_renovated</th>\n",
       "      <th>zipcode</th>\n",
       "      <th>lat</th>\n",
       "      <th>long</th>\n",
       "      <th>sqft_living15</th>\n",
       "      <th>sqft_lot15</th>\n",
       "    </tr>\n",
       "  </thead>\n",
       "  <tbody>\n",
       "    <tr>\n",
       "      <th>19452</th>\n",
       "      <td>3980300371</td>\n",
       "      <td>20140926T000000</td>\n",
       "      <td>142000.0</td>\n",
       "      <td>0</td>\n",
       "      <td>0.00</td>\n",
       "      <td>290</td>\n",
       "      <td>20875</td>\n",
       "      <td>1.0</td>\n",
       "      <td>0</td>\n",
       "      <td>0</td>\n",
       "      <td>...</td>\n",
       "      <td>1</td>\n",
       "      <td>290</td>\n",
       "      <td>0</td>\n",
       "      <td>1963</td>\n",
       "      <td>0</td>\n",
       "      <td>98024</td>\n",
       "      <td>47.5308</td>\n",
       "      <td>-121.888</td>\n",
       "      <td>1620</td>\n",
       "      <td>22850</td>\n",
       "    </tr>\n",
       "    <tr>\n",
       "      <th>15381</th>\n",
       "      <td>2856101479</td>\n",
       "      <td>20140701T000000</td>\n",
       "      <td>276000.0</td>\n",
       "      <td>1</td>\n",
       "      <td>0.75</td>\n",
       "      <td>370</td>\n",
       "      <td>1801</td>\n",
       "      <td>1.0</td>\n",
       "      <td>0</td>\n",
       "      <td>0</td>\n",
       "      <td>...</td>\n",
       "      <td>5</td>\n",
       "      <td>370</td>\n",
       "      <td>0</td>\n",
       "      <td>1923</td>\n",
       "      <td>0</td>\n",
       "      <td>98117</td>\n",
       "      <td>47.6778</td>\n",
       "      <td>-122.389</td>\n",
       "      <td>1340</td>\n",
       "      <td>5000</td>\n",
       "    </tr>\n",
       "    <tr>\n",
       "      <th>860</th>\n",
       "      <td>1723049033</td>\n",
       "      <td>20140620T000000</td>\n",
       "      <td>245000.0</td>\n",
       "      <td>1</td>\n",
       "      <td>0.75</td>\n",
       "      <td>380</td>\n",
       "      <td>15000</td>\n",
       "      <td>1.0</td>\n",
       "      <td>0</td>\n",
       "      <td>0</td>\n",
       "      <td>...</td>\n",
       "      <td>5</td>\n",
       "      <td>380</td>\n",
       "      <td>0</td>\n",
       "      <td>1963</td>\n",
       "      <td>0</td>\n",
       "      <td>98168</td>\n",
       "      <td>47.4810</td>\n",
       "      <td>-122.323</td>\n",
       "      <td>1170</td>\n",
       "      <td>15000</td>\n",
       "    </tr>\n",
       "    <tr>\n",
       "      <th>18379</th>\n",
       "      <td>1222029077</td>\n",
       "      <td>20141029T000000</td>\n",
       "      <td>265000.0</td>\n",
       "      <td>0</td>\n",
       "      <td>0.75</td>\n",
       "      <td>384</td>\n",
       "      <td>213444</td>\n",
       "      <td>1.0</td>\n",
       "      <td>0</td>\n",
       "      <td>0</td>\n",
       "      <td>...</td>\n",
       "      <td>4</td>\n",
       "      <td>384</td>\n",
       "      <td>0</td>\n",
       "      <td>2003</td>\n",
       "      <td>0</td>\n",
       "      <td>98070</td>\n",
       "      <td>47.4177</td>\n",
       "      <td>-122.491</td>\n",
       "      <td>1920</td>\n",
       "      <td>224341</td>\n",
       "    </tr>\n",
       "    <tr>\n",
       "      <th>4868</th>\n",
       "      <td>6896300380</td>\n",
       "      <td>20141002T000000</td>\n",
       "      <td>228000.0</td>\n",
       "      <td>0</td>\n",
       "      <td>1.00</td>\n",
       "      <td>390</td>\n",
       "      <td>5900</td>\n",
       "      <td>1.0</td>\n",
       "      <td>0</td>\n",
       "      <td>0</td>\n",
       "      <td>...</td>\n",
       "      <td>4</td>\n",
       "      <td>390</td>\n",
       "      <td>0</td>\n",
       "      <td>1953</td>\n",
       "      <td>0</td>\n",
       "      <td>98118</td>\n",
       "      <td>47.5260</td>\n",
       "      <td>-122.261</td>\n",
       "      <td>2170</td>\n",
       "      <td>6000</td>\n",
       "    </tr>\n",
       "  </tbody>\n",
       "</table>\n",
       "<p>5 rows × 21 columns</p>\n",
       "</div>"
      ],
      "text/plain": [
       "               id             date     price  bedrooms  bathrooms  \\\n",
       "19452  3980300371  20140926T000000  142000.0         0       0.00   \n",
       "15381  2856101479  20140701T000000  276000.0         1       0.75   \n",
       "860    1723049033  20140620T000000  245000.0         1       0.75   \n",
       "18379  1222029077  20141029T000000  265000.0         0       0.75   \n",
       "4868   6896300380  20141002T000000  228000.0         0       1.00   \n",
       "\n",
       "       sqft_living  sqft_lot  floors  waterfront  view  ...  grade  \\\n",
       "19452          290     20875     1.0           0     0  ...      1   \n",
       "15381          370      1801     1.0           0     0  ...      5   \n",
       "860            380     15000     1.0           0     0  ...      5   \n",
       "18379          384    213444     1.0           0     0  ...      4   \n",
       "4868           390      5900     1.0           0     0  ...      4   \n",
       "\n",
       "       sqft_above  sqft_basement  yr_built  yr_renovated  zipcode      lat  \\\n",
       "19452         290              0      1963             0    98024  47.5308   \n",
       "15381         370              0      1923             0    98117  47.6778   \n",
       "860           380              0      1963             0    98168  47.4810   \n",
       "18379         384              0      2003             0    98070  47.4177   \n",
       "4868          390              0      1953             0    98118  47.5260   \n",
       "\n",
       "          long  sqft_living15  sqft_lot15  \n",
       "19452 -121.888           1620       22850  \n",
       "15381 -122.389           1340        5000  \n",
       "860   -122.323           1170       15000  \n",
       "18379 -122.491           1920      224341  \n",
       "4868  -122.261           2170        6000  \n",
       "\n",
       "[5 rows x 21 columns]"
      ]
     },
     "execution_count": 88,
     "metadata": {},
     "output_type": "execute_result"
    }
   ],
   "source": [
    "data.head()"
   ]
  },
  {
   "cell_type": "code",
   "execution_count": 89,
   "metadata": {},
   "outputs": [
    {
     "data": {
      "text/html": [
       "<div>\n",
       "<style scoped>\n",
       "    .dataframe tbody tr th:only-of-type {\n",
       "        vertical-align: middle;\n",
       "    }\n",
       "\n",
       "    .dataframe tbody tr th {\n",
       "        vertical-align: top;\n",
       "    }\n",
       "\n",
       "    .dataframe thead th {\n",
       "        text-align: right;\n",
       "    }\n",
       "</style>\n",
       "<table border=\"1\" class=\"dataframe\">\n",
       "  <thead>\n",
       "    <tr style=\"text-align: right;\">\n",
       "      <th></th>\n",
       "      <th>id</th>\n",
       "      <th>date</th>\n",
       "      <th>price</th>\n",
       "      <th>bedrooms</th>\n",
       "      <th>bathrooms</th>\n",
       "      <th>sqft_living</th>\n",
       "      <th>sqft_lot</th>\n",
       "      <th>floors</th>\n",
       "      <th>waterfront</th>\n",
       "      <th>view</th>\n",
       "      <th>...</th>\n",
       "      <th>grade</th>\n",
       "      <th>sqft_above</th>\n",
       "      <th>sqft_basement</th>\n",
       "      <th>yr_built</th>\n",
       "      <th>yr_renovated</th>\n",
       "      <th>zipcode</th>\n",
       "      <th>lat</th>\n",
       "      <th>long</th>\n",
       "      <th>sqft_living15</th>\n",
       "      <th>sqft_lot15</th>\n",
       "    </tr>\n",
       "  </thead>\n",
       "  <tbody>\n",
       "    <tr>\n",
       "      <th>19452</th>\n",
       "      <td>3980300371</td>\n",
       "      <td>20140926T000000</td>\n",
       "      <td>142000.0</td>\n",
       "      <td>0</td>\n",
       "      <td>0.00</td>\n",
       "      <td>290</td>\n",
       "      <td>20875</td>\n",
       "      <td>1.0</td>\n",
       "      <td>0</td>\n",
       "      <td>0</td>\n",
       "      <td>...</td>\n",
       "      <td>1</td>\n",
       "      <td>290</td>\n",
       "      <td>0</td>\n",
       "      <td>1963</td>\n",
       "      <td>0</td>\n",
       "      <td>98024</td>\n",
       "      <td>47.5308</td>\n",
       "      <td>-121.888</td>\n",
       "      <td>1620</td>\n",
       "      <td>22850</td>\n",
       "    </tr>\n",
       "    <tr>\n",
       "      <th>15381</th>\n",
       "      <td>2856101479</td>\n",
       "      <td>20140701T000000</td>\n",
       "      <td>276000.0</td>\n",
       "      <td>1</td>\n",
       "      <td>0.75</td>\n",
       "      <td>370</td>\n",
       "      <td>1801</td>\n",
       "      <td>1.0</td>\n",
       "      <td>0</td>\n",
       "      <td>0</td>\n",
       "      <td>...</td>\n",
       "      <td>5</td>\n",
       "      <td>370</td>\n",
       "      <td>0</td>\n",
       "      <td>1923</td>\n",
       "      <td>0</td>\n",
       "      <td>98117</td>\n",
       "      <td>47.6778</td>\n",
       "      <td>-122.389</td>\n",
       "      <td>1340</td>\n",
       "      <td>5000</td>\n",
       "    </tr>\n",
       "    <tr>\n",
       "      <th>860</th>\n",
       "      <td>1723049033</td>\n",
       "      <td>20140620T000000</td>\n",
       "      <td>245000.0</td>\n",
       "      <td>1</td>\n",
       "      <td>0.75</td>\n",
       "      <td>380</td>\n",
       "      <td>15000</td>\n",
       "      <td>1.0</td>\n",
       "      <td>0</td>\n",
       "      <td>0</td>\n",
       "      <td>...</td>\n",
       "      <td>5</td>\n",
       "      <td>380</td>\n",
       "      <td>0</td>\n",
       "      <td>1963</td>\n",
       "      <td>0</td>\n",
       "      <td>98168</td>\n",
       "      <td>47.4810</td>\n",
       "      <td>-122.323</td>\n",
       "      <td>1170</td>\n",
       "      <td>15000</td>\n",
       "    </tr>\n",
       "    <tr>\n",
       "      <th>18379</th>\n",
       "      <td>1222029077</td>\n",
       "      <td>20141029T000000</td>\n",
       "      <td>265000.0</td>\n",
       "      <td>0</td>\n",
       "      <td>0.75</td>\n",
       "      <td>384</td>\n",
       "      <td>213444</td>\n",
       "      <td>1.0</td>\n",
       "      <td>0</td>\n",
       "      <td>0</td>\n",
       "      <td>...</td>\n",
       "      <td>4</td>\n",
       "      <td>384</td>\n",
       "      <td>0</td>\n",
       "      <td>2003</td>\n",
       "      <td>0</td>\n",
       "      <td>98070</td>\n",
       "      <td>47.4177</td>\n",
       "      <td>-122.491</td>\n",
       "      <td>1920</td>\n",
       "      <td>224341</td>\n",
       "    </tr>\n",
       "    <tr>\n",
       "      <th>4868</th>\n",
       "      <td>6896300380</td>\n",
       "      <td>20141002T000000</td>\n",
       "      <td>228000.0</td>\n",
       "      <td>0</td>\n",
       "      <td>1.00</td>\n",
       "      <td>390</td>\n",
       "      <td>5900</td>\n",
       "      <td>1.0</td>\n",
       "      <td>0</td>\n",
       "      <td>0</td>\n",
       "      <td>...</td>\n",
       "      <td>4</td>\n",
       "      <td>390</td>\n",
       "      <td>0</td>\n",
       "      <td>1953</td>\n",
       "      <td>0</td>\n",
       "      <td>98118</td>\n",
       "      <td>47.5260</td>\n",
       "      <td>-122.261</td>\n",
       "      <td>2170</td>\n",
       "      <td>6000</td>\n",
       "    </tr>\n",
       "  </tbody>\n",
       "</table>\n",
       "<p>5 rows × 21 columns</p>\n",
       "</div>"
      ],
      "text/plain": [
       "               id             date     price  bedrooms  bathrooms  \\\n",
       "19452  3980300371  20140926T000000  142000.0         0       0.00   \n",
       "15381  2856101479  20140701T000000  276000.0         1       0.75   \n",
       "860    1723049033  20140620T000000  245000.0         1       0.75   \n",
       "18379  1222029077  20141029T000000  265000.0         0       0.75   \n",
       "4868   6896300380  20141002T000000  228000.0         0       1.00   \n",
       "\n",
       "       sqft_living  sqft_lot  floors  waterfront  view  ...  grade  \\\n",
       "19452          290     20875     1.0           0     0  ...      1   \n",
       "15381          370      1801     1.0           0     0  ...      5   \n",
       "860            380     15000     1.0           0     0  ...      5   \n",
       "18379          384    213444     1.0           0     0  ...      4   \n",
       "4868           390      5900     1.0           0     0  ...      4   \n",
       "\n",
       "       sqft_above  sqft_basement  yr_built  yr_renovated  zipcode      lat  \\\n",
       "19452         290              0      1963             0    98024  47.5308   \n",
       "15381         370              0      1923             0    98117  47.6778   \n",
       "860           380              0      1963             0    98168  47.4810   \n",
       "18379         384              0      2003             0    98070  47.4177   \n",
       "4868          390              0      1953             0    98118  47.5260   \n",
       "\n",
       "          long  sqft_living15  sqft_lot15  \n",
       "19452 -121.888           1620       22850  \n",
       "15381 -122.389           1340        5000  \n",
       "860   -122.323           1170       15000  \n",
       "18379 -122.491           1920      224341  \n",
       "4868  -122.261           2170        6000  \n",
       "\n",
       "[5 rows x 21 columns]"
      ]
     },
     "execution_count": 89,
     "metadata": {},
     "output_type": "execute_result"
    }
   ],
   "source": [
    "# sort by sqft and if same,then by price\n",
    "data=data.sort_values(['sqft_living','price'])\n",
    "data.head()"
   ]
  },
  {
   "cell_type": "code",
   "execution_count": 90,
   "metadata": {},
   "outputs": [
    {
     "data": {
      "text/html": [
       "<div>\n",
       "<style scoped>\n",
       "    .dataframe tbody tr th:only-of-type {\n",
       "        vertical-align: middle;\n",
       "    }\n",
       "\n",
       "    .dataframe tbody tr th {\n",
       "        vertical-align: top;\n",
       "    }\n",
       "\n",
       "    .dataframe thead th {\n",
       "        text-align: right;\n",
       "    }\n",
       "</style>\n",
       "<table border=\"1\" class=\"dataframe\">\n",
       "  <thead>\n",
       "    <tr style=\"text-align: right;\">\n",
       "      <th></th>\n",
       "      <th>power_1</th>\n",
       "      <th>price</th>\n",
       "    </tr>\n",
       "  </thead>\n",
       "  <tbody>\n",
       "    <tr>\n",
       "      <th>19452</th>\n",
       "      <td>290</td>\n",
       "      <td>142000.0</td>\n",
       "    </tr>\n",
       "    <tr>\n",
       "      <th>15381</th>\n",
       "      <td>370</td>\n",
       "      <td>276000.0</td>\n",
       "    </tr>\n",
       "    <tr>\n",
       "      <th>860</th>\n",
       "      <td>380</td>\n",
       "      <td>245000.0</td>\n",
       "    </tr>\n",
       "    <tr>\n",
       "      <th>18379</th>\n",
       "      <td>384</td>\n",
       "      <td>265000.0</td>\n",
       "    </tr>\n",
       "    <tr>\n",
       "      <th>4868</th>\n",
       "      <td>390</td>\n",
       "      <td>228000.0</td>\n",
       "    </tr>\n",
       "  </tbody>\n",
       "</table>\n",
       "</div>"
      ],
      "text/plain": [
       "       power_1     price\n",
       "19452      290  142000.0\n",
       "15381      370  276000.0\n",
       "860        380  245000.0\n",
       "18379      384  265000.0\n",
       "4868       390  228000.0"
      ]
     },
     "execution_count": 90,
     "metadata": {},
     "output_type": "execute_result"
    }
   ],
   "source": [
    "# 1 deg polynomial feat of sqft\n",
    "poly1_data = polynomial_frame(data['sqft_living'],1)\n",
    "poly1_data['price']=data['price']\n",
    "poly1_data.head()"
   ]
  },
  {
   "cell_type": "code",
   "execution_count": 91,
   "metadata": {},
   "outputs": [
    {
     "name": "stdout",
     "output_type": "stream",
     "text": [
      "[[280.6235679]]\n",
      "[-43580.74309447]\n"
     ]
    }
   ],
   "source": [
    "# Linear regression\n",
    "reg1=LinearRegression()\n",
    "x1=poly1_data.loc[:,['power_1']]\n",
    "y1=poly1_data.loc[:,['price']]\n",
    "reg1.fit(x1,y1)\n",
    "print(reg1.coef_)\n",
    "print(reg1.intercept_)"
   ]
  },
  {
   "cell_type": "code",
   "execution_count": 92,
   "metadata": {},
   "outputs": [],
   "source": [
    "pred1=reg1.predict(x1)"
   ]
  },
  {
   "cell_type": "code",
   "execution_count": 93,
   "metadata": {},
   "outputs": [
    {
     "data": {
      "image/png": "[encoded data removed]",
      "text/plain": [
       "<Figure size 432x288 with 1 Axes>"
      ]
     },
     "metadata": {
      "needs_background": "light"
     },
     "output_type": "display_data"
    }
   ],
   "source": [
    "plt.plot(x1,y1,'.',x1,pred1,'-')\n",
    "plt.show()"
   ]
  },
  {
   "cell_type": "code",
   "execution_count": 94,
   "metadata": {},
   "outputs": [
    {
     "data": {
      "text/html": [
       "<div>\n",
       "<style scoped>\n",
       "    .dataframe tbody tr th:only-of-type {\n",
       "        vertical-align: middle;\n",
       "    }\n",
       "\n",
       "    .dataframe tbody tr th {\n",
       "        vertical-align: top;\n",
       "    }\n",
       "\n",
       "    .dataframe thead th {\n",
       "        text-align: right;\n",
       "    }\n",
       "</style>\n",
       "<table border=\"1\" class=\"dataframe\">\n",
       "  <thead>\n",
       "    <tr style=\"text-align: right;\">\n",
       "      <th></th>\n",
       "      <th>power_1</th>\n",
       "      <th>power_2</th>\n",
       "      <th>price</th>\n",
       "    </tr>\n",
       "  </thead>\n",
       "  <tbody>\n",
       "    <tr>\n",
       "      <th>19452</th>\n",
       "      <td>290</td>\n",
       "      <td>84100</td>\n",
       "      <td>142000.0</td>\n",
       "    </tr>\n",
       "    <tr>\n",
       "      <th>15381</th>\n",
       "      <td>370</td>\n",
       "      <td>136900</td>\n",
       "      <td>276000.0</td>\n",
       "    </tr>\n",
       "    <tr>\n",
       "      <th>860</th>\n",
       "      <td>380</td>\n",
       "      <td>144400</td>\n",
       "      <td>245000.0</td>\n",
       "    </tr>\n",
       "    <tr>\n",
       "      <th>18379</th>\n",
       "      <td>384</td>\n",
       "      <td>147456</td>\n",
       "      <td>265000.0</td>\n",
       "    </tr>\n",
       "    <tr>\n",
       "      <th>4868</th>\n",
       "      <td>390</td>\n",
       "      <td>152100</td>\n",
       "      <td>228000.0</td>\n",
       "    </tr>\n",
       "  </tbody>\n",
       "</table>\n",
       "</div>"
      ],
      "text/plain": [
       "       power_1  power_2     price\n",
       "19452      290    84100  142000.0\n",
       "15381      370   136900  276000.0\n",
       "860        380   144400  245000.0\n",
       "18379      384   147456  265000.0\n",
       "4868       390   152100  228000.0"
      ]
     },
     "execution_count": 94,
     "metadata": {},
     "output_type": "execute_result"
    }
   ],
   "source": [
    "# 2 deg polynomial feat of sqft\n",
    "poly2_data = polynomial_frame(data['sqft_living'],2)\n",
    "poly2_data['price']=data['price']\n",
    "poly2_data.head()"
   ]
  },
  {
   "cell_type": "code",
   "execution_count": 95,
   "metadata": {},
   "outputs": [
    {
     "name": "stdout",
     "output_type": "stream",
     "text": [
      "[[6.79940947e+01 3.85812609e-02]]\n",
      "[199222.27930549]\n"
     ]
    }
   ],
   "source": [
    "# Linear regression\n",
    "reg2=LinearRegression()\n",
    "x2=poly2_data.loc[:,['power_1','power_2']]\n",
    "y2=poly2_data.loc[:,['price']]\n",
    "reg2.fit(x2,y2)\n",
    "print(reg2.coef_)\n",
    "print(reg2.intercept_)"
   ]
  },
  {
   "cell_type": "code",
   "execution_count": 96,
   "metadata": {},
   "outputs": [],
   "source": [
    "pred2=reg2.predict(x2)"
   ]
  },
  {
   "cell_type": "code",
   "execution_count": 97,
   "metadata": {},
   "outputs": [
    {
     "data": {
      "image/png": "[encoded data removed]",
      "text/plain": [
       "<Figure size 432x288 with 1 Axes>"
      ]
     },
     "metadata": {
      "needs_background": "light"
     },
     "output_type": "display_data"
    }
   ],
   "source": [
    "plt.plot(x2['power_1'],y2,'.',x2['power_1'],pred2,'-')\n",
    "plt.show()"
   ]
  },
  {
   "cell_type": "code",
   "execution_count": 98,
   "metadata": {},
   "outputs": [
    {
     "data": {
      "text/html": [
       "<div>\n",
       "<style scoped>\n",
       "    .dataframe tbody tr th:only-of-type {\n",
       "        vertical-align: middle;\n",
       "    }\n",
       "\n",
       "    .dataframe tbody tr th {\n",
       "        vertical-align: top;\n",
       "    }\n",
       "\n",
       "    .dataframe thead th {\n",
       "        text-align: right;\n",
       "    }\n",
       "</style>\n",
       "<table border=\"1\" class=\"dataframe\">\n",
       "  <thead>\n",
       "    <tr style=\"text-align: right;\">\n",
       "      <th></th>\n",
       "      <th>power_1</th>\n",
       "      <th>power_2</th>\n",
       "      <th>power_3</th>\n",
       "      <th>price</th>\n",
       "    </tr>\n",
       "  </thead>\n",
       "  <tbody>\n",
       "    <tr>\n",
       "      <th>19452</th>\n",
       "      <td>290</td>\n",
       "      <td>84100</td>\n",
       "      <td>24389000</td>\n",
       "      <td>142000.0</td>\n",
       "    </tr>\n",
       "    <tr>\n",
       "      <th>15381</th>\n",
       "      <td>370</td>\n",
       "      <td>136900</td>\n",
       "      <td>50653000</td>\n",
       "      <td>276000.0</td>\n",
       "    </tr>\n",
       "    <tr>\n",
       "      <th>860</th>\n",
       "      <td>380</td>\n",
       "      <td>144400</td>\n",
       "      <td>54872000</td>\n",
       "      <td>245000.0</td>\n",
       "    </tr>\n",
       "    <tr>\n",
       "      <th>18379</th>\n",
       "      <td>384</td>\n",
       "      <td>147456</td>\n",
       "      <td>56623104</td>\n",
       "      <td>265000.0</td>\n",
       "    </tr>\n",
       "    <tr>\n",
       "      <th>4868</th>\n",
       "      <td>390</td>\n",
       "      <td>152100</td>\n",
       "      <td>59319000</td>\n",
       "      <td>228000.0</td>\n",
       "    </tr>\n",
       "  </tbody>\n",
       "</table>\n",
       "</div>"
      ],
      "text/plain": [
       "       power_1  power_2   power_3     price\n",
       "19452      290    84100  24389000  142000.0\n",
       "15381      370   136900  50653000  276000.0\n",
       "860        380   144400  54872000  245000.0\n",
       "18379      384   147456  56623104  265000.0\n",
       "4868       390   152100  59319000  228000.0"
      ]
     },
     "execution_count": 98,
     "metadata": {},
     "output_type": "execute_result"
    }
   ],
   "source": [
    "# 3 deg polynomial feat of sqft\n",
    "poly3_data = polynomial_frame(data['sqft_living'],3)\n",
    "poly3_data['price']=data['price']\n",
    "poly3_data.head()"
   ]
  },
  {
   "cell_type": "code",
   "execution_count": 99,
   "metadata": {},
   "outputs": [
    {
     "name": "stdout",
     "output_type": "stream",
     "text": [
      "[[-9.01819864e+01  8.70465089e-02 -3.84055260e-06]]\n",
      "[336819.74822121]\n"
     ]
    }
   ],
   "source": [
    "# Linear regression\n",
    "reg3=LinearRegression()\n",
    "x3=poly3_data.loc[:,['power_1','power_2','power_3']]\n",
    "y3=poly3_data.loc[:,['price']]\n",
    "reg3.fit(x3,y3)\n",
    "print(reg3.coef_)\n",
    "print(reg3.intercept_)"
   ]
  },
  {
   "cell_type": "code",
   "execution_count": 100,
   "metadata": {},
   "outputs": [],
   "source": [
    "pred3=reg3.predict(x3)"
   ]
  },
  {
   "cell_type": "code",
   "execution_count": 101,
   "metadata": {},
   "outputs": [
    {
     "data": {
      "image/png": "[encoded data removed]",
      "text/plain": [
       "<Figure size 432x288 with 1 Axes>"
      ]
     },
     "metadata": {
      "needs_background": "light"
     },
     "output_type": "display_data"
    }
   ],
   "source": [
    "plt.plot(x3['power_1'],y3,'.',x3['power_1'],pred3,'-')\n",
    "plt.show()"
   ]
  },
  {
   "cell_type": "code",
   "execution_count": 102,
   "metadata": {},
   "outputs": [
    {
     "data": {
      "text/html": [
       "<div>\n",
       "<style scoped>\n",
       "    .dataframe tbody tr th:only-of-type {\n",
       "        vertical-align: middle;\n",
       "    }\n",
       "\n",
       "    .dataframe tbody tr th {\n",
       "        vertical-align: top;\n",
       "    }\n",
       "\n",
       "    .dataframe thead th {\n",
       "        text-align: right;\n",
       "    }\n",
       "</style>\n",
       "<table border=\"1\" class=\"dataframe\">\n",
       "  <thead>\n",
       "    <tr style=\"text-align: right;\">\n",
       "      <th></th>\n",
       "      <th>power_1</th>\n",
       "      <th>power_2</th>\n",
       "      <th>power_3</th>\n",
       "      <th>power_4</th>\n",
       "      <th>power_5</th>\n",
       "      <th>power_6</th>\n",
       "      <th>power_7</th>\n",
       "      <th>power_8</th>\n",
       "      <th>power_9</th>\n",
       "      <th>power_10</th>\n",
       "      <th>power_11</th>\n",
       "      <th>power_12</th>\n",
       "      <th>power_13</th>\n",
       "      <th>power_14</th>\n",
       "      <th>power_15</th>\n",
       "      <th>price</th>\n",
       "    </tr>\n",
       "  </thead>\n",
       "  <tbody>\n",
       "    <tr>\n",
       "      <th>19452</th>\n",
       "      <td>290</td>\n",
       "      <td>84100</td>\n",
       "      <td>24389000</td>\n",
       "      <td>7072810000</td>\n",
       "      <td>2051114900000</td>\n",
       "      <td>594823321000000</td>\n",
       "      <td>172498763090000000</td>\n",
       "      <td>-5315590925028654848</td>\n",
       "      <td>8005133933292429824</td>\n",
       "      <td>-2800912632598854656</td>\n",
       "      <td>-607924210447579136</td>\n",
       "      <td>8169419707297566720</td>\n",
       "      <td>7948473681471741952</td>\n",
       "      <td>-785641586888785920</td>\n",
       "      <td>-6475131313233297408</td>\n",
       "      <td>142000.0</td>\n",
       "    </tr>\n",
       "    <tr>\n",
       "      <th>15381</th>\n",
       "      <td>370</td>\n",
       "      <td>136900</td>\n",
       "      <td>50653000</td>\n",
       "      <td>18741610000</td>\n",
       "      <td>6934395700000</td>\n",
       "      <td>2565726409000000</td>\n",
       "      <td>949318771330000000</td>\n",
       "      <td>759807991618519296</td>\n",
       "      <td>4427795793208865280</td>\n",
       "      <td>-3475779072869940224</td>\n",
       "      <td>5233828197790730240</td>\n",
       "      <td>-391694556932730880</td>\n",
       "      <td>2646966524565987328</td>\n",
       "      <td>1700178182809075712</td>\n",
       "      <td>1876629133233258496</td>\n",
       "      <td>276000.0</td>\n",
       "    </tr>\n",
       "    <tr>\n",
       "      <th>860</th>\n",
       "      <td>380</td>\n",
       "      <td>144400</td>\n",
       "      <td>54872000</td>\n",
       "      <td>20851360000</td>\n",
       "      <td>7923516800000</td>\n",
       "      <td>3010936384000000</td>\n",
       "      <td>1144155825920000000</td>\n",
       "      <td>-7942643919429238784</td>\n",
       "      <td>7061338705255727104</td>\n",
       "      <td>8530817309291315200</td>\n",
       "      <td>-4916379442181308416</td>\n",
       "      <td>-5103036584232484864</td>\n",
       "      <td>-2245774268841328640</td>\n",
       "      <td>-4843994769065508864</td>\n",
       "      <td>3956395126061793280</td>\n",
       "      <td>245000.0</td>\n",
       "    </tr>\n",
       "    <tr>\n",
       "      <th>18379</th>\n",
       "      <td>384</td>\n",
       "      <td>147456</td>\n",
       "      <td>56623104</td>\n",
       "      <td>21743271936</td>\n",
       "      <td>8349416423424</td>\n",
       "      <td>3206175906594816</td>\n",
       "      <td>1231171548132409344</td>\n",
       "      <td>-6845471433603153920</td>\n",
       "      <td>-9223372036854775808</td>\n",
       "      <td>0</td>\n",
       "      <td>0</td>\n",
       "      <td>0</td>\n",
       "      <td>0</td>\n",
       "      <td>0</td>\n",
       "      <td>0</td>\n",
       "      <td>265000.0</td>\n",
       "    </tr>\n",
       "    <tr>\n",
       "      <th>4868</th>\n",
       "      <td>390</td>\n",
       "      <td>152100</td>\n",
       "      <td>59319000</td>\n",
       "      <td>23134410000</td>\n",
       "      <td>9022419900000</td>\n",
       "      <td>3518743761000000</td>\n",
       "      <td>1372310066790000000</td>\n",
       "      <td>245347910523003136</td>\n",
       "      <td>3451964735423464960</td>\n",
       "      <td>-346070565645933568</td>\n",
       "      <td>-5840312085947230208</td>\n",
       "      <td>-8772192453144932352</td>\n",
       "      <td>-8507403090256568320</td>\n",
       "      <td>2526728067657646080</td>\n",
       "      <td>7746510479875735552</td>\n",
       "      <td>228000.0</td>\n",
       "    </tr>\n",
       "  </tbody>\n",
       "</table>\n",
       "</div>"
      ],
      "text/plain": [
       "       power_1  power_2   power_3      power_4        power_5  \\\n",
       "19452      290    84100  24389000   7072810000  2051114900000   \n",
       "15381      370   136900  50653000  18741610000  6934395700000   \n",
       "860        380   144400  54872000  20851360000  7923516800000   \n",
       "18379      384   147456  56623104  21743271936  8349416423424   \n",
       "4868       390   152100  59319000  23134410000  9022419900000   \n",
       "\n",
       "                power_6              power_7              power_8  \\\n",
       "19452   594823321000000   172498763090000000 -5315590925028654848   \n",
       "15381  2565726409000000   949318771330000000   759807991618519296   \n",
       "860    3010936384000000  1144155825920000000 -7942643919429238784   \n",
       "18379  3206175906594816  1231171548132409344 -6845471433603153920   \n",
       "4868   3518743761000000  1372310066790000000   245347910523003136   \n",
       "\n",
       "                   power_9             power_10             power_11  \\\n",
       "19452  8005133933292429824 -2800912632598854656  -607924210447579136   \n",
       "15381  4427795793208865280 -3475779072869940224  5233828197790730240   \n",
       "860    7061338705255727104  8530817309291315200 -4916379442181308416   \n",
       "18379 -9223372036854775808                    0                    0   \n",
       "4868   3451964735423464960  -346070565645933568 -5840312085947230208   \n",
       "\n",
       "                  power_12             power_13             power_14  \\\n",
       "19452  8169419707297566720  7948473681471741952  -785641586888785920   \n",
       "15381  -391694556932730880  2646966524565987328  1700178182809075712   \n",
       "860   -5103036584232484864 -2245774268841328640 -4843994769065508864   \n",
       "18379                    0                    0                    0   \n",
       "4868  -8772192453144932352 -8507403090256568320  2526728067657646080   \n",
       "\n",
       "                  power_15     price  \n",
       "19452 -6475131313233297408  142000.0  \n",
       "15381  1876629133233258496  276000.0  \n",
       "860    3956395126061793280  245000.0  \n",
       "18379                    0  265000.0  \n",
       "4868   7746510479875735552  228000.0  "
      ]
     },
     "execution_count": 102,
     "metadata": {},
     "output_type": "execute_result"
    }
   ],
   "source": [
    "# 15 deg polynomial feat of sqft\n",
    "poly15_data = polynomial_frame(data['sqft_living'],15)\n",
    "poly15_data['price']=data['price']\n",
    "poly15_data.head()"
   ]
  },
  {
   "cell_type": "code",
   "execution_count": 109,
   "metadata": {},
   "outputs": [
    {
     "name": "stdout",
     "output_type": "stream",
     "text": [
      "[[ 1.71168068e-05  4.21744511e-02  4.60390766e-06 -4.52621788e-10\n",
      "  -2.28180335e-14 -2.19978034e-16 -5.23475998e-16  3.53710233e-16\n",
      "  -2.03742921e-16 -2.66640678e-16  1.03339888e-16  7.25319004e-16\n",
      "   4.31646849e-16 -4.01761092e-16  4.80891588e-17]]\n",
      "[279955.71850603]\n"
     ]
    }
   ],
   "source": [
    "# Linear regression\n",
    "reg15=LinearRegression()\n",
    "x15=poly15_data.iloc[:,:-1]\n",
    "y15=poly15_data.loc[:,['price']]\n",
    "reg15.fit(x15,y15)\n",
    "print(reg15.coef_)\n",
    "print(reg15.intercept_)"
   ]
  },
  {
   "cell_type": "code",
   "execution_count": 110,
   "metadata": {},
   "outputs": [],
   "source": [
    "pred15=reg15.predict(x15)"
   ]
  },
  {
   "cell_type": "code",
   "execution_count": 111,
   "metadata": {},
   "outputs": [
    {
     "data": {
      "image/png": "[encoded data removed]",
      "text/plain": [
       "<Figure size 432x288 with 1 Axes>"
      ]
     },
     "metadata": {
      "needs_background": "light"
     },
     "output_type": "display_data"
    }
   ],
   "source": [
    "plt.plot(x15['power_1'],y15,'.',x15['power_1'],pred15,'-')\n",
    "plt.show()"
   ]
  },
  {
   "cell_type": "code",
   "execution_count": 171,
   "metadata": {},
   "outputs": [],
   "source": [
    "## set1\n",
    "# 15 deg polynomial feat of sqft\n",
    "set1_poly15_data = polynomial_frame(set1['sqft_living'],15)\n",
    "set1_poly15_data['price']=set1['price']\n",
    "set1_x=set1_poly15_data.iloc[:,:-1]\n",
    "set1_y=set1_poly15_data.loc[:,['price']]"
   ]
  },
  {
   "cell_type": "code",
   "execution_count": 173,
   "metadata": {},
   "outputs": [],
   "source": [
    "## set2\n",
    "# 15 deg polynomial feat of sqft\n",
    "set2_poly15_data = polynomial_frame(set2['sqft_living'],15)\n",
    "set2_poly15_data['price']=set2['price']\n",
    "set2_x=set2_poly15_data.iloc[:,:-1]\n",
    "set2_y=set2_poly15_data.loc[:,['price']]"
   ]
  },
  {
   "cell_type": "code",
   "execution_count": 174,
   "metadata": {},
   "outputs": [],
   "source": [
    "## set3\n",
    "# 15 deg polynomial feat of sqft\n",
    "set3_poly15_data = polynomial_frame(set3['sqft_living'],15)\n",
    "set3_poly15_data['price']=set3['price']\n",
    "set3_x=set3_poly15_data.iloc[:,:-1]\n",
    "set3_y=set3_poly15_data.loc[:,['price']]"
   ]
  },
  {
   "cell_type": "code",
   "execution_count": 175,
   "metadata": {},
   "outputs": [],
   "source": [
    "## set4\n",
    "# 15 deg polynomial feat of sqft\n",
    "set4_poly15_data = polynomial_frame(set4['sqft_living'],15)\n",
    "set4_poly15_data['price']=set4['price']\n",
    "set4_x=set4_poly15_data.iloc[:,:-1]\n",
    "set4_y=set4_poly15_data.loc[:,['price']]"
   ]
  },
  {
   "cell_type": "code",
   "execution_count": 176,
   "metadata": {},
   "outputs": [
    {
     "name": "stdout",
     "output_type": "stream",
     "text": [
      "[[ 1.76465570e-05  4.45411488e-02  4.13661127e-06 -4.48047730e-10\n",
      "  -2.26415636e-14  9.47776069e-17 -7.16721519e-16  2.96537617e-16\n",
      "  -1.73358528e-16 -1.27779846e-15  1.25167532e-16  5.57248802e-16\n",
      "   2.07555800e-16 -3.22162649e-16 -3.76775605e-16]]\n",
      "[274622.34664846]\n"
     ]
    }
   ],
   "source": [
    "# Linear regression\n",
    "model1=LinearRegression()\n",
    "model1.fit(set1_x,set1_y)\n",
    "print(model1.coef_)\n",
    "print(model1.intercept_)"
   ]
  },
  {
   "cell_type": "code",
   "execution_count": 177,
   "metadata": {},
   "outputs": [
    {
     "name": "stdout",
     "output_type": "stream",
     "text": [
      "[[ 3.01032105e-05  6.13674780e-02 -2.50352414e-06  1.10951666e-10\n",
      "  -1.77576004e-14  8.10927198e-16 -3.66237744e-16 -2.99793943e-16\n",
      "  -6.06915744e-16  3.77138800e-16  7.09391481e-16  7.63202526e-16\n",
      "   1.03013671e-15 -4.68999478e-16  1.32895389e-15]]\n",
      "[255755.68714909]\n"
     ]
    }
   ],
   "source": [
    "# Linear regression\n",
    "model2=LinearRegression()\n",
    "model2.fit(set2_x,set2_y)\n",
    "print(model2.coef_)\n",
    "print(model2.intercept_)"
   ]
  },
  {
   "cell_type": "code",
   "execution_count": 178,
   "metadata": {},
   "outputs": [
    {
     "name": "stdout",
     "output_type": "stream",
     "text": [
      "[[ 3.05432187e-05  6.76809518e-02 -5.33065238e-06  4.60008835e-10\n",
      "  -1.32875407e-14 -1.74887829e-16 -3.81531333e-16  5.60900764e-16\n",
      "   4.46605816e-16  5.33703005e-16 -2.14963500e-16  1.14265835e-15\n",
      "   6.13520928e-16  3.27057039e-16 -2.49251841e-16]]\n",
      "[251924.85041412]\n"
     ]
    }
   ],
   "source": [
    "# Linear regression\n",
    "model3=LinearRegression()\n",
    "model3.fit(set3_x,set3_y)\n",
    "print(model3.coef_)\n",
    "print(model3.intercept_)"
   ]
  },
  {
   "cell_type": "code",
   "execution_count": 179,
   "metadata": {},
   "outputs": [
    {
     "name": "stdout",
     "output_type": "stream",
     "text": [
      "[[ 2.92919406e-05  5.47717463e-02 -1.43998898e-06  7.39200236e-11\n",
      "   3.46686540e-14 -1.23460329e-15 -3.99075890e-16  8.93979247e-16\n",
      "  -4.93742778e-16 -5.39751027e-16  2.67529920e-16  4.01091283e-16\n",
      "   2.86797199e-16 -1.03553104e-15 -3.31834125e-16]]\n",
      "[269724.65584524]\n"
     ]
    }
   ],
   "source": [
    "# Linear regression\n",
    "model4=LinearRegression()\n",
    "model4.fit(set4_x,set4_y)\n",
    "print(model4.coef_)\n",
    "print(model4.intercept_)"
   ]
  },
  {
   "cell_type": "code",
   "execution_count": 180,
   "metadata": {},
   "outputs": [],
   "source": [
    "## predictions on 4 sets\n",
    "set1_pred15=model1.predict(set1_x)\n",
    "set2_pred15=model2.predict(set2_x)\n",
    "set3_pred15=model3.predict(set3_x)\n",
    "set4_pred15=model4.predict(set4_x)"
   ]
  },
  {
   "cell_type": "code",
   "execution_count": 181,
   "metadata": {},
   "outputs": [
    {
     "data": {
      "image/png": "[encoded data removed]",
      "text/plain": [
       "<Figure size 432x288 with 1 Axes>"
      ]
     },
     "metadata": {
      "needs_background": "light"
     },
     "output_type": "display_data"
    },
    {
     "data": {
      "image/png": "[encoded data removed]",
      "text/plain": [
       "<Figure size 432x288 with 1 Axes>"
      ]
     },
     "metadata": {
      "needs_background": "light"
     },
     "output_type": "display_data"
    },
    {
     "data": {
      "image/png": "[encoded data removed]",
      "text/plain": [
       "<Figure size 432x288 with 1 Axes>"
      ]
     },
     "metadata": {
      "needs_background": "light"
     },
     "output_type": "display_data"
    },
    {
     "data": {
      "image/png": "[encoded data removed]",
      "text/plain": [
       "<Figure size 432x288 with 1 Axes>"
      ]
     },
     "metadata": {
      "needs_background": "light"
     },
     "output_type": "display_data"
    }
   ],
   "source": [
    "plt.plot(set1_x['power_1'],set1_y,'.',set1_x['power_1'],set1_pred15,'-')\n",
    "plt.show()\n",
    "plt.plot(set2_x['power_1'],set2_y,'.',set2_x['power_1'],set2_pred15,'-')\n",
    "plt.show()\n",
    "plt.plot(set3_x['power_1'],set3_y,'.',set3_x['power_1'],set3_pred15,'-')\n",
    "plt.show()\n",
    "plt.plot(set4_x['power_1'],set4_y,'.',set4_x['power_1'],set4_pred15,'-')\n",
    "plt.show()"
   ]
  },
  {
   "cell_type": "code",
   "execution_count": 202,
   "metadata": {},
   "outputs": [],
   "source": [
    "## RSS\n",
    "def error(y,y_pred):\n",
    "    y=np.array(y)\n",
    "    y_pred=np.array(y_pred)\n",
    "    err=np.sum( (y-y_pred)**2 )\n",
    "    return err"
   ]
  },
  {
   "cell_type": "code",
   "execution_count": 203,
   "metadata": {},
   "outputs": [],
   "source": [
    "### train test valid\n",
    "err_list=[]\n",
    "for i in range(1,16):\n",
    "    # fit on train\n",
    "    poly_data = polynomial_frame(train['sqft_living'],i)\n",
    "    poly_data['price']=train['price']\n",
    "    reg=LinearRegression()\n",
    "    x=poly_data.iloc[:,:-1]\n",
    "    y=poly_data.loc[:,['price']]\n",
    "    reg.fit(x,y)\n",
    "    \n",
    "    #predict on valid\n",
    "    val_data = polynomial_frame(valid['sqft_living'],i)\n",
    "    val_data['price']=valid['price']\n",
    "    vx=val_data.iloc[:,:-1]\n",
    "    vy=val_data.loc[:,['price']]\n",
    "    y_pred=reg.predict(vx)\n",
    "    \n",
    "    # RSS \n",
    "    err=error(vy,y_pred)\n",
    "    err_list.append(err)"
   ]
  },
  {
   "cell_type": "code",
   "execution_count": 204,
   "metadata": {},
   "outputs": [
    {
     "name": "stdout",
     "output_type": "stream",
     "text": [
      "629097886299585.8\n",
      "623955062706518.1\n",
      "625820280251530.8\n",
      "629987335647053.1\n",
      "623373631170253.4\n",
      "623252426460508.5\n",
      "623163786697903.9\n",
      "623407590555017.8\n",
      "623336791262094.6\n",
      "623451321254633.9\n",
      "623557887390329.5\n",
      "623282158225152.5\n",
      "623230250005456.5\n",
      "623304085547162.4\n",
      "623407020802225.8\n"
     ]
    }
   ],
   "source": [
    "for e in err_list:\n",
    "    print(e)"
   ]
  },
  {
   "cell_type": "code",
   "execution_count": 205,
   "metadata": {},
   "outputs": [
    {
     "name": "stdout",
     "output_type": "stream",
     "text": [
      "6\n"
     ]
    }
   ],
   "source": [
    "# index of minimum rss\n",
    "err=np.array(err_list)\n",
    "ind=err.argmin()\n",
    "print(ind)   # ind=6 => degree=7  ## right ans=>6 check"
   ]
  },
  {
   "cell_type": "code",
   "execution_count": 206,
   "metadata": {},
   "outputs": [
    {
     "name": "stdout",
     "output_type": "stream",
     "text": [
      "136759307140676.89\n"
     ]
    }
   ],
   "source": [
    "# fit on train\n",
    "poly_data = polynomial_frame(train['sqft_living'],7)\n",
    "poly_data['price']=train['price']\n",
    "reg=LinearRegression()\n",
    "x=poly_data.iloc[:,:-1]\n",
    "y=poly_data.loc[:,['price']]\n",
    "reg.fit(x,y)\n",
    "    \n",
    "#predict on test\n",
    "t_data = polynomial_frame(test['sqft_living'],7)\n",
    "t_data['price']=test['price']\n",
    "tx=t_data.iloc[:,:-1]\n",
    "ty=t_data.loc[:,['price']]\n",
    "y_pred=reg.predict(tx)\n",
    "    \n",
    "# RSS \n",
    "err=error(ty,y_pred)\n",
    "print(err)"
   ]
  },
  {
   "cell_type": "code",
   "execution_count": 208,
   "metadata": {},
   "outputs": [
    {
     "data": {
      "text/plain": [
       "(9761, 21)"
      ]
     },
     "execution_count": 208,
     "metadata": {},
     "output_type": "execute_result"
    }
   ],
   "source": [
    "train.shape"
   ]
  },
  {
   "cell_type": "code",
   "execution_count": 209,
   "metadata": {},
   "outputs": [
    {
     "data": {
      "text/plain": [
       "(2217, 21)"
      ]
     },
     "execution_count": 209,
     "metadata": {},
     "output_type": "execute_result"
    }
   ],
   "source": [
    "test.shape"
   ]
  },
  {
   "cell_type": "code",
   "execution_count": 212,
   "metadata": {},
   "outputs": [
    {
     "data": {
      "text/plain": [
       "(5404, 21)"
      ]
     },
     "execution_count": 212,
     "metadata": {},
     "output_type": "execute_result"
    }
   ],
   "source": [
    "set1.shape"
   ]
  },
  {
   "cell_type": "code",
   "execution_count": 215,
   "metadata": {},
   "outputs": [
    {
     "data": {
      "text/plain": [
       "(5398, 21)"
      ]
     },
     "execution_count": 215,
     "metadata": {},
     "output_type": "execute_result"
    }
   ],
   "source": [
    "set2.shape"
   ]
  },
  {
   "cell_type": "code",
   "execution_count": 216,
   "metadata": {},
   "outputs": [
    {
     "data": {
      "text/plain": [
       "(5409, 21)"
      ]
     },
     "execution_count": 216,
     "metadata": {},
     "output_type": "execute_result"
    }
   ],
   "source": [
    "set3.shape"
   ]
  },
  {
   "cell_type": "code",
   "execution_count": 217,
   "metadata": {},
   "outputs": [
    {
     "data": {
      "text/plain": [
       "(5402, 21)"
      ]
     },
     "execution_count": 217,
     "metadata": {},
     "output_type": "execute_result"
    }
   ],
   "source": [
    "set4.shape"
   ]
  },
  {
   "cell_type": "code",
   "execution_count": 218,
   "metadata": {},
   "outputs": [
    {
     "data": {
      "text/plain": [
       "(9635, 21)"
      ]
     },
     "execution_count": 218,
     "metadata": {},
     "output_type": "execute_result"
    }
   ],
   "source": [
    "valid.shape"
   ]
  },
  {
   "cell_type": "code",
   "execution_count": 219,
   "metadata": {},
   "outputs": [
    {
     "data": {
      "text/plain": [
       "(21613, 21)"
      ]
     },
     "execution_count": 219,
     "metadata": {},
     "output_type": "execute_result"
    }
   ],
   "source": [
    "data.shape"
   ]
  },
  {
   "cell_type": "code",
   "execution_count": null,
   "metadata": {},
   "outputs": [],
   "source": []
  }
 ],
 "metadata": {
  "kernelspec": {
   "display_name": "Python 3",
   "language": "python",
   "name": "python3"
  },
  "language_info": {
   "codemirror_mode": {
    "name": "ipython",
    "version": 3
   },
   "file_extension": ".py",
   "mimetype": "text/x-python",
   "name": "python",
   "nbconvert_exporter": "python",
   "pygments_lexer": "ipython3",
   "version": "3.7.3"
  }
 },
 "nbformat": 4,
 "nbformat_minor": 2
}
