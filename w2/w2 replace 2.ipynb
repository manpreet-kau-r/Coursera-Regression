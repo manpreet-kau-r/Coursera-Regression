{
 "cells": [
  {
   "cell_type": "code",
   "execution_count": 1,
   "metadata": {},
   "outputs": [],
   "source": [
    "import numpy as np\n",
    "import pandas as pd\n",
    "import matplotlib.pyplot as plt\n",
    "from sklearn import metrics,model_selection\n",
    "from sklearn.linear_model import LinearRegression"
   ]
  },
  {
   "cell_type": "code",
   "execution_count": 2,
   "metadata": {},
   "outputs": [],
   "source": [
    "train=pd.read_csv('kc_house_train_data.csv')\n",
    "test=pd.read_csv('kc_house_test_data.csv')"
   ]
  },
  {
   "cell_type": "code",
   "execution_count": 3,
   "metadata": {},
   "outputs": [],
   "source": [
    "def get_numpy_data(df, feat, out):\n",
    "    df['constant'] = 1                          # add a constant col\n",
    "    feat = ['constant'] + feat\n",
    "    \n",
    "    feat_mat=df.loc[:,feat]\n",
    "    feat_mat = np.array(feat_mat)\n",
    "    \n",
    "    out_arr=df.loc[:,out]\n",
    "    out_arr = np.array(out_arr).reshape(-1,)\n",
    "    \n",
    "    return feat_mat, out_arr"
   ]
  },
  {
   "cell_type": "code",
   "execution_count": 4,
   "metadata": {},
   "outputs": [],
   "source": [
    "def predict_outcome(feat_mat, wts):\n",
    "    return np.dot(feat_mat,wts)"
   ]
  },
  {
   "cell_type": "code",
   "execution_count": 5,
   "metadata": {},
   "outputs": [],
   "source": [
    "def feature_derivative(feat_mat,out,wts):\n",
    "    m,n=feat_mat.shape\n",
    "    grad = np.zeros((n,))\n",
    "    y_pred=predict_outcome(feat_mat,wts)\n",
    "    grad=-2* np.dot( feat_mat.T , out-y_pred )\n",
    "    return grad"
   ]
  },
  {
   "cell_type": "code",
   "execution_count": 8,
   "metadata": {},
   "outputs": [],
   "source": [
    "def regression_gradient_descent(feat_mat, out, init_wts, step, tol):\n",
    "    converged = False\n",
    "    wts = np.array(init_wts)\n",
    "    while not converged:\n",
    "        y_pred=predict_outcome(feat_mat,wts)\n",
    "        error= np.sum( (out-y_pred)**2 )\n",
    "        \n",
    "        grad=feature_derivative(feat_mat,out,wts)\n",
    "        wts = wts - step*grad\n",
    "        \n",
    "        grad_sum_sq=np.sum(grad**2)    \n",
    "        grad_mag = np.sqrt(grad_sum_sq)\n",
    "        if grad_mag < tol:\n",
    "            converged = True\n",
    "    return wts"
   ]
  },
  {
   "cell_type": "code",
   "execution_count": 13,
   "metadata": {},
   "outputs": [],
   "source": [
    "feat=['sqft_living']\n",
    "out=['price']\n",
    "feat_mat,out_arr = get_numpy_data(train,feat,out)\n"
   ]
  },
  {
   "cell_type": "code",
   "execution_count": 10,
   "metadata": {},
   "outputs": [],
   "source": [
    "init_wts = [-47000,1]\n",
    "step = 7e-12\n",
    "tol = 2.5e7"
   ]
  },
  {
   "cell_type": "code",
   "execution_count": null,
   "metadata": {},
   "outputs": [],
   "source": [
    "wts = regression_gradient_descent(feat_mat,out_arr,init_wts,step,tol)"
   ]
  },
  {
   "cell_type": "code",
   "execution_count": null,
   "metadata": {},
   "outputs": [],
   "source": [
    "print(wts)"
   ]
  },
  {
   "cell_type": "code",
   "execution_count": null,
   "metadata": {},
   "outputs": [],
   "source": [
    "# predict on test data    # t for test\n",
    "tfeat_mat,tout_arr = get_numpy_data(test,feat,out)\n",
    "y_pred=predict_outcome(tfeat_mat,wts)"
   ]
  },
  {
   "cell_type": "code",
   "execution_count": null,
   "metadata": {},
   "outputs": [],
   "source": [
    "# first house price\n",
    "y_pred[0]"
   ]
  },
  {
   "cell_type": "code",
   "execution_count": null,
   "metadata": {},
   "outputs": [],
   "source": [
    "# RSS\n",
    "def error(feat_mat,wts,out):\n",
    "    y_pred=predict_outcome(feat_mat,wts)\n",
    "    err= np.sum( (out-y_pred)**2 )\n",
    "    return err"
   ]
  },
  {
   "cell_type": "code",
   "execution_count": null,
   "metadata": {},
   "outputs": [],
   "source": [
    "# RSS on test data\n",
    "err=error(tfeat_mat,wts,tout_arr)\n",
    "print(err)"
   ]
  },
  {
   "cell_type": "code",
   "execution_count": null,
   "metadata": {},
   "outputs": [],
   "source": [
    "## More than 1 feature matrix    # m for multiple\n",
    "model_feat = ['sqft_living', 'sqft_living15']\n",
    "my_out= 'price'\n",
    "mfeat_mat, mout = get_numpy_data(train, model_feat ,my_out)\n",
    "minit_wts = np.array([-100000., 1., 1.])\n",
    "mstep = 4e-12\n",
    "mtol = 1e9"
   ]
  },
  {
   "cell_type": "code",
   "execution_count": null,
   "metadata": {},
   "outputs": [],
   "source": [
    "mwts = regression_gradient_descent( mfeat_mat,mout,minit_wts,mstep,mtol )"
   ]
  },
  {
   "cell_type": "code",
   "execution_count": null,
   "metadata": {},
   "outputs": [],
   "source": [
    "print(mwts)"
   ]
  },
  {
   "cell_type": "code",
   "execution_count": null,
   "metadata": {},
   "outputs": [],
   "source": [
    "# predict on test data\n",
    "mtfeat_mat,mtout_arr = get_numpy_data(test,model_feat,my_out)\n",
    "y_pred=predict_outcome(mtfeat_mat,mwts)"
   ]
  },
  {
   "cell_type": "code",
   "execution_count": null,
   "metadata": {},
   "outputs": [],
   "source": [
    "# predicted price for 1st house\n",
    "y_pred[0]"
   ]
  },
  {
   "cell_type": "code",
   "execution_count": null,
   "metadata": {},
   "outputs": [],
   "source": [
    "# actual price for 1st house\n",
    "mtout_arr[0]        ### model 1 price is more closer to actual price than multiple feat model"
   ]
  },
  {
   "cell_type": "code",
   "execution_count": null,
   "metadata": {},
   "outputs": [],
   "source": [
    "## RSS for second model test data\n",
    "err2 = error(mtfeat_mat,mwts,mtout_arr)"
   ]
  },
  {
   "cell_type": "code",
   "execution_count": null,
   "metadata": {},
   "outputs": [],
   "source": [
    "print(err2)    ## this model has lower error"
   ]
  },
  {
   "cell_type": "code",
   "execution_count": null,
   "metadata": {},
   "outputs": [],
   "source": []
  },
  {
   "cell_type": "code",
   "execution_count": null,
   "metadata": {},
   "outputs": [],
   "source": []
  }
 ],
 "metadata": {
  "kernelspec": {
   "display_name": "Python 3",
   "language": "python",
   "name": "python3"
  },
  "language_info": {
   "codemirror_mode": {
    "name": "ipython",
    "version": 3
   },
   "file_extension": ".py",
   "mimetype": "text/x-python",
   "name": "python",
   "nbconvert_exporter": "python",
   "pygments_lexer": "ipython3",
   "version": "3.7.3"
  }
 },
 "nbformat": 4,
 "nbformat_minor": 2
}
