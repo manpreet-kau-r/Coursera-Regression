{
 "cells": [
  {
   "cell_type": "code",
   "execution_count": 1,
   "metadata": {},
   "outputs": [],
   "source": [
    "import numpy as np\n",
    "import pandas as pd\n",
    "import matplotlib.pyplot as plt\n",
    "import random\n",
    "from sklearn.linear_model import LinearRegression, Ridge, Lasso"
   ]
  },
  {
   "cell_type": "code",
   "execution_count": 2,
   "metadata": {},
   "outputs": [],
   "source": [
    "data=pd.read_csv('kc_house_data.csv')\n",
    "train=pd.read_csv('wk3_kc_house_train_data.csv')\n",
    "test=pd.read_csv('wk3_kc_house_test_data.csv')"
   ]
  },
  {
   "cell_type": "code",
   "execution_count": 11,
   "metadata": {},
   "outputs": [
    {
     "data": {
      "text/plain": [
       "(21613, 21)"
      ]
     },
     "execution_count": 11,
     "metadata": {},
     "output_type": "execute_result"
    }
   ],
   "source": [
    "data.shape"
   ]
  },
  {
   "cell_type": "code",
   "execution_count": 12,
   "metadata": {},
   "outputs": [],
   "source": [
    "def get_numpy_data(df, feat, out):\n",
    "    df['constant'] = 1                          # add a constant col\n",
    "    feat = ['constant'] + feat\n",
    "    \n",
    "    feat_mat=df.loc[:,feat]\n",
    "    feat_mat = np.array(feat_mat)\n",
    "    \n",
    "    out_arr=df.loc[:,out]\n",
    "    out_arr = np.array(out_arr).reshape(-1,)\n",
    "    \n",
    "    return feat_mat, out_arr"
   ]
  },
  {
   "cell_type": "code",
   "execution_count": 13,
   "metadata": {},
   "outputs": [],
   "source": [
    "def predict_outcome(feat_mat, wts):\n",
    "    return np.dot(feat_mat,wts)"
   ]
  },
  {
   "cell_type": "code",
   "execution_count": 14,
   "metadata": {},
   "outputs": [],
   "source": [
    "def normalize_features(feat_mat):\n",
    "    \n",
    "    norms = np.linalg.norm(feat_mat, axis=0)\n",
    "    feat_mat = feat_mat/norms\n",
    "    \n",
    "    return feat_mat, norms"
   ]
  },
  {
   "cell_type": "markdown",
   "metadata": {},
   "source": [
    "## effect of l1 penalty"
   ]
  },
  {
   "cell_type": "code",
   "execution_count": 15,
   "metadata": {},
   "outputs": [],
   "source": [
    "feat = ['sqft_living','bedrooms']\n",
    "out = ['price']\n",
    "feat_mat ,out_arr = get_numpy_data(train,feat,out)"
   ]
  },
  {
   "cell_type": "code",
   "execution_count": 19,
   "metadata": {},
   "outputs": [],
   "source": [
    "norm_feat , norms = normalize_features(feat_mat)"
   ]
  },
  {
   "cell_type": "code",
   "execution_count": 20,
   "metadata": {},
   "outputs": [
    {
     "data": {
      "text/plain": [
       "(9761, 3)"
      ]
     },
     "execution_count": 20,
     "metadata": {},
     "output_type": "execute_result"
    }
   ],
   "source": [
    "norm_feat.shape"
   ]
  },
  {
   "cell_type": "code",
   "execution_count": 21,
   "metadata": {},
   "outputs": [
    {
     "data": {
      "text/plain": [
       "array([9.87977733e+01, 2.25597973e+05, 3.46770818e+02])"
      ]
     },
     "execution_count": 21,
     "metadata": {},
     "output_type": "execute_result"
    }
   ],
   "source": [
    "norms"
   ]
  },
  {
   "cell_type": "code",
   "execution_count": 22,
   "metadata": {},
   "outputs": [],
   "source": [
    "init_wts=[1.,4.,1.]\n",
    "pred=predict_outcome(norm_feat,init_wts)"
   ]
  },
  {
   "cell_type": "code",
   "execution_count": 23,
   "metadata": {},
   "outputs": [
    {
     "name": "stdout",
     "output_type": "stream",
     "text": [
      "(9761, 1)\n"
     ]
    }
   ],
   "source": [
    "pred=pred.reshape(-1,1)\n",
    "print(pred.shape)"
   ]
  },
  {
   "cell_type": "code",
   "execution_count": 24,
   "metadata": {},
   "outputs": [],
   "source": [
    "out_arr=out_arr.reshape(-1,1)"
   ]
  },
  {
   "cell_type": "code",
   "execution_count": 25,
   "metadata": {},
   "outputs": [
    {
     "name": "stdout",
     "output_type": "stream",
     "text": [
      "9761 3\n",
      "(3,)\n"
     ]
    }
   ],
   "source": [
    "# calculating ro for coordinate descent\n",
    "m,n=norm_feat.shape\n",
    "print(m,n)\n",
    "ro=np.zeros((n,))\n",
    "print(ro.shape)\n",
    "for i in range(n):\n",
    "    ro[i] = np.sum( norm_feat[:,i]*(out_arr - pred + init_wts[i]*norm_feat[:,i] ) )"
   ]
  },
  {
   "cell_type": "code",
   "execution_count": 26,
   "metadata": {},
   "outputs": [
    {
     "data": {
      "text/plain": [
       "array([5.23394582e+11, 4.78308761e+11, 5.03409379e+11])"
      ]
     },
     "execution_count": 26,
     "metadata": {},
     "output_type": "execute_result"
    }
   ],
   "source": [
    "ro"
   ]
  },
  {
   "cell_type": "code",
   "execution_count": 27,
   "metadata": {},
   "outputs": [],
   "source": [
    "## if l1_pen in between -1.56/2 and 1.56/2, w[2]=0 but w[1]!=0\n",
    "## all range > 1.56/2 set both to 0"
   ]
  },
  {
   "cell_type": "markdown",
   "metadata": {},
   "source": [
    "## Coordinate descent"
   ]
  },
  {
   "cell_type": "code",
   "execution_count": 28,
   "metadata": {},
   "outputs": [],
   "source": [
    "## single step of coordinate descent\n",
    "\n",
    "def lasso_coor_desc_step(i, feat_mat, out, wts, l1_pen):\n",
    "    \n",
    "    pred = predict_outcome(feat_mat,wts)      # compute prediction\n",
    "    \n",
    "    norm_feat , norms = normalize_features(feat_mat)\n",
    "    \n",
    "    ro_i = np.sum( norm_feat[:,i]*(out - pred + wts[i]*norm_feat[:,i] ) )     # compute ro[i]\n",
    "    \n",
    "    if i == 0:\n",
    "        new_wt = ro_i\n",
    "    elif ro_i < -l1_pen/2.:\n",
    "        new_wt = ro_i + l1_pen/2.\n",
    "    elif ro_i > l1_pen/2.:\n",
    "        new_wt = ro_i - l1_pen/2.\n",
    "    else:\n",
    "        new_wt = 0.0\n",
    "    \n",
    "    return new_wt"
   ]
  },
  {
   "cell_type": "code",
   "execution_count": 29,
   "metadata": {},
   "outputs": [
    {
     "data": {
      "text/plain": [
       "0.4255588466910257"
      ]
     },
     "execution_count": 29,
     "metadata": {},
     "output_type": "execute_result"
    }
   ],
   "source": [
    "# should print 0.425558846691\n",
    "import math\n",
    "lasso_coor_desc_step(1, np.array([[3./math.sqrt(13),1./math.sqrt(10)],\n",
    "                   [2./math.sqrt(13),3./math.sqrt(10)]]), np.array([1., 1.]), np.array([1., 4.]), 0.1)"
   ]
  },
  {
   "cell_type": "markdown",
   "metadata": {},
   "source": [
    "## Cyclic coordinate descent"
   ]
  },
  {
   "cell_type": "code",
   "execution_count": 34,
   "metadata": {},
   "outputs": [],
   "source": [
    "def lasso_cyc_coor_desc(feat_mat, out, init_wts, l1_pen, tol):\n",
    "    m,n=feat_mat.shape\n",
    "    wts=np.array(init_wts)\n",
    "    converged=False\n",
    "    \n",
    "    while not converged:\n",
    "        y_pred=predict_outcome(feat_mat,wts)\n",
    "        error= np.sum( (out-y_pred)**2 )\n",
    "        diff=0.0\n",
    "        max_change=0.0\n",
    "        \n",
    "        for j in range(n):\n",
    "            prev=wts[j]\n",
    "            wts[j]=lasso_coor_desc_step(j,feat_mat,out,wts,l1_pen)\n",
    "            diff= np.abs(prev-wts[j])\n",
    "            max_change=max(max_change,diff)\n",
    "            \n",
    "        if max_change<tol:\n",
    "            converged=True\n",
    "    return wts"
   ]
  },
  {
   "cell_type": "code",
   "execution_count": 35,
   "metadata": {},
   "outputs": [],
   "source": [
    "feat = ['sqft_living','bedrooms']\n",
    "out = ['price']\n",
    "feat_mat ,out_arr = get_numpy_data(train,feat,out)\n",
    "norm_feat , norms = normalize_features(feat_mat)"
   ]
  },
  {
   "cell_type": "code",
   "execution_count": 36,
   "metadata": {},
   "outputs": [],
   "source": [
    "init_wts=[0.0,0.0,0.0]\n",
    "l1_pen=1e7\n",
    "tol=1.0"
   ]
  },
  {
   "cell_type": "code",
   "execution_count": 38,
   "metadata": {},
   "outputs": [],
   "source": [
    "wts=lasso_cyc_coor_desc(feat_mat,out_arr,init_wts,l1_pen,tol)"
   ]
  },
  {
   "cell_type": "code",
   "execution_count": null,
   "metadata": {},
   "outputs": [],
   "source": [
    "wts"
   ]
  },
  {
   "cell_type": "code",
   "execution_count": null,
   "metadata": {},
   "outputs": [],
   "source": [
    "pred=predict_outcome(feat_mat,wts)"
   ]
  },
  {
   "cell_type": "code",
   "execution_count": null,
   "metadata": {},
   "outputs": [],
   "source": [
    "## RSS\n",
    "e= np.sum( (out_arr-pred)**2 )"
   ]
  },
  {
   "cell_type": "markdown",
   "metadata": {},
   "source": [
    "## more features"
   ]
  },
  {
   "cell_type": "code",
   "execution_count": null,
   "metadata": {},
   "outputs": [],
   "source": [
    "feat = ['bedrooms', 'bathrooms', 'sqft_living', 'sqft_lot', 'floors', 'waterfront', 'view', 'condition', 'grade', 'sqft_above', 'sqft_basement', 'yr_built', 'yr_renovated']\n",
    "out = ['price']\n",
    "feat_mat ,out_arr = get_numpy_data(train,feat,out)\n",
    "norm_feat , norms = normalize_features(feat_mat)"
   ]
  },
  {
   "cell_type": "code",
   "execution_count": null,
   "metadata": {},
   "outputs": [],
   "source": [
    "init_wts=[0.0,0.0,0.0]\n",
    "l1_pen=1e7\n",
    "tol=1.0"
   ]
  },
  {
   "cell_type": "code",
   "execution_count": null,
   "metadata": {},
   "outputs": [],
   "source": [
    "wts1=lasso_cyc_coor_desc(feat_mat,out_arr,init_wts,l1_pen,tol)\n",
    "wts1"
   ]
  },
  {
   "cell_type": "code",
   "execution_count": null,
   "metadata": {},
   "outputs": [],
   "source": [
    "l1_pen=1e8\n",
    "wts2=lasso_cyc_coor_desc(feat_mat,out_arr,init_wts,l1_pen,tol)\n",
    "wts2"
   ]
  },
  {
   "cell_type": "code",
   "execution_count": null,
   "metadata": {},
   "outputs": [],
   "source": [
    "l1_pen=1e4\n",
    "wts3=lasso_cyc_coor_desc(feat_mat,out_arr,init_wts,l1_pen,tol)\n",
    "wts3"
   ]
  },
  {
   "cell_type": "code",
   "execution_count": 40,
   "metadata": {},
   "outputs": [],
   "source": [
    "## weights for original features so that we dont have to normalise test set\n",
    "wts1_n=wts1/norms\n",
    "wts2_n=wts1/norms\n",
    "wts3_n=wts1/norms"
   ]
  },
  {
   "cell_type": "code",
   "execution_count": null,
   "metadata": {},
   "outputs": [],
   "source": [
    "## test on test data\n",
    "feat_mat ,out_arr = get_numpy_data(test,feat,out)"
   ]
  },
  {
   "cell_type": "code",
   "execution_count": null,
   "metadata": {},
   "outputs": [],
   "source": [
    "pred1=predict_outcome(feat_mat,wts1_n)\n",
    "pred2=predict_outcome(feat_mat,wts2_n)\n",
    "pred3=predict_outcome(feat_mat,wts3_n)"
   ]
  },
  {
   "cell_type": "code",
   "execution_count": null,
   "metadata": {},
   "outputs": [],
   "source": [
    "## RSS\n",
    "e1= np.sum( (out_arr-pred1)**2 )\n",
    "e2= np.sum( (out_arr-pred2)**2 )\n",
    "e3= np.sum( (out_arr-pred3)**2 )"
   ]
  },
  {
   "cell_type": "code",
   "execution_count": null,
   "metadata": {},
   "outputs": [],
   "source": [
    "e1"
   ]
  },
  {
   "cell_type": "code",
   "execution_count": null,
   "metadata": {},
   "outputs": [],
   "source": [
    "e2"
   ]
  },
  {
   "cell_type": "code",
   "execution_count": null,
   "metadata": {},
   "outputs": [],
   "source": [
    "e3"
   ]
  }
 ],
 "metadata": {
  "kernelspec": {
   "display_name": "Python 3",
   "language": "python",
   "name": "python3"
  },
  "language_info": {
   "codemirror_mode": {
    "name": "ipython",
    "version": 3
   },
   "file_extension": ".py",
   "mimetype": "text/x-python",
   "name": "python",
   "nbconvert_exporter": "python",
   "pygments_lexer": "ipython3",
   "version": "3.7.3"
  }
 },
 "nbformat": 4,
 "nbformat_minor": 2
}
