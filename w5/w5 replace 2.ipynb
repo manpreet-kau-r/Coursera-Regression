{
 "cells": [
  {
   "cell_type": "code",
   "execution_count": 1,
   "metadata": {},
   "outputs": [],
   "source": [
    "import numpy as np\n",
    "import pandas as pd\n",
    "import matplotlib.pyplot as plt\n",
    "import random\n",
    "from sklearn.linear_model import LinearRegression, Ridge, Lasso"
   ]
  },
  {
   "cell_type": "code",
   "execution_count": 6,
   "metadata": {},
   "outputs": [],
   "source": [
    "data=pd.read_csv('kc_house_data.csv')\n",
    "train=pd.read_csv('wk3_kc_house_train_data.csv')\n",
    "test=pd.read_csv('wk3_kc_house_test_data.csv')\n",
    "valid=pd.read_csv('wk3_kc_house_valid_data.csv')"
   ]
  },
  {
   "cell_type": "code",
   "execution_count": 7,
   "metadata": {},
   "outputs": [],
   "source": [
    "def cols(sales):\n",
    "    sales['sqft_living_sqrt'] = np.sqrt(sales['sqft_living'])\n",
    "    sales['sqft_lot_sqrt'] = np.sqrt(sales['sqft_lot'])\n",
    "    sales['bedrooms_square'] = sales['bedrooms']*sales['bedrooms']\n",
    "    sales['floors_square'] = sales['floors']*sales['floors']\n",
    "    return sales"
   ]
  },
  {
   "cell_type": "code",
   "execution_count": 8,
   "metadata": {},
   "outputs": [],
   "source": [
    "data=cols(data)\n",
    "train=cols(train)\n",
    "test=cols(test)\n",
    "valid=cols(valid)"
   ]
  },
  {
   "cell_type": "code",
   "execution_count": 9,
   "metadata": {},
   "outputs": [
    {
     "data": {
      "text/plain": [
       "Lasso(alpha=500.0, copy_X=True, fit_intercept=True, max_iter=1000,\n",
       "   normalize=True, positive=False, precompute=False, random_state=None,\n",
       "   selection='cyclic', tol=0.0001, warm_start=False)"
      ]
     },
     "execution_count": 9,
     "metadata": {},
     "output_type": "execute_result"
    }
   ],
   "source": [
    "## model using all data\n",
    "\n",
    "all_features = ['bedrooms', 'bedrooms_square',\n",
    "            'bathrooms',\n",
    "            'sqft_living', 'sqft_living_sqrt',\n",
    "            'sqft_lot', 'sqft_lot_sqrt',\n",
    "            'floors', 'floors_square',\n",
    "            'waterfront', 'view', 'condition', 'grade',\n",
    "            'sqft_above',\n",
    "            'sqft_basement',\n",
    "            'yr_built', 'yr_renovated']\n",
    "\n",
    "model_all = Lasso(alpha=5e2, normalize=True)          # set parameters\n",
    "model_all.fit(data[all_features], data['price'])    # learn weights"
   ]
  },
  {
   "cell_type": "code",
   "execution_count": 25,
   "metadata": {},
   "outputs": [
    {
     "data": {
      "text/html": [
       "<div>\n",
       "<style scoped>\n",
       "    .dataframe tbody tr th:only-of-type {\n",
       "        vertical-align: middle;\n",
       "    }\n",
       "\n",
       "    .dataframe tbody tr th {\n",
       "        vertical-align: top;\n",
       "    }\n",
       "\n",
       "    .dataframe thead th {\n",
       "        text-align: right;\n",
       "    }\n",
       "</style>\n",
       "<table border=\"1\" class=\"dataframe\">\n",
       "  <thead>\n",
       "    <tr style=\"text-align: right;\">\n",
       "      <th></th>\n",
       "      <th>0</th>\n",
       "    </tr>\n",
       "  </thead>\n",
       "  <tbody>\n",
       "    <tr>\n",
       "      <th>bedrooms</th>\n",
       "      <td>0.000000</td>\n",
       "    </tr>\n",
       "    <tr>\n",
       "      <th>bedrooms_square</th>\n",
       "      <td>0.000000</td>\n",
       "    </tr>\n",
       "    <tr>\n",
       "      <th>bathrooms</th>\n",
       "      <td>0.000000</td>\n",
       "    </tr>\n",
       "    <tr>\n",
       "      <th>sqft_living</th>\n",
       "      <td>134.439314</td>\n",
       "    </tr>\n",
       "    <tr>\n",
       "      <th>sqft_living_sqrt</th>\n",
       "      <td>0.000000</td>\n",
       "    </tr>\n",
       "    <tr>\n",
       "      <th>sqft_lot</th>\n",
       "      <td>0.000000</td>\n",
       "    </tr>\n",
       "    <tr>\n",
       "      <th>sqft_lot_sqrt</th>\n",
       "      <td>0.000000</td>\n",
       "    </tr>\n",
       "    <tr>\n",
       "      <th>floors</th>\n",
       "      <td>0.000000</td>\n",
       "    </tr>\n",
       "    <tr>\n",
       "      <th>floors_square</th>\n",
       "      <td>0.000000</td>\n",
       "    </tr>\n",
       "    <tr>\n",
       "      <th>waterfront</th>\n",
       "      <td>0.000000</td>\n",
       "    </tr>\n",
       "    <tr>\n",
       "      <th>view</th>\n",
       "      <td>24750.004586</td>\n",
       "    </tr>\n",
       "    <tr>\n",
       "      <th>condition</th>\n",
       "      <td>0.000000</td>\n",
       "    </tr>\n",
       "    <tr>\n",
       "      <th>grade</th>\n",
       "      <td>61749.103091</td>\n",
       "    </tr>\n",
       "    <tr>\n",
       "      <th>sqft_above</th>\n",
       "      <td>0.000000</td>\n",
       "    </tr>\n",
       "    <tr>\n",
       "      <th>sqft_basement</th>\n",
       "      <td>0.000000</td>\n",
       "    </tr>\n",
       "    <tr>\n",
       "      <th>yr_built</th>\n",
       "      <td>-0.000000</td>\n",
       "    </tr>\n",
       "    <tr>\n",
       "      <th>yr_renovated</th>\n",
       "      <td>0.000000</td>\n",
       "    </tr>\n",
       "  </tbody>\n",
       "</table>\n",
       "</div>"
      ],
      "text/plain": [
       "                             0\n",
       "bedrooms              0.000000\n",
       "bedrooms_square       0.000000\n",
       "bathrooms             0.000000\n",
       "sqft_living         134.439314\n",
       "sqft_living_sqrt      0.000000\n",
       "sqft_lot              0.000000\n",
       "sqft_lot_sqrt         0.000000\n",
       "floors                0.000000\n",
       "floors_square         0.000000\n",
       "waterfront            0.000000\n",
       "view              24750.004586\n",
       "condition             0.000000\n",
       "grade             61749.103091\n",
       "sqft_above            0.000000\n",
       "sqft_basement         0.000000\n",
       "yr_built             -0.000000\n",
       "yr_renovated          0.000000"
      ]
     },
     "execution_count": 25,
     "metadata": {},
     "output_type": "execute_result"
    }
   ],
   "source": [
    "coef=model_all.coef_\n",
    "df=pd.DataFrame(coef,index=all_features)\n",
    "df"
   ]
  },
  {
   "cell_type": "code",
   "execution_count": 26,
   "metadata": {},
   "outputs": [],
   "source": [
    "## select best l1\n",
    "\n",
    "l1_pen=np.logspace(1, 7, num=13)\n",
    "err=[]\n",
    "min_err=None\n",
    "best_l1=None\n",
    "for l1 in l1_pen:\n",
    "    model = Lasso(alpha=l1, normalize=True)\n",
    "    model.fit(train[all_features],train['price'])\n",
    "    \n",
    "    y_pred=model.predict(valid[all_features])\n",
    "    y=valid['price']\n",
    "    \n",
    "    e= np.sum( (y-y_pred)**2 )\n",
    "    err.append(e)\n",
    "    if(min_err is None or e<min_err):\n",
    "        min_err=e\n",
    "        best_l1=l1"
   ]
  },
  {
   "cell_type": "code",
   "execution_count": 27,
   "metadata": {},
   "outputs": [
    {
     "data": {
      "text/plain": [
       "10.0"
      ]
     },
     "execution_count": 27,
     "metadata": {},
     "output_type": "execute_result"
    }
   ],
   "source": [
    "best_l1"
   ]
  },
  {
   "cell_type": "code",
   "execution_count": 30,
   "metadata": {},
   "outputs": [
    {
     "name": "stdout",
     "output_type": "stream",
     "text": [
      "[1.00000000e+01 3.16227766e+01 1.00000000e+02 3.16227766e+02\n",
      " 1.00000000e+03 3.16227766e+03 1.00000000e+04 3.16227766e+04\n",
      " 1.00000000e+05 3.16227766e+05 1.00000000e+06 3.16227766e+06\n",
      " 1.00000000e+07]\n",
      "[398213327300134.9, 399041900253346.9, 429791604072559.6, 463739831045121.1, 645898733633800.8, 1222506859427163.0, 1222506859427163.0, 1222506859427163.0, 1222506859427163.0, 1222506859427163.0, 1222506859427163.0, 1222506859427163.0, 1222506859427163.0]\n"
     ]
    }
   ],
   "source": [
    "print(l1_pen)\n",
    "print(err)"
   ]
  },
  {
   "cell_type": "code",
   "execution_count": 31,
   "metadata": {},
   "outputs": [
    {
     "name": "stdout",
     "output_type": "stream",
     "text": [
      "98467402552698.75\n"
     ]
    }
   ],
   "source": [
    "## compute rss on test using selected l1\n",
    "\n",
    "model = Lasso(alpha=best_l1, normalize=True)\n",
    "model.fit(train[all_features],train['price'])\n",
    "\n",
    "y_pred=model.predict(test[all_features])\n",
    "y=test['price']\n",
    "\n",
    "e=np.sum( (y-y_pred)**2 )\n",
    "print(e)"
   ]
  },
  {
   "cell_type": "code",
   "execution_count": 32,
   "metadata": {},
   "outputs": [
    {
     "data": {
      "text/html": [
       "<div>\n",
       "<style scoped>\n",
       "    .dataframe tbody tr th:only-of-type {\n",
       "        vertical-align: middle;\n",
       "    }\n",
       "\n",
       "    .dataframe tbody tr th {\n",
       "        vertical-align: top;\n",
       "    }\n",
       "\n",
       "    .dataframe thead th {\n",
       "        text-align: right;\n",
       "    }\n",
       "</style>\n",
       "<table border=\"1\" class=\"dataframe\">\n",
       "  <thead>\n",
       "    <tr style=\"text-align: right;\">\n",
       "      <th></th>\n",
       "      <th>0</th>\n",
       "    </tr>\n",
       "  </thead>\n",
       "  <tbody>\n",
       "    <tr>\n",
       "      <th>bedrooms</th>\n",
       "      <td>-16144.562757</td>\n",
       "    </tr>\n",
       "    <tr>\n",
       "      <th>bedrooms_square</th>\n",
       "      <td>373.245384</td>\n",
       "    </tr>\n",
       "    <tr>\n",
       "      <th>bathrooms</th>\n",
       "      <td>50841.243340</td>\n",
       "    </tr>\n",
       "    <tr>\n",
       "      <th>sqft_living</th>\n",
       "      <td>617.853560</td>\n",
       "    </tr>\n",
       "    <tr>\n",
       "      <th>sqft_living_sqrt</th>\n",
       "      <td>-44411.354867</td>\n",
       "    </tr>\n",
       "    <tr>\n",
       "      <th>sqft_lot</th>\n",
       "      <td>0.785623</td>\n",
       "    </tr>\n",
       "    <tr>\n",
       "      <th>sqft_lot_sqrt</th>\n",
       "      <td>-701.194765</td>\n",
       "    </tr>\n",
       "    <tr>\n",
       "      <th>floors</th>\n",
       "      <td>-0.000000</td>\n",
       "    </tr>\n",
       "    <tr>\n",
       "      <th>floors_square</th>\n",
       "      <td>5014.200457</td>\n",
       "    </tr>\n",
       "    <tr>\n",
       "      <th>waterfront</th>\n",
       "      <td>619488.752486</td>\n",
       "    </tr>\n",
       "    <tr>\n",
       "      <th>view</th>\n",
       "      <td>38041.855652</td>\n",
       "    </tr>\n",
       "    <tr>\n",
       "      <th>condition</th>\n",
       "      <td>24998.771838</td>\n",
       "    </tr>\n",
       "    <tr>\n",
       "      <th>grade</th>\n",
       "      <td>128716.234621</td>\n",
       "    </tr>\n",
       "    <tr>\n",
       "      <th>sqft_above</th>\n",
       "      <td>0.000000</td>\n",
       "    </tr>\n",
       "    <tr>\n",
       "      <th>sqft_basement</th>\n",
       "      <td>0.000000</td>\n",
       "    </tr>\n",
       "    <tr>\n",
       "      <th>yr_built</th>\n",
       "      <td>-3293.831180</td>\n",
       "    </tr>\n",
       "    <tr>\n",
       "      <th>yr_renovated</th>\n",
       "      <td>10.057321</td>\n",
       "    </tr>\n",
       "  </tbody>\n",
       "</table>\n",
       "</div>"
      ],
      "text/plain": [
       "                              0\n",
       "bedrooms          -16144.562757\n",
       "bedrooms_square      373.245384\n",
       "bathrooms          50841.243340\n",
       "sqft_living          617.853560\n",
       "sqft_living_sqrt  -44411.354867\n",
       "sqft_lot               0.785623\n",
       "sqft_lot_sqrt       -701.194765\n",
       "floors                -0.000000\n",
       "floors_square       5014.200457\n",
       "waterfront        619488.752486\n",
       "view               38041.855652\n",
       "condition          24998.771838\n",
       "grade             128716.234621\n",
       "sqft_above             0.000000\n",
       "sqft_basement          0.000000\n",
       "yr_built           -3293.831180\n",
       "yr_renovated          10.057321"
      ]
     },
     "execution_count": 32,
     "metadata": {},
     "output_type": "execute_result"
    }
   ],
   "source": [
    "coef=model.coef_\n",
    "df=pd.DataFrame(coef,index=all_features)\n",
    "df"
   ]
  },
  {
   "cell_type": "code",
   "execution_count": 34,
   "metadata": {},
   "outputs": [
    {
     "data": {
      "text/plain": [
       "6630155.66862836"
      ]
     },
     "execution_count": 34,
     "metadata": {},
     "output_type": "execute_result"
    }
   ],
   "source": [
    "model.intercept_    # 14+1 = 15 non-zero features"
   ]
  },
  {
   "cell_type": "code",
   "execution_count": 36,
   "metadata": {},
   "outputs": [],
   "source": [
    "### What if we absolutely wanted to limit ourselves to, say, 7 features? \n",
    "max_nonzeros = 7\n",
    "l1_pen=np.logspace(1, 4, num=20)   # explore large range of l1 penalties"
   ]
  },
  {
   "cell_type": "code",
   "execution_count": 85,
   "metadata": {},
   "outputs": [],
   "source": [
    "## select best l1\n",
    "\n",
    "l1_pen=np.logspace(1, 4, num=20)\n",
    "\n",
    "l1_min=None\n",
    "coef_min=None\n",
    "\n",
    "coef_max=None\n",
    "l1_max=None\n",
    "\n",
    "for l1 in l1_pen:\n",
    "    model = Lasso(alpha=l1, normalize=True)\n",
    "    model.fit(train[all_features],train['price'])\n",
    "    \n",
    "    coef=model.coef_!=0\n",
    "    coef=coef.astype(int)\n",
    "    coef=np.sum(coef)\n",
    "    if(model.intercept_!=0):\n",
    "        coef+=1\n",
    "        \n",
    "    if(coef>7 and (coef_min is None or coef<coef_min) ):\n",
    "        coef_min=coef\n",
    "        l1_min=l1\n",
    "    elif(coef<7 and (coef_max is None or coef>coef_max) ):\n",
    "        coef_max=coef\n",
    "        l1_max=l1"
   ]
  },
  {
   "cell_type": "code",
   "execution_count": 86,
   "metadata": {},
   "outputs": [
    {
     "data": {
      "text/plain": [
       "127.42749857031335"
      ]
     },
     "execution_count": 86,
     "metadata": {},
     "output_type": "execute_result"
    }
   ],
   "source": [
    "l1_min"
   ]
  },
  {
   "cell_type": "code",
   "execution_count": 87,
   "metadata": {},
   "outputs": [
    {
     "data": {
      "text/plain": [
       "263.6650898730358"
      ]
     },
     "execution_count": 87,
     "metadata": {},
     "output_type": "execute_result"
    }
   ],
   "source": [
    "l1_max"
   ]
  },
  {
   "cell_type": "code",
   "execution_count": 88,
   "metadata": {},
   "outputs": [],
   "source": [
    "## now explore this narrow range of l1\n",
    "l1_pen = np.linspace(l1_min,l1_max,20)\n",
    "\n",
    "err=[]\n",
    "min_err=None\n",
    "best_pen=None\n",
    "\n",
    "for l1 in l1_pen:\n",
    "    model = Lasso(alpha=l1, normalize=True)\n",
    "    model.fit(train[all_features],train['price'])\n",
    "    \n",
    "    y_pred=model.predict(valid[all_features])\n",
    "    y=valid['price']\n",
    "    \n",
    "    coef=model.coef_!=0\n",
    "    coef=coef.astype(int)\n",
    "    coef=np.sum(coef)\n",
    "    if(model.intercept_!=0):\n",
    "        coef+=1\n",
    "    \n",
    "    e= np.sum( (y-y_pred)**2 )\n",
    "    err.append(e)\n",
    "    if( (min_err is None or e<min_err) and coef==7):   \n",
    "        min_err=e\n",
    "        best_l1=l1"
   ]
  },
  {
   "cell_type": "code",
   "execution_count": 89,
   "metadata": {},
   "outputs": [
    {
     "data": {
      "text/plain": [
       "156.10909673930755"
      ]
     },
     "execution_count": 89,
     "metadata": {},
     "output_type": "execute_result"
    }
   ],
   "source": [
    "best_l1"
   ]
  },
  {
   "cell_type": "code",
   "execution_count": 90,
   "metadata": {},
   "outputs": [
    {
     "data": {
      "text/plain": [
       "Lasso(alpha=156.10909673930755, copy_X=True, fit_intercept=True,\n",
       "   max_iter=1000, normalize=True, positive=False, precompute=False,\n",
       "   random_state=None, selection='cyclic', tol=0.0001, warm_start=False)"
      ]
     },
     "execution_count": 90,
     "metadata": {},
     "output_type": "execute_result"
    }
   ],
   "source": [
    "## fit using best model\n",
    "model = Lasso(alpha=best_l1, normalize=True)\n",
    "model.fit(train[all_features],train['price'])   "
   ]
  },
  {
   "cell_type": "code",
   "execution_count": 91,
   "metadata": {},
   "outputs": [
    {
     "data": {
      "text/html": [
       "<div>\n",
       "<style scoped>\n",
       "    .dataframe tbody tr th:only-of-type {\n",
       "        vertical-align: middle;\n",
       "    }\n",
       "\n",
       "    .dataframe tbody tr th {\n",
       "        vertical-align: top;\n",
       "    }\n",
       "\n",
       "    .dataframe thead th {\n",
       "        text-align: right;\n",
       "    }\n",
       "</style>\n",
       "<table border=\"1\" class=\"dataframe\">\n",
       "  <thead>\n",
       "    <tr style=\"text-align: right;\">\n",
       "      <th></th>\n",
       "      <th>0</th>\n",
       "    </tr>\n",
       "  </thead>\n",
       "  <tbody>\n",
       "    <tr>\n",
       "      <th>bedrooms</th>\n",
       "      <td>-0.000000</td>\n",
       "    </tr>\n",
       "    <tr>\n",
       "      <th>bedrooms_square</th>\n",
       "      <td>-0.000000</td>\n",
       "    </tr>\n",
       "    <tr>\n",
       "      <th>bathrooms</th>\n",
       "      <td>10610.890284</td>\n",
       "    </tr>\n",
       "    <tr>\n",
       "      <th>sqft_living</th>\n",
       "      <td>163.380252</td>\n",
       "    </tr>\n",
       "    <tr>\n",
       "      <th>sqft_living_sqrt</th>\n",
       "      <td>0.000000</td>\n",
       "    </tr>\n",
       "    <tr>\n",
       "      <th>sqft_lot</th>\n",
       "      <td>-0.000000</td>\n",
       "    </tr>\n",
       "    <tr>\n",
       "      <th>sqft_lot_sqrt</th>\n",
       "      <td>-0.000000</td>\n",
       "    </tr>\n",
       "    <tr>\n",
       "      <th>floors</th>\n",
       "      <td>0.000000</td>\n",
       "    </tr>\n",
       "    <tr>\n",
       "      <th>floors_square</th>\n",
       "      <td>0.000000</td>\n",
       "    </tr>\n",
       "    <tr>\n",
       "      <th>waterfront</th>\n",
       "      <td>506451.687115</td>\n",
       "    </tr>\n",
       "    <tr>\n",
       "      <th>view</th>\n",
       "      <td>41960.043555</td>\n",
       "    </tr>\n",
       "    <tr>\n",
       "      <th>condition</th>\n",
       "      <td>0.000000</td>\n",
       "    </tr>\n",
       "    <tr>\n",
       "      <th>grade</th>\n",
       "      <td>116253.553700</td>\n",
       "    </tr>\n",
       "    <tr>\n",
       "      <th>sqft_above</th>\n",
       "      <td>0.000000</td>\n",
       "    </tr>\n",
       "    <tr>\n",
       "      <th>sqft_basement</th>\n",
       "      <td>0.000000</td>\n",
       "    </tr>\n",
       "    <tr>\n",
       "      <th>yr_built</th>\n",
       "      <td>-2612.234880</td>\n",
       "    </tr>\n",
       "    <tr>\n",
       "      <th>yr_renovated</th>\n",
       "      <td>0.000000</td>\n",
       "    </tr>\n",
       "  </tbody>\n",
       "</table>\n",
       "</div>"
      ],
      "text/plain": [
       "                              0\n",
       "bedrooms              -0.000000\n",
       "bedrooms_square       -0.000000\n",
       "bathrooms          10610.890284\n",
       "sqft_living          163.380252\n",
       "sqft_living_sqrt       0.000000\n",
       "sqft_lot              -0.000000\n",
       "sqft_lot_sqrt         -0.000000\n",
       "floors                 0.000000\n",
       "floors_square          0.000000\n",
       "waterfront        506451.687115\n",
       "view               41960.043555\n",
       "condition              0.000000\n",
       "grade             116253.553700\n",
       "sqft_above             0.000000\n",
       "sqft_basement          0.000000\n",
       "yr_built           -2612.234880\n",
       "yr_renovated           0.000000"
      ]
     },
     "execution_count": 91,
     "metadata": {},
     "output_type": "execute_result"
    }
   ],
   "source": [
    "coef=model.coef_\n",
    "df=pd.DataFrame(coef,index=all_features)\n",
    "df"
   ]
  },
  {
   "cell_type": "code",
   "execution_count": null,
   "metadata": {},
   "outputs": [],
   "source": []
  }
 ],
 "metadata": {
  "kernelspec": {
   "display_name": "Python 3",
   "language": "python",
   "name": "python3"
  },
  "language_info": {
   "codemirror_mode": {
    "name": "ipython",
    "version": 3
   },
   "file_extension": ".py",
   "mimetype": "text/x-python",
   "name": "python",
   "nbconvert_exporter": "python",
   "pygments_lexer": "ipython3",
   "version": "3.7.3"
  }
 },
 "nbformat": 4,
 "nbformat_minor": 2
}
