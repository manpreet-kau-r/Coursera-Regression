{
 "cells": [
  {
   "cell_type": "code",
   "execution_count": 1,
   "metadata": {},
   "outputs": [],
   "source": [
    "import numpy as np\n",
    "import pandas as pd\n",
    "import matplotlib.pyplot as plt\n",
    "import random\n",
    "from sklearn.linear_model import LinearRegression, Ridge, Lasso"
   ]
  },
  {
   "cell_type": "code",
   "execution_count": 2,
   "metadata": {},
   "outputs": [],
   "source": [
    "data=pd.read_csv('kc_house_data_small.csv')\n",
    "train=pd.read_csv('kc_house_data_small_train.csv')\n",
    "test=pd.read_csv('kc_house_data_small_test.csv')\n",
    "valid=pd.read_csv('kc_house_data_validation.csv')"
   ]
  },
  {
   "cell_type": "code",
   "execution_count": 3,
   "metadata": {},
   "outputs": [],
   "source": [
    "def get_numpy_data(df, feat, out):\n",
    "    df['constant'] = 1                          # add a constant col\n",
    "    feat = ['constant'] + feat\n",
    "    \n",
    "    feat_mat=df.loc[:,feat]\n",
    "    feat_mat = np.array(feat_mat)\n",
    "    \n",
    "    out_arr=df.loc[:,out]\n",
    "    out_arr = np.array(out_arr).reshape(-1,)\n",
    "    \n",
    "    return feat_mat, out_arr"
   ]
  },
  {
   "cell_type": "code",
   "execution_count": 4,
   "metadata": {},
   "outputs": [],
   "source": [
    "def normalize_features(feat_mat):\n",
    "    \n",
    "    norms = np.linalg.norm(feat_mat, axis=0)\n",
    "    feat_mat = feat_mat/norms\n",
    "    \n",
    "    return feat_mat, norms"
   ]
  },
  {
   "cell_type": "code",
   "execution_count": 5,
   "metadata": {},
   "outputs": [],
   "source": [
    "cols=list(train.columns)\n",
    "feat=['bedrooms', 'bathrooms', 'sqft_living', 'sqft_lot', 'floors', 'waterfront', 'view',\n",
    " 'condition', 'grade', 'sqft_above', 'sqft_basement', 'yr_built', 'yr_renovated','lat',\n",
    " 'long', 'sqft_living15', 'sqft_lot15']\n",
    "out=['price']"
   ]
  },
  {
   "cell_type": "code",
   "execution_count": 6,
   "metadata": {},
   "outputs": [],
   "source": [
    "feat_train,out_train = get_numpy_data(train,feat,out)\n",
    "feat_test,out_test = get_numpy_data(test,feat,out)\n",
    "feat_val,out_val = get_numpy_data(valid,feat,out)"
   ]
  },
  {
   "cell_type": "code",
   "execution_count": 7,
   "metadata": {},
   "outputs": [],
   "source": [
    "feat_train,norms = normalize_features(feat_train)\n",
    "feat_test = feat_test/norms\n",
    "feat_val = feat_val/norms"
   ]
  },
  {
   "cell_type": "code",
   "execution_count": 23,
   "metadata": {},
   "outputs": [
    {
     "data": {
      "text/plain": [
       "(18,)"
      ]
     },
     "execution_count": 23,
     "metadata": {},
     "output_type": "execute_result"
    }
   ],
   "source": [
    "## query house\n",
    "h1_test = feat_test[0]\n",
    "h10_train = feat_train[9]\n",
    "h1_test.shape"
   ]
  },
  {
   "cell_type": "code",
   "execution_count": 26,
   "metadata": {},
   "outputs": [
    {
     "data": {
      "text/plain": [
       "0.05972359371398078"
      ]
     },
     "execution_count": 26,
     "metadata": {},
     "output_type": "execute_result"
    }
   ],
   "source": [
    "## eucledian distance = sqrt(a1(xj[1]−xq[1])2+...+ad(xj[d]−xq[d])2)\n",
    "edis = np.sqrt( np.sum( (h10_train - h1_test)**2 ) )\n",
    "edis"
   ]
  },
  {
   "cell_type": "code",
   "execution_count": 27,
   "metadata": {},
   "outputs": [
    {
     "data": {
      "text/plain": [
       "[0.06027470916295592,\n",
       " 0.08546881147643746,\n",
       " 0.06149946435279315,\n",
       " 0.05340273979294363,\n",
       " 0.05844484060170442,\n",
       " 0.059879215098128345,\n",
       " 0.05463140496775461,\n",
       " 0.055431083236146074,\n",
       " 0.052383627840220305,\n",
       " 0.05972359371398078]"
      ]
     },
     "execution_count": 27,
     "metadata": {},
     "output_type": "execute_result"
    }
   ],
   "source": [
    "## compute eucledian distance of query with first 10 train houses\n",
    "q_house = feat_test[0]\n",
    "dist=[]\n",
    "for i in range(10):\n",
    "    point = feat_train[i]\n",
    "    edis = np.sqrt( np.sum( (point - q_house)**2 ) )\n",
    "    dist.append(edis)\n",
    "dist"
   ]
  },
  {
   "cell_type": "code",
   "execution_count": 34,
   "metadata": {},
   "outputs": [
    {
     "data": {
      "text/plain": [
       "8"
      ]
     },
     "execution_count": 34,
     "metadata": {},
     "output_type": "execute_result"
    }
   ],
   "source": [
    "min_val = min(dist)\n",
    "dist.index( min_val )   ## 9th house is closest to query point"
   ]
  },
  {
   "cell_type": "markdown",
   "metadata": {},
   "source": [
    "## 1 NN regression"
   ]
  },
  {
   "cell_type": "code",
   "execution_count": 37,
   "metadata": {},
   "outputs": [],
   "source": [
    "diff = feat_train - q_house\n",
    "edis = np.sqrt( np.sum( diff**2, axis=1 ) )"
   ]
  },
  {
   "cell_type": "code",
   "execution_count": 38,
   "metadata": {},
   "outputs": [
    {
     "data": {
      "text/plain": [
       "0.023708232416678195"
      ]
     },
     "execution_count": 38,
     "metadata": {},
     "output_type": "execute_result"
    }
   ],
   "source": [
    "edis[100]"
   ]
  },
  {
   "cell_type": "code",
   "execution_count": 39,
   "metadata": {},
   "outputs": [],
   "source": [
    "def comp_dist(feat_inst, query):\n",
    "    diff = feat_inst - query\n",
    "    edis = np.sqrt( np.sum( diff**2, axis=1 ) )\n",
    "    return edis"
   ]
  },
  {
   "cell_type": "code",
   "execution_count": 45,
   "metadata": {},
   "outputs": [
    {
     "data": {
      "text/plain": [
       "382"
      ]
     },
     "execution_count": 45,
     "metadata": {},
     "output_type": "execute_result"
    }
   ],
   "source": [
    "query = feat_test[2]\n",
    "edist = comp_dist(feat_train,query)\n",
    "## min distance house\n",
    "edist.argmin()"
   ]
  },
  {
   "cell_type": "code",
   "execution_count": 46,
   "metadata": {},
   "outputs": [
    {
     "data": {
      "text/plain": [
       "249000"
      ]
     },
     "execution_count": 46,
     "metadata": {},
     "output_type": "execute_result"
    }
   ],
   "source": [
    "## predicted price using 1 NN\n",
    "out_train[382]"
   ]
  },
  {
   "cell_type": "markdown",
   "metadata": {},
   "source": [
    "## k NN regression"
   ]
  },
  {
   "cell_type": "code",
   "execution_count": 57,
   "metadata": {},
   "outputs": [],
   "source": [
    "def k_nrst_ngbrs(k, feat_train, query):\n",
    "    edist = comp_dist(feat_train,query)\n",
    "    ngbrs = np.argsort(edist)[:k]\n",
    "    return ngbrs"
   ]
  },
  {
   "cell_type": "code",
   "execution_count": 58,
   "metadata": {},
   "outputs": [
    {
     "data": {
      "text/plain": [
       "array([ 382, 1149, 4087, 3142], dtype=int64)"
      ]
     },
     "execution_count": 58,
     "metadata": {},
     "output_type": "execute_result"
    }
   ],
   "source": [
    "## k neighbors\n",
    "query = feat_test[2]\n",
    "ngbrs = k_nrst_ngbrs(4,feat_train,query)\n",
    "ngbrs"
   ]
  },
  {
   "cell_type": "code",
   "execution_count": 61,
   "metadata": {},
   "outputs": [],
   "source": [
    "def pred_out_of_query(k, feat_train, out_train, query):\n",
    "    ngbrs = k_nrst_ngbrs(k,feat_train,query)\n",
    "    pred = np.mean(out_train[ngbrs])\n",
    "    return pred"
   ]
  },
  {
   "cell_type": "code",
   "execution_count": 64,
   "metadata": {},
   "outputs": [
    {
     "data": {
      "text/plain": [
       "413987.5"
      ]
     },
     "execution_count": 64,
     "metadata": {},
     "output_type": "execute_result"
    }
   ],
   "source": [
    "## predictio for query house\n",
    "pred = pred_out_of_query(4,feat_train,out_train,query)\n",
    "pred"
   ]
  },
  {
   "cell_type": "code",
   "execution_count": 65,
   "metadata": {},
   "outputs": [],
   "source": [
    "### prediction of all query houses matrix\n",
    "def pred_output(k, feat_train, out_train, query):\n",
    "    m,n=query.shape\n",
    "    pred=[]\n",
    "    for i in range(m):\n",
    "        pred1 = pred_out_of_query(k,feat_train,out_train,query[i])\n",
    "        pred.append(pred1)\n",
    "    return pred"
   ]
  },
  {
   "cell_type": "code",
   "execution_count": 70,
   "metadata": {},
   "outputs": [
    {
     "data": {
      "text/plain": [
       "[881300.0,\n",
       " 431860.0,\n",
       " 460595.0,\n",
       " 430200.0,\n",
       " 766750.0,\n",
       " 667420.0,\n",
       " 350032.0,\n",
       " 512800.7,\n",
       " 484000.0,\n",
       " 457235.0]"
      ]
     },
     "execution_count": 70,
     "metadata": {},
     "output_type": "execute_result"
    }
   ],
   "source": [
    "query = feat_test[0:10]\n",
    "pred = pred_output(10,feat_train,out_train,query)\n",
    "pred"
   ]
  },
  {
   "cell_type": "code",
   "execution_count": 76,
   "metadata": {},
   "outputs": [
    {
     "name": "stdout",
     "output_type": "stream",
     "text": [
      "350032.0\n",
      "6\n"
     ]
    }
   ],
   "source": [
    "### min predicted value\n",
    "min_val = min(pred)\n",
    "print(min_val)\n",
    "min_ind = pred.index(min_val)\n",
    "print(min_ind)"
   ]
  },
  {
   "cell_type": "markdown",
   "metadata": {},
   "source": [
    "### Best value of k using validation set"
   ]
  },
  {
   "cell_type": "code",
   "execution_count": 88,
   "metadata": {},
   "outputs": [],
   "source": [
    "rss=[]\n",
    "for k in range(1,16):\n",
    "    pred = pred_output(k,feat_train,out_train,feat_val)\n",
    "    err = np.sum( (out_val-pred)**2 )\n",
    "    rss.append(err)"
   ]
  },
  {
   "cell_type": "code",
   "execution_count": 91,
   "metadata": {},
   "outputs": [
    {
     "data": {
      "text/plain": [
       "[105453830251561.0,\n",
       " 83445073504025.5,\n",
       " 72692096019202.56,\n",
       " 71946721652091.69,\n",
       " 69846517419718.6,\n",
       " 68899544353180.836,\n",
       " 68341973450051.09,\n",
       " 67361678735491.5,\n",
       " 68372727958976.09,\n",
       " 69335048668556.74,\n",
       " 69523855215598.83,\n",
       " 69049969587246.17,\n",
       " 70011254508263.69,\n",
       " 70908698869034.34,\n",
       " 71106928385945.16]"
      ]
     },
     "execution_count": 91,
     "metadata": {},
     "output_type": "execute_result"
    }
   ],
   "source": [
    "rss"
   ]
  },
  {
   "cell_type": "code",
   "execution_count": 89,
   "metadata": {},
   "outputs": [
    {
     "data": {
      "text/plain": [
       "8"
      ]
     },
     "execution_count": 89,
     "metadata": {},
     "output_type": "execute_result"
    }
   ],
   "source": [
    "min_val = min(rss)\n",
    "min_ind = rss.index(min_val)\n",
    "best_k = min_ind+1\n",
    "best_k"
   ]
  },
  {
   "cell_type": "code",
   "execution_count": 90,
   "metadata": {},
   "outputs": [
    {
     "data": {
      "text/plain": [
       "133118823551516.81"
      ]
     },
     "execution_count": 90,
     "metadata": {},
     "output_type": "execute_result"
    }
   ],
   "source": [
    "### rss on test data\n",
    "pred = pred_output(best_k,feat_train,out_train,feat_test)\n",
    "err = np.sum( (out_test-pred)**2 )\n",
    "err"
   ]
  },
  {
   "cell_type": "code",
   "execution_count": null,
   "metadata": {},
   "outputs": [],
   "source": []
  }
 ],
 "metadata": {
  "kernelspec": {
   "display_name": "Python 3",
   "language": "python",
   "name": "python3"
  },
  "language_info": {
   "codemirror_mode": {
    "name": "ipython",
    "version": 3
   },
   "file_extension": ".py",
   "mimetype": "text/x-python",
   "name": "python",
   "nbconvert_exporter": "python",
   "pygments_lexer": "ipython3",
   "version": "3.7.3"
  }
 },
 "nbformat": 4,
 "nbformat_minor": 2
}
