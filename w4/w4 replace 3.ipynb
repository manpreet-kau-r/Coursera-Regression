{
 "cells": [
  {
   "cell_type": "code",
   "execution_count": 1,
   "metadata": {},
   "outputs": [],
   "source": [
    "import numpy as np\n",
    "import pandas as pd\n",
    "import matplotlib.pyplot as plt\n",
    "import random\n",
    "from sklearn.linear_model import LinearRegression,Ridge"
   ]
  },
  {
   "cell_type": "code",
   "execution_count": 3,
   "metadata": {},
   "outputs": [],
   "source": [
    "train=pd.read_csv('wk3_kc_house_train_data.csv')\n",
    "test=pd.read_csv('wk3_kc_house_test_data.csv')"
   ]
  },
  {
   "cell_type": "code",
   "execution_count": 4,
   "metadata": {},
   "outputs": [],
   "source": [
    "def get_numpy_data(df, feat, out):\n",
    "    df['constant'] = 1                          # add a constant col\n",
    "    feat = ['constant'] + feat\n",
    "    \n",
    "    feat_mat=df.loc[:,feat]\n",
    "    feat_mat = np.array(feat_mat)\n",
    "    \n",
    "    out_arr=df.loc[:,out]\n",
    "    out_arr = np.array(out_arr).reshape(-1,)\n",
    "    \n",
    "    return feat_mat, out_arr"
   ]
  },
  {
   "cell_type": "code",
   "execution_count": 5,
   "metadata": {},
   "outputs": [],
   "source": [
    "def predict_outcome(feat_mat, wts):\n",
    "    return np.dot(feat_mat,wts)"
   ]
  },
  {
   "cell_type": "code",
   "execution_count": 85,
   "metadata": {},
   "outputs": [],
   "source": [
    "def feature_derivative(feat_mat,out,wts,l2_pen):\n",
    "    m,n=feat_mat.shape\n",
    "    grad = np.zeros((n,))\n",
    "    y_pred=predict_outcome(feat_mat,wts)\n",
    "    grad=-2* np.dot( feat_mat.T , out-y_pred )\n",
    "    grad[1:]+= ( 2*l2_pen*wts[1:] )\n",
    "    return grad"
   ]
  },
  {
   "cell_type": "code",
   "execution_count": 86,
   "metadata": {},
   "outputs": [],
   "source": [
    "def regression_gradient_descent(feat_mat, out, init_wts, step, max_itr,l2_pen):\n",
    "    wts = np.array(init_wts)\n",
    "    for i in range(max_itr):\n",
    "        y_pred=predict_outcome(feat_mat,wts)\n",
    "        error= np.sum( (out-y_pred)**2 )\n",
    "        \n",
    "        grad=feature_derivative(feat_mat,out,wts,l2_pen)\n",
    "        wts = wts - step*grad\n",
    "    return wts"
   ]
  },
  {
   "cell_type": "code",
   "execution_count": 87,
   "metadata": {},
   "outputs": [],
   "source": [
    "feat=['sqft_living']\n",
    "out=['price']\n",
    "feat_mat,out_arr = get_numpy_data(train,feat,out)"
   ]
  },
  {
   "cell_type": "code",
   "execution_count": 88,
   "metadata": {},
   "outputs": [],
   "source": [
    "init_wts = [0.0,0.0]\n",
    "step = 1e-12\n",
    "max_itr = 1000"
   ]
  },
  {
   "cell_type": "code",
   "execution_count": 89,
   "metadata": {},
   "outputs": [],
   "source": [
    "## 0 l2 penalty\n",
    "l2_pen=0.0\n",
    "wts1=regression_gradient_descent(feat_mat,out_arr,init_wts,step,max_itr,l2_pen)"
   ]
  },
  {
   "cell_type": "code",
   "execution_count": 90,
   "metadata": {},
   "outputs": [
    {
     "data": {
      "text/plain": [
       "array([-8.55038595e-02,  2.64788506e+02])"
      ]
     },
     "execution_count": 90,
     "metadata": {},
     "output_type": "execute_result"
    }
   ],
   "source": [
    "wts1"
   ]
  },
  {
   "cell_type": "code",
   "execution_count": 91,
   "metadata": {
    "scrolled": false
   },
   "outputs": [],
   "source": [
    "# high l2 penalty\n",
    "l2_pen= 1e11\n",
    "wts2=regression_gradient_descent(feat_mat,out_arr,init_wts,step,max_itr,l2_pen)"
   ]
  },
  {
   "cell_type": "code",
   "execution_count": 92,
   "metadata": {},
   "outputs": [
    {
     "data": {
      "text/plain": [
       "array([ 6.96906922, 89.30826422])"
      ]
     },
     "execution_count": 92,
     "metadata": {},
     "output_type": "execute_result"
    }
   ],
   "source": [
    "wts2"
   ]
  },
  {
   "cell_type": "code",
   "execution_count": 93,
   "metadata": {},
   "outputs": [
    {
     "data": {
      "image/png": "[encoded data removed]",
      "text/plain": [
       "<Figure size 432x288 with 1 Axes>"
      ]
     },
     "metadata": {
      "needs_background": "light"
     },
     "output_type": "display_data"
    }
   ],
   "source": [
    "# plot models with 2 penalties\n",
    "pred1 = predict_outcome(feat_mat,wts1)\n",
    "pred2 = predict_outcome(feat_mat,wts2)\n",
    "plt.plot(feat_mat,out_arr, 'y.', feat_mat, pred1,'b-', feat_mat, pred2,'r-')\n",
    "plt.show()\n",
    "\n",
    "# blue for no regularisation and red for high regularisation"
   ]
  },
  {
   "cell_type": "code",
   "execution_count": 95,
   "metadata": {},
   "outputs": [],
   "source": [
    "# predict on test data    # t for test\n",
    "tfeat_mat,tout_arr = get_numpy_data(test,feat,out)\n",
    "y_pred=predict_outcome(tfeat_mat,wts)"
   ]
  },
  {
   "cell_type": "code",
   "execution_count": 96,
   "metadata": {},
   "outputs": [],
   "source": [
    "# RSS\n",
    "def error(feat_mat,wts,out):\n",
    "    y_pred=predict_outcome(feat_mat,wts)\n",
    "    err= np.sum( (out-y_pred)**2 )\n",
    "    return err"
   ]
  },
  {
   "cell_type": "code",
   "execution_count": 99,
   "metadata": {},
   "outputs": [
    {
     "name": "stdout",
     "output_type": "stream",
     "text": [
      "143086951735718.47\n"
     ]
    }
   ],
   "source": [
    "# RSS on test data with wts1\n",
    "err1=error(tfeat_mat,wts1,tout_arr)\n",
    "print(err1)"
   ]
  },
  {
   "cell_type": "code",
   "execution_count": 100,
   "metadata": {},
   "outputs": [
    {
     "name": "stdout",
     "output_type": "stream",
     "text": [
      "485876997385567.9\n"
     ]
    }
   ],
   "source": [
    "# RSS on test data with wts2\n",
    "err2=error(tfeat_mat,wts2,tout_arr)\n",
    "print(err2)"
   ]
  },
  {
   "cell_type": "code",
   "execution_count": 101,
   "metadata": {},
   "outputs": [],
   "source": [
    "## More than 1 feature matrix    # m for multiple\n",
    "model_feat = ['sqft_living', 'sqft_living15']\n",
    "my_out= 'price'\n",
    "mfeat_mat, mout = get_numpy_data(train, model_feat ,my_out)\n",
    "minit_wts = np.array([0.0,0.0,0.0])\n",
    "mstep = 1e-12\n",
    "miter = 1000"
   ]
  },
  {
   "cell_type": "code",
   "execution_count": 103,
   "metadata": {},
   "outputs": [],
   "source": [
    "l2_pen=0.0\n",
    "mwts1 = regression_gradient_descent( mfeat_mat,mout,minit_wts,mstep,miter,l2_pen )"
   ]
  },
  {
   "cell_type": "code",
   "execution_count": 104,
   "metadata": {},
   "outputs": [
    {
     "data": {
      "text/plain": [
       "array([-2.22154863e-01,  2.46527617e+02,  2.03795399e+01])"
      ]
     },
     "execution_count": 104,
     "metadata": {},
     "output_type": "execute_result"
    }
   ],
   "source": [
    "mwts1"
   ]
  },
  {
   "cell_type": "code",
   "execution_count": 105,
   "metadata": {},
   "outputs": [],
   "source": [
    "l2_pen=1e11\n",
    "mwts2 = regression_gradient_descent( mfeat_mat,mout,minit_wts,mstep,miter,l2_pen )"
   ]
  },
  {
   "cell_type": "code",
   "execution_count": 106,
   "metadata": {},
   "outputs": [
    {
     "data": {
      "text/plain": [
       "array([ 5.32706595, 70.80524334, 61.63875935])"
      ]
     },
     "execution_count": 106,
     "metadata": {},
     "output_type": "execute_result"
    }
   ],
   "source": [
    "mwts2"
   ]
  },
  {
   "cell_type": "code",
   "execution_count": 117,
   "metadata": {},
   "outputs": [],
   "source": [
    "# predict on test data\n",
    "mtfeat_mat,mtout_arr = get_numpy_data(test,model_feat,my_out)"
   ]
  },
  {
   "cell_type": "code",
   "execution_count": 118,
   "metadata": {},
   "outputs": [
    {
     "name": "stdout",
     "output_type": "stream",
     "text": [
      "142759126396726.72\n"
     ]
    }
   ],
   "source": [
    "# RSS on test data with mwts1\n",
    "y_pred1=predict_outcome(mtfeat_mat,mwts1)\n",
    "err3=error(mtfeat_mat,mwts1,mtout_arr)\n",
    "print(err3)"
   ]
  },
  {
   "cell_type": "code",
   "execution_count": 119,
   "metadata": {},
   "outputs": [
    {
     "name": "stdout",
     "output_type": "stream",
     "text": [
      "356770519506378.0\n"
     ]
    }
   ],
   "source": [
    "# RSS on test data with mwts2\n",
    "y_pred2=predict_outcome(mtfeat_mat,mwts2)\n",
    "err4=error(mtfeat_mat,mwts2,mtout_arr)\n",
    "print(err4)"
   ]
  },
  {
   "cell_type": "code",
   "execution_count": 120,
   "metadata": {},
   "outputs": [
    {
     "data": {
      "text/plain": [
       "514644.07502822403"
      ]
     },
     "execution_count": 120,
     "metadata": {},
     "output_type": "execute_result"
    }
   ],
   "source": [
    "# predicted price for 1st house with mwts1\n",
    "y_pred1[0]"
   ]
  },
  {
   "cell_type": "code",
   "execution_count": 121,
   "metadata": {},
   "outputs": [
    {
     "data": {
      "text/plain": [
       "281143.87181772204"
      ]
     },
     "execution_count": 121,
     "metadata": {},
     "output_type": "execute_result"
    }
   ],
   "source": [
    "# predicted price for 1st house with mwts2\n",
    "y_pred2[0]"
   ]
  },
  {
   "cell_type": "code",
   "execution_count": 122,
   "metadata": {},
   "outputs": [
    {
     "data": {
      "text/plain": [
       "323000.0"
      ]
     },
     "execution_count": 122,
     "metadata": {},
     "output_type": "execute_result"
    }
   ],
   "source": [
    "# actual price for 1st house\n",
    "mtout_arr[0]        "
   ]
  },
  {
   "cell_type": "code",
   "execution_count": 125,
   "metadata": {},
   "outputs": [
    {
     "name": "stdout",
     "output_type": "stream",
     "text": [
      "142759126396726.72\n"
     ]
    }
   ],
   "source": [
    "## RSS for mwts1 test data\n",
    "err2 = error(mtfeat_mat,mwts1,mtout_arr)\n",
    "print(err2)"
   ]
  },
  {
   "cell_type": "code",
   "execution_count": 126,
   "metadata": {},
   "outputs": [
    {
     "name": "stdout",
     "output_type": "stream",
     "text": [
      "356770519506378.0\n"
     ]
    }
   ],
   "source": [
    "## RSS for mwts2 test data\n",
    "err2 = error(mtfeat_mat,mwts2,mtout_arr)\n",
    "print(err2)"
   ]
  },
  {
   "cell_type": "code",
   "execution_count": 129,
   "metadata": {},
   "outputs": [
    {
     "data": {
      "text/plain": [
       "-191644.07502822403"
      ]
     },
     "execution_count": 129,
     "metadata": {},
     "output_type": "execute_result"
    }
   ],
   "source": [
    "323000.0-514644.07502822403"
   ]
  },
  {
   "cell_type": "code",
   "execution_count": 146,
   "metadata": {},
   "outputs": [
    {
     "data": {
      "text/plain": [
       "41856.12818227796"
      ]
     },
     "execution_count": 146,
     "metadata": {},
     "output_type": "execute_result"
    }
   ],
   "source": [
    "323000.0-281143.87181772204"
   ]
  },
  {
   "cell_type": "code",
   "execution_count": null,
   "metadata": {},
   "outputs": [],
   "source": []
  },
  {
   "cell_type": "code",
   "execution_count": null,
   "metadata": {},
   "outputs": [],
   "source": []
  },
  {
   "cell_type": "code",
   "execution_count": null,
   "metadata": {},
   "outputs": [],
   "source": []
  }
 ],
 "metadata": {
  "kernelspec": {
   "display_name": "Python 3",
   "language": "python",
   "name": "python3"
  },
  "language_info": {
   "codemirror_mode": {
    "name": "ipython",
    "version": 3
   },
   "file_extension": ".py",
   "mimetype": "text/x-python",
   "name": "python",
   "nbconvert_exporter": "python",
   "pygments_lexer": "ipython3",
   "version": "3.7.3"
  }
 },
 "nbformat": 4,
 "nbformat_minor": 2
}
