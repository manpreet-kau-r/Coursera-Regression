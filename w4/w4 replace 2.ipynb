{
 "cells": [
  {
   "cell_type": "code",
   "execution_count": 216,
   "metadata": {},
   "outputs": [],
   "source": [
    "import numpy as np\n",
    "import pandas as pd\n",
    "import matplotlib.pyplot as plt\n",
    "import random\n",
    "from sklearn.linear_model import LinearRegression,Ridge"
   ]
  },
  {
   "cell_type": "code",
   "execution_count": 217,
   "metadata": {},
   "outputs": [],
   "source": [
    "data=pd.read_csv('kc_house_data.csv')\n",
    "train=pd.read_csv('wk3_kc_house_train_data.csv')\n",
    "test=pd.read_csv('wk3_kc_house_test_data.csv')\n",
    "valid=pd.read_csv('wk3_kc_house_valid_data.csv')\n",
    "tr_val_sh=pd.read_csv('wk3_kc_house_train_valid_shuffled.csv')\n",
    "set1=pd.read_csv('wk3_kc_house_set_1_data.csv')\n",
    "set2=pd.read_csv('wk3_kc_house_set_2_data.csv')\n",
    "set3=pd.read_csv('wk3_kc_house_set_3_data.csv')\n",
    "set4=pd.read_csv('wk3_kc_house_set_4_data.csv')"
   ]
  },
  {
   "cell_type": "code",
   "execution_count": 218,
   "metadata": {},
   "outputs": [],
   "source": [
    "def polynomial_frame(feat, deg):\n",
    "    df=pd.DataFrame()\n",
    "    df['power_1']=feat\n",
    "    if(deg>1):\n",
    "        for power in range(2,deg+1):\n",
    "            name='power_'+str(power)\n",
    "            df[name]=feat**power\n",
    "    return df"
   ]
  },
  {
   "cell_type": "code",
   "execution_count": 219,
   "metadata": {},
   "outputs": [
    {
     "data": {
      "text/html": [
       "<div>\n",
       "<style scoped>\n",
       "    .dataframe tbody tr th:only-of-type {\n",
       "        vertical-align: middle;\n",
       "    }\n",
       "\n",
       "    .dataframe tbody tr th {\n",
       "        vertical-align: top;\n",
       "    }\n",
       "\n",
       "    .dataframe thead th {\n",
       "        text-align: right;\n",
       "    }\n",
       "</style>\n",
       "<table border=\"1\" class=\"dataframe\">\n",
       "  <thead>\n",
       "    <tr style=\"text-align: right;\">\n",
       "      <th></th>\n",
       "      <th>id</th>\n",
       "      <th>date</th>\n",
       "      <th>price</th>\n",
       "      <th>bedrooms</th>\n",
       "      <th>bathrooms</th>\n",
       "      <th>sqft_living</th>\n",
       "      <th>sqft_lot</th>\n",
       "      <th>floors</th>\n",
       "      <th>waterfront</th>\n",
       "      <th>view</th>\n",
       "      <th>...</th>\n",
       "      <th>grade</th>\n",
       "      <th>sqft_above</th>\n",
       "      <th>sqft_basement</th>\n",
       "      <th>yr_built</th>\n",
       "      <th>yr_renovated</th>\n",
       "      <th>zipcode</th>\n",
       "      <th>lat</th>\n",
       "      <th>long</th>\n",
       "      <th>sqft_living15</th>\n",
       "      <th>sqft_lot15</th>\n",
       "    </tr>\n",
       "  </thead>\n",
       "  <tbody>\n",
       "    <tr>\n",
       "      <th>19452</th>\n",
       "      <td>3980300371</td>\n",
       "      <td>20140926T000000</td>\n",
       "      <td>142000.0</td>\n",
       "      <td>0</td>\n",
       "      <td>0.00</td>\n",
       "      <td>290</td>\n",
       "      <td>20875</td>\n",
       "      <td>1.0</td>\n",
       "      <td>0</td>\n",
       "      <td>0</td>\n",
       "      <td>...</td>\n",
       "      <td>1</td>\n",
       "      <td>290</td>\n",
       "      <td>0</td>\n",
       "      <td>1963</td>\n",
       "      <td>0</td>\n",
       "      <td>98024</td>\n",
       "      <td>47.5308</td>\n",
       "      <td>-121.888</td>\n",
       "      <td>1620</td>\n",
       "      <td>22850</td>\n",
       "    </tr>\n",
       "    <tr>\n",
       "      <th>15381</th>\n",
       "      <td>2856101479</td>\n",
       "      <td>20140701T000000</td>\n",
       "      <td>276000.0</td>\n",
       "      <td>1</td>\n",
       "      <td>0.75</td>\n",
       "      <td>370</td>\n",
       "      <td>1801</td>\n",
       "      <td>1.0</td>\n",
       "      <td>0</td>\n",
       "      <td>0</td>\n",
       "      <td>...</td>\n",
       "      <td>5</td>\n",
       "      <td>370</td>\n",
       "      <td>0</td>\n",
       "      <td>1923</td>\n",
       "      <td>0</td>\n",
       "      <td>98117</td>\n",
       "      <td>47.6778</td>\n",
       "      <td>-122.389</td>\n",
       "      <td>1340</td>\n",
       "      <td>5000</td>\n",
       "    </tr>\n",
       "    <tr>\n",
       "      <th>860</th>\n",
       "      <td>1723049033</td>\n",
       "      <td>20140620T000000</td>\n",
       "      <td>245000.0</td>\n",
       "      <td>1</td>\n",
       "      <td>0.75</td>\n",
       "      <td>380</td>\n",
       "      <td>15000</td>\n",
       "      <td>1.0</td>\n",
       "      <td>0</td>\n",
       "      <td>0</td>\n",
       "      <td>...</td>\n",
       "      <td>5</td>\n",
       "      <td>380</td>\n",
       "      <td>0</td>\n",
       "      <td>1963</td>\n",
       "      <td>0</td>\n",
       "      <td>98168</td>\n",
       "      <td>47.4810</td>\n",
       "      <td>-122.323</td>\n",
       "      <td>1170</td>\n",
       "      <td>15000</td>\n",
       "    </tr>\n",
       "    <tr>\n",
       "      <th>18379</th>\n",
       "      <td>1222029077</td>\n",
       "      <td>20141029T000000</td>\n",
       "      <td>265000.0</td>\n",
       "      <td>0</td>\n",
       "      <td>0.75</td>\n",
       "      <td>384</td>\n",
       "      <td>213444</td>\n",
       "      <td>1.0</td>\n",
       "      <td>0</td>\n",
       "      <td>0</td>\n",
       "      <td>...</td>\n",
       "      <td>4</td>\n",
       "      <td>384</td>\n",
       "      <td>0</td>\n",
       "      <td>2003</td>\n",
       "      <td>0</td>\n",
       "      <td>98070</td>\n",
       "      <td>47.4177</td>\n",
       "      <td>-122.491</td>\n",
       "      <td>1920</td>\n",
       "      <td>224341</td>\n",
       "    </tr>\n",
       "    <tr>\n",
       "      <th>4868</th>\n",
       "      <td>6896300380</td>\n",
       "      <td>20141002T000000</td>\n",
       "      <td>228000.0</td>\n",
       "      <td>0</td>\n",
       "      <td>1.00</td>\n",
       "      <td>390</td>\n",
       "      <td>5900</td>\n",
       "      <td>1.0</td>\n",
       "      <td>0</td>\n",
       "      <td>0</td>\n",
       "      <td>...</td>\n",
       "      <td>4</td>\n",
       "      <td>390</td>\n",
       "      <td>0</td>\n",
       "      <td>1953</td>\n",
       "      <td>0</td>\n",
       "      <td>98118</td>\n",
       "      <td>47.5260</td>\n",
       "      <td>-122.261</td>\n",
       "      <td>2170</td>\n",
       "      <td>6000</td>\n",
       "    </tr>\n",
       "  </tbody>\n",
       "</table>\n",
       "<p>5 rows × 21 columns</p>\n",
       "</div>"
      ],
      "text/plain": [
       "               id             date     price  bedrooms  bathrooms  \\\n",
       "19452  3980300371  20140926T000000  142000.0         0       0.00   \n",
       "15381  2856101479  20140701T000000  276000.0         1       0.75   \n",
       "860    1723049033  20140620T000000  245000.0         1       0.75   \n",
       "18379  1222029077  20141029T000000  265000.0         0       0.75   \n",
       "4868   6896300380  20141002T000000  228000.0         0       1.00   \n",
       "\n",
       "       sqft_living  sqft_lot  floors  waterfront  view  ...  grade  \\\n",
       "19452          290     20875     1.0           0     0  ...      1   \n",
       "15381          370      1801     1.0           0     0  ...      5   \n",
       "860            380     15000     1.0           0     0  ...      5   \n",
       "18379          384    213444     1.0           0     0  ...      4   \n",
       "4868           390      5900     1.0           0     0  ...      4   \n",
       "\n",
       "       sqft_above  sqft_basement  yr_built  yr_renovated  zipcode      lat  \\\n",
       "19452         290              0      1963             0    98024  47.5308   \n",
       "15381         370              0      1923             0    98117  47.6778   \n",
       "860           380              0      1963             0    98168  47.4810   \n",
       "18379         384              0      2003             0    98070  47.4177   \n",
       "4868          390              0      1953             0    98118  47.5260   \n",
       "\n",
       "          long  sqft_living15  sqft_lot15  \n",
       "19452 -121.888           1620       22850  \n",
       "15381 -122.389           1340        5000  \n",
       "860   -122.323           1170       15000  \n",
       "18379 -122.491           1920      224341  \n",
       "4868  -122.261           2170        6000  \n",
       "\n",
       "[5 rows x 21 columns]"
      ]
     },
     "execution_count": 219,
     "metadata": {},
     "output_type": "execute_result"
    }
   ],
   "source": [
    "# sort by sqft and if same,then by price\n",
    "data=data.sort_values(['sqft_living','price'])\n",
    "data.head()"
   ]
  },
  {
   "cell_type": "code",
   "execution_count": 220,
   "metadata": {},
   "outputs": [
    {
     "data": {
      "text/html": [
       "<div>\n",
       "<style scoped>\n",
       "    .dataframe tbody tr th:only-of-type {\n",
       "        vertical-align: middle;\n",
       "    }\n",
       "\n",
       "    .dataframe tbody tr th {\n",
       "        vertical-align: top;\n",
       "    }\n",
       "\n",
       "    .dataframe thead th {\n",
       "        text-align: right;\n",
       "    }\n",
       "</style>\n",
       "<table border=\"1\" class=\"dataframe\">\n",
       "  <thead>\n",
       "    <tr style=\"text-align: right;\">\n",
       "      <th></th>\n",
       "      <th>power_1</th>\n",
       "      <th>power_2</th>\n",
       "      <th>power_3</th>\n",
       "      <th>power_4</th>\n",
       "      <th>power_5</th>\n",
       "      <th>power_6</th>\n",
       "      <th>power_7</th>\n",
       "      <th>power_8</th>\n",
       "      <th>power_9</th>\n",
       "      <th>power_10</th>\n",
       "      <th>power_11</th>\n",
       "      <th>power_12</th>\n",
       "      <th>power_13</th>\n",
       "      <th>power_14</th>\n",
       "      <th>power_15</th>\n",
       "      <th>price</th>\n",
       "    </tr>\n",
       "  </thead>\n",
       "  <tbody>\n",
       "    <tr>\n",
       "      <th>19452</th>\n",
       "      <td>290</td>\n",
       "      <td>84100</td>\n",
       "      <td>24389000</td>\n",
       "      <td>7072810000</td>\n",
       "      <td>2051114900000</td>\n",
       "      <td>594823321000000</td>\n",
       "      <td>172498763090000000</td>\n",
       "      <td>-5315590925028654848</td>\n",
       "      <td>8005133933292429824</td>\n",
       "      <td>-2800912632598854656</td>\n",
       "      <td>-607924210447579136</td>\n",
       "      <td>8169419707297566720</td>\n",
       "      <td>7948473681471741952</td>\n",
       "      <td>-785641586888785920</td>\n",
       "      <td>-6475131313233297408</td>\n",
       "      <td>142000.0</td>\n",
       "    </tr>\n",
       "    <tr>\n",
       "      <th>15381</th>\n",
       "      <td>370</td>\n",
       "      <td>136900</td>\n",
       "      <td>50653000</td>\n",
       "      <td>18741610000</td>\n",
       "      <td>6934395700000</td>\n",
       "      <td>2565726409000000</td>\n",
       "      <td>949318771330000000</td>\n",
       "      <td>759807991618519296</td>\n",
       "      <td>4427795793208865280</td>\n",
       "      <td>-3475779072869940224</td>\n",
       "      <td>5233828197790730240</td>\n",
       "      <td>-391694556932730880</td>\n",
       "      <td>2646966524565987328</td>\n",
       "      <td>1700178182809075712</td>\n",
       "      <td>1876629133233258496</td>\n",
       "      <td>276000.0</td>\n",
       "    </tr>\n",
       "    <tr>\n",
       "      <th>860</th>\n",
       "      <td>380</td>\n",
       "      <td>144400</td>\n",
       "      <td>54872000</td>\n",
       "      <td>20851360000</td>\n",
       "      <td>7923516800000</td>\n",
       "      <td>3010936384000000</td>\n",
       "      <td>1144155825920000000</td>\n",
       "      <td>-7942643919429238784</td>\n",
       "      <td>7061338705255727104</td>\n",
       "      <td>8530817309291315200</td>\n",
       "      <td>-4916379442181308416</td>\n",
       "      <td>-5103036584232484864</td>\n",
       "      <td>-2245774268841328640</td>\n",
       "      <td>-4843994769065508864</td>\n",
       "      <td>3956395126061793280</td>\n",
       "      <td>245000.0</td>\n",
       "    </tr>\n",
       "    <tr>\n",
       "      <th>18379</th>\n",
       "      <td>384</td>\n",
       "      <td>147456</td>\n",
       "      <td>56623104</td>\n",
       "      <td>21743271936</td>\n",
       "      <td>8349416423424</td>\n",
       "      <td>3206175906594816</td>\n",
       "      <td>1231171548132409344</td>\n",
       "      <td>-6845471433603153920</td>\n",
       "      <td>-9223372036854775808</td>\n",
       "      <td>0</td>\n",
       "      <td>0</td>\n",
       "      <td>0</td>\n",
       "      <td>0</td>\n",
       "      <td>0</td>\n",
       "      <td>0</td>\n",
       "      <td>265000.0</td>\n",
       "    </tr>\n",
       "    <tr>\n",
       "      <th>4868</th>\n",
       "      <td>390</td>\n",
       "      <td>152100</td>\n",
       "      <td>59319000</td>\n",
       "      <td>23134410000</td>\n",
       "      <td>9022419900000</td>\n",
       "      <td>3518743761000000</td>\n",
       "      <td>1372310066790000000</td>\n",
       "      <td>245347910523003136</td>\n",
       "      <td>3451964735423464960</td>\n",
       "      <td>-346070565645933568</td>\n",
       "      <td>-5840312085947230208</td>\n",
       "      <td>-8772192453144932352</td>\n",
       "      <td>-8507403090256568320</td>\n",
       "      <td>2526728067657646080</td>\n",
       "      <td>7746510479875735552</td>\n",
       "      <td>228000.0</td>\n",
       "    </tr>\n",
       "  </tbody>\n",
       "</table>\n",
       "</div>"
      ],
      "text/plain": [
       "       power_1  power_2   power_3      power_4        power_5  \\\n",
       "19452      290    84100  24389000   7072810000  2051114900000   \n",
       "15381      370   136900  50653000  18741610000  6934395700000   \n",
       "860        380   144400  54872000  20851360000  7923516800000   \n",
       "18379      384   147456  56623104  21743271936  8349416423424   \n",
       "4868       390   152100  59319000  23134410000  9022419900000   \n",
       "\n",
       "                power_6              power_7              power_8  \\\n",
       "19452   594823321000000   172498763090000000 -5315590925028654848   \n",
       "15381  2565726409000000   949318771330000000   759807991618519296   \n",
       "860    3010936384000000  1144155825920000000 -7942643919429238784   \n",
       "18379  3206175906594816  1231171548132409344 -6845471433603153920   \n",
       "4868   3518743761000000  1372310066790000000   245347910523003136   \n",
       "\n",
       "                   power_9             power_10             power_11  \\\n",
       "19452  8005133933292429824 -2800912632598854656  -607924210447579136   \n",
       "15381  4427795793208865280 -3475779072869940224  5233828197790730240   \n",
       "860    7061338705255727104  8530817309291315200 -4916379442181308416   \n",
       "18379 -9223372036854775808                    0                    0   \n",
       "4868   3451964735423464960  -346070565645933568 -5840312085947230208   \n",
       "\n",
       "                  power_12             power_13             power_14  \\\n",
       "19452  8169419707297566720  7948473681471741952  -785641586888785920   \n",
       "15381  -391694556932730880  2646966524565987328  1700178182809075712   \n",
       "860   -5103036584232484864 -2245774268841328640 -4843994769065508864   \n",
       "18379                    0                    0                    0   \n",
       "4868  -8772192453144932352 -8507403090256568320  2526728067657646080   \n",
       "\n",
       "                  power_15     price  \n",
       "19452 -6475131313233297408  142000.0  \n",
       "15381  1876629133233258496  276000.0  \n",
       "860    3956395126061793280  245000.0  \n",
       "18379                    0  265000.0  \n",
       "4868   7746510479875735552  228000.0  "
      ]
     },
     "execution_count": 220,
     "metadata": {},
     "output_type": "execute_result"
    }
   ],
   "source": [
    "poly_15 = polynomial_frame(data['sqft_living'],deg=15)\n",
    "poly_15['price']=data['price']\n",
    "poly_15.head()"
   ]
  },
  {
   "cell_type": "code",
   "execution_count": 221,
   "metadata": {},
   "outputs": [],
   "source": [
    "from sklearn.linear_model import Ridge"
   ]
  },
  {
   "cell_type": "code",
   "execution_count": 222,
   "metadata": {},
   "outputs": [
    {
     "data": {
      "text/plain": [
       "Ridge(alpha=1.5e-05, copy_X=True, fit_intercept=True, max_iter=None,\n",
       "   normalize=True, random_state=None, solver='auto', tol=0.001)"
      ]
     },
     "execution_count": 222,
     "metadata": {},
     "output_type": "execute_result"
    }
   ],
   "source": [
    "# negligible ridge regression\n",
    "l2_s_pen = 1.5e-5\n",
    "x=poly_15.iloc[:,:-1]\n",
    "y=poly_15.iloc[:,-1]\n",
    "model=Ridge(alpha=l2_s_pen,normalize=True)\n",
    "model.fit(x,y)"
   ]
  },
  {
   "cell_type": "code",
   "execution_count": 223,
   "metadata": {},
   "outputs": [
    {
     "data": {
      "text/plain": [
       "array([ 7.01020132e+01,  1.37941144e-02,  8.65543688e-06, -6.27671473e-10,\n",
       "       -1.94650224e-14, -1.57815966e-16, -4.60871912e-16,  3.42228860e-16,\n",
       "       -1.99319710e-16, -2.50411580e-16,  2.16777428e-16,  6.76179392e-16,\n",
       "        4.48006670e-16, -4.08142514e-16,  6.70601594e-17])"
      ]
     },
     "execution_count": 223,
     "metadata": {},
     "output_type": "execute_result"
    }
   ],
   "source": [
    "# coeff learned\n",
    "model.coef_"
   ]
  },
  {
   "cell_type": "markdown",
   "metadata": {},
   "source": [
    "### on 4 sets with negligible penalty"
   ]
  },
  {
   "cell_type": "code",
   "execution_count": 224,
   "metadata": {},
   "outputs": [],
   "source": [
    "l2=1e-9"
   ]
  },
  {
   "cell_type": "code",
   "execution_count": 225,
   "metadata": {},
   "outputs": [
    {
     "data": {
      "text/plain": [
       "Ridge(alpha=1e-09, copy_X=True, fit_intercept=True, max_iter=None,\n",
       "   normalize=True, random_state=None, solver='auto', tol=0.001)"
      ]
     },
     "execution_count": 225,
     "metadata": {},
     "output_type": "execute_result"
    }
   ],
   "source": [
    "# set1\n",
    "s1_15 = polynomial_frame(set1['sqft_living'],deg=15)\n",
    "model1=Ridge(alpha=l2,normalize=True)\n",
    "model1.fit(s1_15,set1['price'])"
   ]
  },
  {
   "cell_type": "code",
   "execution_count": 226,
   "metadata": {},
   "outputs": [
    {
     "data": {
      "text/plain": [
       "Ridge(alpha=1e-09, copy_X=True, fit_intercept=True, max_iter=None,\n",
       "   normalize=True, random_state=None, solver='auto', tol=0.001)"
      ]
     },
     "execution_count": 226,
     "metadata": {},
     "output_type": "execute_result"
    }
   ],
   "source": [
    "# set2\n",
    "s2_15 = polynomial_frame(set2['sqft_living'],deg=15)\n",
    "model2=Ridge(alpha=l2,normalize=True)\n",
    "model2.fit(s2_15,set2['price'])"
   ]
  },
  {
   "cell_type": "code",
   "execution_count": 227,
   "metadata": {},
   "outputs": [
    {
     "data": {
      "text/plain": [
       "Ridge(alpha=1e-09, copy_X=True, fit_intercept=True, max_iter=None,\n",
       "   normalize=True, random_state=None, solver='auto', tol=0.001)"
      ]
     },
     "execution_count": 227,
     "metadata": {},
     "output_type": "execute_result"
    }
   ],
   "source": [
    "# set3\n",
    "s3_15 = polynomial_frame(set3['sqft_living'],deg=15)\n",
    "model3=Ridge(alpha=l2,normalize=True)\n",
    "model3.fit(s3_15,set3['price'])"
   ]
  },
  {
   "cell_type": "code",
   "execution_count": 228,
   "metadata": {},
   "outputs": [
    {
     "data": {
      "text/plain": [
       "Ridge(alpha=1e-09, copy_X=True, fit_intercept=True, max_iter=None,\n",
       "   normalize=True, random_state=None, solver='auto', tol=0.001)"
      ]
     },
     "execution_count": 228,
     "metadata": {},
     "output_type": "execute_result"
    }
   ],
   "source": [
    "# set4\n",
    "s4_15 = polynomial_frame(set4['sqft_living'],deg=15)\n",
    "model4=Ridge(alpha=l2,normalize=True)\n",
    "model4.fit(s4_15,set4['price'])"
   ]
  },
  {
   "cell_type": "code",
   "execution_count": 229,
   "metadata": {},
   "outputs": [],
   "source": [
    "s1_pred=model1.predict(s1_15)\n",
    "s2_pred=model2.predict(s2_15)\n",
    "s3_pred=model3.predict(s3_15)\n",
    "s4_pred=model4.predict(s4_15)"
   ]
  },
  {
   "cell_type": "code",
   "execution_count": 230,
   "metadata": {},
   "outputs": [
    {
     "data": {
      "image/png": "[encoded data removed]",
      "text/plain": [
       "<Figure size 432x288 with 1 Axes>"
      ]
     },
     "metadata": {
      "needs_background": "light"
     },
     "output_type": "display_data"
    },
    {
     "data": {
      "image/png": "[encoded data removed]",
      "text/plain": [
       "<Figure size 432x288 with 1 Axes>"
      ]
     },
     "metadata": {
      "needs_background": "light"
     },
     "output_type": "display_data"
    },
    {
     "data": {
      "image/png": "[encoded data removed]",
      "text/plain": [
       "<Figure size 432x288 with 1 Axes>"
      ]
     },
     "metadata": {
      "needs_background": "light"
     },
     "output_type": "display_data"
    },
    {
     "data": {
      "image/png": "[encoded data removed]",
      "text/plain": [
       "<Figure size 432x288 with 1 Axes>"
      ]
     },
     "metadata": {
      "needs_background": "light"
     },
     "output_type": "display_data"
    }
   ],
   "source": [
    "plt.plot(s1_15['power_1'],set1['price'],'.',s1_15['power_1'],s1_pred,'-')\n",
    "plt.show()\n",
    "plt.plot(s2_15['power_1'],set2['price'],'.',s2_15['power_1'],s2_pred,'-')\n",
    "plt.show()\n",
    "plt.plot(s3_15['power_1'],set3['price'],'.',s3_15['power_1'],s3_pred,'-')\n",
    "plt.show()\n",
    "plt.plot(s4_15['power_1'],set4['price'],'.',s4_15['power_1'],s4_pred,'-')\n",
    "plt.show()"
   ]
  },
  {
   "cell_type": "code",
   "execution_count": 231,
   "metadata": {},
   "outputs": [
    {
     "name": "stdout",
     "output_type": "stream",
     "text": [
      "[ 6.23857718e+01  1.98235299e-02  7.56558420e-06 -5.91491377e-10\n",
      " -1.96217953e-14  1.86865173e-16 -6.62909386e-16  2.79625958e-16\n",
      " -1.81062210e-16 -1.24404650e-15  2.30366670e-16  5.06433875e-16\n",
      "  2.25732230e-16 -3.14308031e-16 -3.32978688e-16]\n",
      "227417.22904264537\n"
     ]
    }
   ],
   "source": [
    "print(model1.coef_)\n",
    "print(model1.intercept_)"
   ]
  },
  {
   "cell_type": "code",
   "execution_count": 232,
   "metadata": {},
   "outputs": [
    {
     "name": "stdout",
     "output_type": "stream",
     "text": [
      "[-2.19894686e+02  1.69130364e-01 -2.27849601e-05  1.34431957e-09\n",
      " -1.20432513e-14  7.64003745e-16 -4.89141524e-16 -2.93941735e-16\n",
      " -6.17970420e-16  3.81800372e-16  5.15069439e-16  8.98788959e-16\n",
      "  1.08009405e-15 -4.37750733e-16  1.40403443e-15]\n",
      "398707.2633988985\n"
     ]
    }
   ],
   "source": [
    "print(model2.coef_)\n",
    "print(model2.intercept_)"
   ]
  },
  {
   "cell_type": "code",
   "execution_count": 233,
   "metadata": {},
   "outputs": [
    {
     "name": "stdout",
     "output_type": "stream",
     "text": [
      "[-1.98970177e+02  1.57531730e-01 -2.04008046e-05  1.26203624e-09\n",
      " -1.59074526e-14 -2.70708681e-16 -4.55047514e-16  5.97386817e-16\n",
      "  4.28518765e-16  5.27358368e-16 -4.79130198e-16  1.20138611e-15\n",
      "  6.23420738e-16  3.65494169e-16 -3.00231269e-16]\n",
      "389087.92292773764\n"
     ]
    }
   ],
   "source": [
    "print(model3.coef_)\n",
    "print(model3.intercept_)"
   ]
  },
  {
   "cell_type": "code",
   "execution_count": 234,
   "metadata": {},
   "outputs": [
    {
     "name": "stdout",
     "output_type": "stream",
     "text": [
      "[-3.48248202e+01  7.33755964e-02 -5.31371126e-06  3.38536611e-10\n",
      "  3.57683193e-14 -1.23385098e-15 -4.13869228e-16  8.99222180e-16\n",
      " -4.98668926e-16 -5.35366910e-16  2.49778932e-16  4.01979504e-16\n",
      "  3.06323327e-16 -1.03551797e-15 -3.19399858e-16]\n",
      "290807.15926167066\n"
     ]
    }
   ],
   "source": [
    "print(model4.coef_)\n",
    "print(model4.intercept_)"
   ]
  },
  {
   "cell_type": "markdown",
   "metadata": {},
   "source": [
    "## ridge regression with large penalty"
   ]
  },
  {
   "cell_type": "code",
   "execution_count": 235,
   "metadata": {},
   "outputs": [],
   "source": [
    "l2_l=1.23e2"
   ]
  },
  {
   "cell_type": "code",
   "execution_count": 236,
   "metadata": {},
   "outputs": [
    {
     "data": {
      "text/plain": [
       "Ridge(alpha=123.0, copy_X=True, fit_intercept=True, max_iter=None,\n",
       "   normalize=True, random_state=None, solver='auto', tol=0.001)"
      ]
     },
     "execution_count": 236,
     "metadata": {},
     "output_type": "execute_result"
    }
   ],
   "source": [
    "# set1\n",
    "s1_15 = polynomial_frame(set1['sqft_living'],deg=15)\n",
    "model1=Ridge(alpha=l2_l,normalize=True)\n",
    "model1.fit(s1_15,set1['price'])"
   ]
  },
  {
   "cell_type": "code",
   "execution_count": 237,
   "metadata": {},
   "outputs": [
    {
     "data": {
      "text/plain": [
       "Ridge(alpha=123.0, copy_X=True, fit_intercept=True, max_iter=None,\n",
       "   normalize=True, random_state=None, solver='auto', tol=0.001)"
      ]
     },
     "execution_count": 237,
     "metadata": {},
     "output_type": "execute_result"
    }
   ],
   "source": [
    "# set2\n",
    "s2_15 = polynomial_frame(set2['sqft_living'],deg=15)\n",
    "model2=Ridge(alpha=l2_l,normalize=True)\n",
    "model2.fit(s2_15,set2['price'])"
   ]
  },
  {
   "cell_type": "code",
   "execution_count": 238,
   "metadata": {},
   "outputs": [
    {
     "data": {
      "text/plain": [
       "Ridge(alpha=123.0, copy_X=True, fit_intercept=True, max_iter=None,\n",
       "   normalize=True, random_state=None, solver='auto', tol=0.001)"
      ]
     },
     "execution_count": 238,
     "metadata": {},
     "output_type": "execute_result"
    }
   ],
   "source": [
    "# set3\n",
    "s3_15 = polynomial_frame(set3['sqft_living'],deg=15)\n",
    "model3=Ridge(alpha=l2_l,normalize=True)\n",
    "model3.fit(s3_15,set3['price'])"
   ]
  },
  {
   "cell_type": "code",
   "execution_count": 239,
   "metadata": {},
   "outputs": [
    {
     "data": {
      "text/plain": [
       "Ridge(alpha=123.0, copy_X=True, fit_intercept=True, max_iter=None,\n",
       "   normalize=True, random_state=None, solver='auto', tol=0.001)"
      ]
     },
     "execution_count": 239,
     "metadata": {},
     "output_type": "execute_result"
    }
   ],
   "source": [
    "# set4\n",
    "s4_15 = polynomial_frame(set4['sqft_living'],deg=15)\n",
    "model4=Ridge(alpha=l2_l,normalize=True)\n",
    "model4.fit(s4_15,set4['price'])"
   ]
  },
  {
   "cell_type": "code",
   "execution_count": 240,
   "metadata": {},
   "outputs": [],
   "source": [
    "s1_pred=model1.predict(s1_15)\n",
    "s2_pred=model2.predict(s2_15)\n",
    "s3_pred=model3.predict(s3_15)\n",
    "s4_pred=model4.predict(s4_15)"
   ]
  },
  {
   "cell_type": "code",
   "execution_count": 241,
   "metadata": {},
   "outputs": [
    {
     "data": {
      "image/png": "[encoded data removed]",
      "text/plain": [
       "<Figure size 432x288 with 1 Axes>"
      ]
     },
     "metadata": {
      "needs_background": "light"
     },
     "output_type": "display_data"
    },
    {
     "data": {
      "image/png": "[encoded data removed]",
      "text/plain": [
       "<Figure size 432x288 with 1 Axes>"
      ]
     },
     "metadata": {
      "needs_background": "light"
     },
     "output_type": "display_data"
    },
    {
     "data": {
      "image/png": "[encoded data removed]",
      "text/plain": [
       "<Figure size 432x288 with 1 Axes>"
      ]
     },
     "metadata": {
      "needs_background": "light"
     },
     "output_type": "display_data"
    },
    {
     "data": {
      "image/png": "[encoded data removed]",
      "text/plain": [
       "<Figure size 432x288 with 1 Axes>"
      ]
     },
     "metadata": {
      "needs_background": "light"
     },
     "output_type": "display_data"
    }
   ],
   "source": [
    "plt.plot(s1_15['power_1'],set1['price'],'.',s1_15['power_1'],s1_pred,'-')\n",
    "plt.show()\n",
    "plt.plot(s2_15['power_1'],set2['price'],'.',s2_15['power_1'],s2_pred,'-')\n",
    "plt.show()\n",
    "plt.plot(s3_15['power_1'],set3['price'],'.',s3_15['power_1'],s3_pred,'-')\n",
    "plt.show()\n",
    "plt.plot(s4_15['power_1'],set4['price'],'.',s4_15['power_1'],s4_pred,'-')\n",
    "plt.show()"
   ]
  },
  {
   "cell_type": "code",
   "execution_count": 242,
   "metadata": {},
   "outputs": [
    {
     "name": "stdout",
     "output_type": "stream",
     "text": [
      "[ 2.33302293e+00  3.56038341e-04  3.37288360e-08  2.06040887e-12\n",
      "  1.36746708e-15 -1.92341983e-17  1.04834390e-17 -9.30269146e-18\n",
      " -8.46418543e-18 -1.59248399e-17  9.41566963e-18  1.22423043e-18\n",
      "  5.91820334e-18 -1.47750360e-17 -2.35836923e-17]\n",
      "538993.0574768196\n"
     ]
    }
   ],
   "source": [
    "print(model1.coef_)\n",
    "print(model1.intercept_)"
   ]
  },
  {
   "cell_type": "code",
   "execution_count": 243,
   "metadata": {},
   "outputs": [
    {
     "name": "stdout",
     "output_type": "stream",
     "text": [
      "[ 2.10772269e+00  3.94453401e-04  6.78444742e-08  9.15014451e-12\n",
      "  1.94720746e-15 -2.53164281e-17  1.02334725e-17 -4.38033903e-18\n",
      " -7.39193953e-18 -1.03274762e-18  8.33154295e-18  4.90077187e-18\n",
      " -3.58306755e-18 -1.75676068e-17 -1.57687979e-17]\n",
      "529947.1244426621\n"
     ]
    }
   ],
   "source": [
    "print(model2.coef_)\n",
    "print(model2.intercept_)"
   ]
  },
  {
   "cell_type": "code",
   "execution_count": 244,
   "metadata": {},
   "outputs": [
    {
     "name": "stdout",
     "output_type": "stream",
     "text": [
      "[ 2.31123641e+00  4.20062138e-04  6.28136039e-08  6.89987701e-12\n",
      "  1.20756329e-15 -1.89793802e-17  5.95314134e-18 -8.07909989e-18\n",
      " -5.49082928e-18 -1.34742751e-17  2.35169643e-18 -4.76775704e-18\n",
      " -1.73049455e-17 -1.11975184e-17 -3.04976179e-17]\n",
      "533849.9674388649\n"
     ]
    }
   ],
   "source": [
    "print(model3.coef_)\n",
    "print(model3.intercept_)"
   ]
  },
  {
   "cell_type": "code",
   "execution_count": 245,
   "metadata": {},
   "outputs": [
    {
     "name": "stdout",
     "output_type": "stream",
     "text": [
      "[ 2.10018378e+00  4.09722690e-04  7.60925093e-08  1.16346493e-11\n",
      "  2.52725095e-15 -3.60823239e-17  1.34459584e-17 -1.42653353e-18\n",
      " -1.20066039e-17 -7.79542974e-18  1.44429140e-17 -7.79955285e-18\n",
      " -2.56592299e-18 -2.15123845e-17 -2.67990091e-17]\n",
      "524791.1112752551\n"
     ]
    }
   ],
   "source": [
    "print(model4.coef_)\n",
    "print(model4.intercept_)"
   ]
  },
  {
   "cell_type": "markdown",
   "metadata": {},
   "source": [
    "## select penalty via cross val"
   ]
  },
  {
   "cell_type": "code",
   "execution_count": 246,
   "metadata": {},
   "outputs": [
    {
     "name": "stdout",
     "output_type": "stream",
     "text": [
      "0 (0.0, 1938.6)\n",
      "1 (1939.6, 3878.2)\n",
      "2 (3879.2, 5817.8)\n",
      "3 (5818.8, 7757.4)\n",
      "4 (7758.4, 9697.0)\n",
      "5 (9698.0, 11636.6)\n",
      "6 (11637.6, 13576.2)\n",
      "7 (13577.2, 15515.8)\n",
      "8 (15516.8, 17455.4)\n",
      "9 (17456.4, 19395.0)\n",
      "19396\n"
     ]
    }
   ],
   "source": [
    "n = len(tr_val_sh)\n",
    "k = 10       # 10-fold cross-validation\n",
    "\n",
    "for i in range(k):\n",
    "    start = (n*i)/k\n",
    "    end = (n*(i+1))/k-1\n",
    "    print( i, (start, end))\n",
    "print(n)"
   ]
  },
  {
   "cell_type": "code",
   "execution_count": 247,
   "metadata": {},
   "outputs": [],
   "source": [
    "def k_fold_cross_validation(k, l2_pen, data, out):\n",
    "    err=0.0\n",
    "    n=len(data)\n",
    "    for i in range(k):\n",
    "        start=int((n*i)/k)\n",
    "        end=int((n*(i+1))/k-1)\n",
    "        \n",
    "        val_x=data[start:end+1]\n",
    "        train_x=data[0:start]\n",
    "        train_x=train_x.append(data[end+1:n])\n",
    "        \n",
    "        val_y=out[start:end+1]\n",
    "        train_y=out[0:start]\n",
    "        train_y=train_y.append(out[end+1:n])\n",
    "        \n",
    "        model=Ridge(alpha=l2_pen)\n",
    "        model.fit(train_x,train_y)\n",
    "        \n",
    "        pred=np.array(model.predict(val_x))\n",
    "        t= np.sum( (val_y-pred)**2 )\n",
    "        err+=t\n",
    "        \n",
    "    err=float(err)\n",
    "    return err/k"
   ]
  },
  {
   "cell_type": "code",
   "execution_count": 248,
   "metadata": {},
   "outputs": [
    {
     "data": {
      "text/plain": [
       "array([1.00000000e+03, 3.16227766e+03, 1.00000000e+04, 3.16227766e+04,\n",
       "       1.00000000e+05, 3.16227766e+05, 1.00000000e+06, 3.16227766e+06,\n",
       "       1.00000000e+07, 3.16227766e+07, 1.00000000e+08, 3.16227766e+08,\n",
       "       1.00000000e+09])"
      ]
     },
     "execution_count": 248,
     "metadata": {},
     "output_type": "execute_result"
    }
   ],
   "source": [
    "l2_pen=np.logspace(3, 9, num=13)\n",
    "l2_pen"
   ]
  },
  {
   "cell_type": "code",
   "execution_count": 249,
   "metadata": {},
   "outputs": [
    {
     "data": {
      "text/html": [
       "<div>\n",
       "<style scoped>\n",
       "    .dataframe tbody tr th:only-of-type {\n",
       "        vertical-align: middle;\n",
       "    }\n",
       "\n",
       "    .dataframe tbody tr th {\n",
       "        vertical-align: top;\n",
       "    }\n",
       "\n",
       "    .dataframe thead th {\n",
       "        text-align: right;\n",
       "    }\n",
       "</style>\n",
       "<table border=\"1\" class=\"dataframe\">\n",
       "  <thead>\n",
       "    <tr style=\"text-align: right;\">\n",
       "      <th></th>\n",
       "      <th>power_1</th>\n",
       "      <th>power_2</th>\n",
       "      <th>power_3</th>\n",
       "      <th>power_4</th>\n",
       "      <th>power_5</th>\n",
       "      <th>power_6</th>\n",
       "      <th>power_7</th>\n",
       "      <th>power_8</th>\n",
       "      <th>power_9</th>\n",
       "      <th>power_10</th>\n",
       "      <th>power_11</th>\n",
       "      <th>power_12</th>\n",
       "      <th>power_13</th>\n",
       "      <th>power_14</th>\n",
       "      <th>power_15</th>\n",
       "    </tr>\n",
       "  </thead>\n",
       "  <tbody>\n",
       "    <tr>\n",
       "      <th>0</th>\n",
       "      <td>2800</td>\n",
       "      <td>7840000</td>\n",
       "      <td>21952000000</td>\n",
       "      <td>61465600000000</td>\n",
       "      <td>172103680000000000</td>\n",
       "      <td>2274958083551657984</td>\n",
       "      <td>5755928514847047680</td>\n",
       "      <td>-5854478850414608384</td>\n",
       "      <td>6614700366887911424</td>\n",
       "      <td>629977281762164736</td>\n",
       "      <td>-6951042142055694336</td>\n",
       "      <td>-1602999992367185920</td>\n",
       "      <td>-5841168716699533312</td>\n",
       "      <td>6989586621679009792</td>\n",
       "      <td>-1152921504606846976</td>\n",
       "    </tr>\n",
       "    <tr>\n",
       "      <th>1</th>\n",
       "      <td>2490</td>\n",
       "      <td>6200100</td>\n",
       "      <td>15438249000</td>\n",
       "      <td>38441240010000</td>\n",
       "      <td>95718687624900000</td>\n",
       "      <td>-1468140772223171008</td>\n",
       "      <td>-3215196241204589952</td>\n",
       "      <td>48287390516420864</td>\n",
       "      <td>-8891606130078909952</td>\n",
       "      <td>-4006375445023841280</td>\n",
       "      <td>3813685767502637056</td>\n",
       "      <td>-3995636878852812800</td>\n",
       "      <td>-6340772614055550976</td>\n",
       "      <td>1889118097054253056</td>\n",
       "      <td>-15677130845552640</td>\n",
       "    </tr>\n",
       "    <tr>\n",
       "      <th>2</th>\n",
       "      <td>2340</td>\n",
       "      <td>5475600</td>\n",
       "      <td>12812904000</td>\n",
       "      <td>29982195360000</td>\n",
       "      <td>70158337142400000</td>\n",
       "      <td>-1850187750169964544</td>\n",
       "      <td>5545521924027596800</td>\n",
       "      <td>8460218406761725952</td>\n",
       "      <td>3554680732089843712</td>\n",
       "      <td>-1528664152773492736</td>\n",
       "      <td>1594232809680011264</td>\n",
       "      <td>4262471761896931328</td>\n",
       "      <td>-5504621038048116736</td>\n",
       "      <td>-4985865583326134272</td>\n",
       "      <td>-8583210398717575168</td>\n",
       "    </tr>\n",
       "    <tr>\n",
       "      <th>3</th>\n",
       "      <td>1320</td>\n",
       "      <td>1742400</td>\n",
       "      <td>2299968000</td>\n",
       "      <td>3035957760000</td>\n",
       "      <td>4007464243200000</td>\n",
       "      <td>5289852801024000000</td>\n",
       "      <td>-8710306584240062464</td>\n",
       "      <td>-5283133275831795712</td>\n",
       "      <td>-866664235759828992</td>\n",
       "      <td>-298658632982069248</td>\n",
       "      <td>-6847769988430823424</td>\n",
       "      <td>-151788611006627840</td>\n",
       "      <td>2553218282056318976</td>\n",
       "      <td>-5506033174506897408</td>\n",
       "      <td>53374692458758144</td>\n",
       "    </tr>\n",
       "    <tr>\n",
       "      <th>4</th>\n",
       "      <td>1904</td>\n",
       "      <td>3625216</td>\n",
       "      <td>6902411264</td>\n",
       "      <td>13142191046656</td>\n",
       "      <td>25022731752833024</td>\n",
       "      <td>-7696950963734577152</td>\n",
       "      <td>-8279840425250914304</td>\n",
       "      <td>7150013343925796864</td>\n",
       "      <td>-71719562931863552</td>\n",
       "      <td>-7426839306301341696</td>\n",
       "      <td>7950665337471500288</td>\n",
       "      <td>-6710081969805328384</td>\n",
       "      <td>7597572571374026752</td>\n",
       "      <td>3530822107858468864</td>\n",
       "      <td>8070450532247928832</td>\n",
       "    </tr>\n",
       "  </tbody>\n",
       "</table>\n",
       "</div>"
      ],
      "text/plain": [
       "   power_1  power_2      power_3         power_4             power_5  \\\n",
       "0     2800  7840000  21952000000  61465600000000  172103680000000000   \n",
       "1     2490  6200100  15438249000  38441240010000   95718687624900000   \n",
       "2     2340  5475600  12812904000  29982195360000   70158337142400000   \n",
       "3     1320  1742400   2299968000   3035957760000    4007464243200000   \n",
       "4     1904  3625216   6902411264  13142191046656   25022731752833024   \n",
       "\n",
       "               power_6              power_7              power_8  \\\n",
       "0  2274958083551657984  5755928514847047680 -5854478850414608384   \n",
       "1 -1468140772223171008 -3215196241204589952    48287390516420864   \n",
       "2 -1850187750169964544  5545521924027596800  8460218406761725952   \n",
       "3  5289852801024000000 -8710306584240062464 -5283133275831795712   \n",
       "4 -7696950963734577152 -8279840425250914304  7150013343925796864   \n",
       "\n",
       "               power_9             power_10             power_11  \\\n",
       "0  6614700366887911424   629977281762164736 -6951042142055694336   \n",
       "1 -8891606130078909952 -4006375445023841280  3813685767502637056   \n",
       "2  3554680732089843712 -1528664152773492736  1594232809680011264   \n",
       "3  -866664235759828992  -298658632982069248 -6847769988430823424   \n",
       "4   -71719562931863552 -7426839306301341696  7950665337471500288   \n",
       "\n",
       "              power_12             power_13             power_14  \\\n",
       "0 -1602999992367185920 -5841168716699533312  6989586621679009792   \n",
       "1 -3995636878852812800 -6340772614055550976  1889118097054253056   \n",
       "2  4262471761896931328 -5504621038048116736 -4985865583326134272   \n",
       "3  -151788611006627840  2553218282056318976 -5506033174506897408   \n",
       "4 -6710081969805328384  7597572571374026752  3530822107858468864   \n",
       "\n",
       "              power_15  \n",
       "0 -1152921504606846976  \n",
       "1   -15677130845552640  \n",
       "2 -8583210398717575168  \n",
       "3    53374692458758144  \n",
       "4  8070450532247928832  "
      ]
     },
     "execution_count": 249,
     "metadata": {},
     "output_type": "execute_result"
    }
   ],
   "source": [
    "l2_err=[]\n",
    "k=10  # no. of folds\n",
    "min_err=None\n",
    "best_l2=None\n",
    "df=polynomial_frame(tr_val_sh['sqft_living'],deg=15)\n",
    "df.head()"
   ]
  },
  {
   "cell_type": "code",
   "execution_count": 250,
   "metadata": {
    "scrolled": true
   },
   "outputs": [
    {
     "name": "stderr",
     "output_type": "stream",
     "text": [
      "C:\\ProgramData\\Anaconda3\\lib\\site-packages\\sklearn\\linear_model\\ridge.py:125: LinAlgWarning: Ill-conditioned matrix (rcond=1.06624e-34): result may not be accurate.\n",
      "  overwrite_a=True).T\n",
      "C:\\ProgramData\\Anaconda3\\lib\\site-packages\\sklearn\\linear_model\\ridge.py:125: LinAlgWarning: Ill-conditioned matrix (rcond=1.09745e-34): result may not be accurate.\n",
      "  overwrite_a=True).T\n",
      "C:\\ProgramData\\Anaconda3\\lib\\site-packages\\sklearn\\linear_model\\ridge.py:125: LinAlgWarning: Ill-conditioned matrix (rcond=1.08004e-34): result may not be accurate.\n",
      "  overwrite_a=True).T\n",
      "C:\\ProgramData\\Anaconda3\\lib\\site-packages\\sklearn\\linear_model\\ridge.py:125: LinAlgWarning: Ill-conditioned matrix (rcond=1.10083e-34): result may not be accurate.\n",
      "  overwrite_a=True).T\n",
      "C:\\ProgramData\\Anaconda3\\lib\\site-packages\\sklearn\\linear_model\\ridge.py:125: LinAlgWarning: Ill-conditioned matrix (rcond=1.09392e-34): result may not be accurate.\n",
      "  overwrite_a=True).T\n",
      "C:\\ProgramData\\Anaconda3\\lib\\site-packages\\sklearn\\linear_model\\ridge.py:125: LinAlgWarning: Ill-conditioned matrix (rcond=8.71492e-35): result may not be accurate.\n",
      "  overwrite_a=True).T\n",
      "C:\\ProgramData\\Anaconda3\\lib\\site-packages\\sklearn\\linear_model\\ridge.py:125: LinAlgWarning: Ill-conditioned matrix (rcond=1.0811e-34): result may not be accurate.\n",
      "  overwrite_a=True).T\n",
      "C:\\ProgramData\\Anaconda3\\lib\\site-packages\\sklearn\\linear_model\\ridge.py:125: LinAlgWarning: Ill-conditioned matrix (rcond=1.08224e-34): result may not be accurate.\n",
      "  overwrite_a=True).T\n",
      "C:\\ProgramData\\Anaconda3\\lib\\site-packages\\sklearn\\linear_model\\ridge.py:125: LinAlgWarning: Ill-conditioned matrix (rcond=1.07156e-34): result may not be accurate.\n",
      "  overwrite_a=True).T\n",
      "C:\\ProgramData\\Anaconda3\\lib\\site-packages\\sklearn\\linear_model\\ridge.py:125: LinAlgWarning: Ill-conditioned matrix (rcond=1.09255e-34): result may not be accurate.\n",
      "  overwrite_a=True).T\n",
      "C:\\ProgramData\\Anaconda3\\lib\\site-packages\\sklearn\\linear_model\\ridge.py:125: LinAlgWarning: Ill-conditioned matrix (rcond=1.06626e-34): result may not be accurate.\n",
      "  overwrite_a=True).T\n",
      "C:\\ProgramData\\Anaconda3\\lib\\site-packages\\sklearn\\linear_model\\ridge.py:125: LinAlgWarning: Ill-conditioned matrix (rcond=1.09748e-34): result may not be accurate.\n",
      "  overwrite_a=True).T\n",
      "C:\\ProgramData\\Anaconda3\\lib\\site-packages\\sklearn\\linear_model\\ridge.py:125: LinAlgWarning: Ill-conditioned matrix (rcond=1.08006e-34): result may not be accurate.\n",
      "  overwrite_a=True).T\n",
      "C:\\ProgramData\\Anaconda3\\lib\\site-packages\\sklearn\\linear_model\\ridge.py:125: LinAlgWarning: Ill-conditioned matrix (rcond=1.10085e-34): result may not be accurate.\n",
      "  overwrite_a=True).T\n",
      "C:\\ProgramData\\Anaconda3\\lib\\site-packages\\sklearn\\linear_model\\ridge.py:125: LinAlgWarning: Ill-conditioned matrix (rcond=1.09394e-34): result may not be accurate.\n",
      "  overwrite_a=True).T\n",
      "C:\\ProgramData\\Anaconda3\\lib\\site-packages\\sklearn\\linear_model\\ridge.py:125: LinAlgWarning: Ill-conditioned matrix (rcond=8.71517e-35): result may not be accurate.\n",
      "  overwrite_a=True).T\n",
      "C:\\ProgramData\\Anaconda3\\lib\\site-packages\\sklearn\\linear_model\\ridge.py:125: LinAlgWarning: Ill-conditioned matrix (rcond=1.08113e-34): result may not be accurate.\n",
      "  overwrite_a=True).T\n",
      "C:\\ProgramData\\Anaconda3\\lib\\site-packages\\sklearn\\linear_model\\ridge.py:125: LinAlgWarning: Ill-conditioned matrix (rcond=1.08227e-34): result may not be accurate.\n",
      "  overwrite_a=True).T\n",
      "C:\\ProgramData\\Anaconda3\\lib\\site-packages\\sklearn\\linear_model\\ridge.py:125: LinAlgWarning: Ill-conditioned matrix (rcond=1.07158e-34): result may not be accurate.\n",
      "  overwrite_a=True).T\n",
      "C:\\ProgramData\\Anaconda3\\lib\\site-packages\\sklearn\\linear_model\\ridge.py:125: LinAlgWarning: Ill-conditioned matrix (rcond=1.09258e-34): result may not be accurate.\n",
      "  overwrite_a=True).T\n",
      "C:\\ProgramData\\Anaconda3\\lib\\site-packages\\sklearn\\linear_model\\ridge.py:125: LinAlgWarning: Ill-conditioned matrix (rcond=1.06634e-34): result may not be accurate.\n",
      "  overwrite_a=True).T\n",
      "C:\\ProgramData\\Anaconda3\\lib\\site-packages\\sklearn\\linear_model\\ridge.py:125: LinAlgWarning: Ill-conditioned matrix (rcond=1.09756e-34): result may not be accurate.\n",
      "  overwrite_a=True).T\n",
      "C:\\ProgramData\\Anaconda3\\lib\\site-packages\\sklearn\\linear_model\\ridge.py:125: LinAlgWarning: Ill-conditioned matrix (rcond=1.08014e-34): result may not be accurate.\n",
      "  overwrite_a=True).T\n",
      "C:\\ProgramData\\Anaconda3\\lib\\site-packages\\sklearn\\linear_model\\ridge.py:125: LinAlgWarning: Ill-conditioned matrix (rcond=1.10093e-34): result may not be accurate.\n",
      "  overwrite_a=True).T\n",
      "C:\\ProgramData\\Anaconda3\\lib\\site-packages\\sklearn\\linear_model\\ridge.py:125: LinAlgWarning: Ill-conditioned matrix (rcond=1.09402e-34): result may not be accurate.\n",
      "  overwrite_a=True).T\n",
      "C:\\ProgramData\\Anaconda3\\lib\\site-packages\\sklearn\\linear_model\\ridge.py:125: LinAlgWarning: Ill-conditioned matrix (rcond=8.71595e-35): result may not be accurate.\n",
      "  overwrite_a=True).T\n",
      "C:\\ProgramData\\Anaconda3\\lib\\site-packages\\sklearn\\linear_model\\ridge.py:125: LinAlgWarning: Ill-conditioned matrix (rcond=1.0812e-34): result may not be accurate.\n",
      "  overwrite_a=True).T\n",
      "C:\\ProgramData\\Anaconda3\\lib\\site-packages\\sklearn\\linear_model\\ridge.py:125: LinAlgWarning: Ill-conditioned matrix (rcond=1.08234e-34): result may not be accurate.\n",
      "  overwrite_a=True).T\n",
      "C:\\ProgramData\\Anaconda3\\lib\\site-packages\\sklearn\\linear_model\\ridge.py:125: LinAlgWarning: Ill-conditioned matrix (rcond=1.07166e-34): result may not be accurate.\n",
      "  overwrite_a=True).T\n",
      "C:\\ProgramData\\Anaconda3\\lib\\site-packages\\sklearn\\linear_model\\ridge.py:125: LinAlgWarning: Ill-conditioned matrix (rcond=1.09265e-34): result may not be accurate.\n",
      "  overwrite_a=True).T\n",
      "C:\\ProgramData\\Anaconda3\\lib\\site-packages\\sklearn\\linear_model\\ridge.py:125: LinAlgWarning: Ill-conditioned matrix (rcond=1.06659e-34): result may not be accurate.\n",
      "  overwrite_a=True).T\n",
      "C:\\ProgramData\\Anaconda3\\lib\\site-packages\\sklearn\\linear_model\\ridge.py:125: LinAlgWarning: Ill-conditioned matrix (rcond=1.09781e-34): result may not be accurate.\n",
      "  overwrite_a=True).T\n",
      "C:\\ProgramData\\Anaconda3\\lib\\site-packages\\sklearn\\linear_model\\ridge.py:125: LinAlgWarning: Ill-conditioned matrix (rcond=1.08039e-34): result may not be accurate.\n",
      "  overwrite_a=True).T\n",
      "C:\\ProgramData\\Anaconda3\\lib\\site-packages\\sklearn\\linear_model\\ridge.py:125: LinAlgWarning: Ill-conditioned matrix (rcond=1.10118e-34): result may not be accurate.\n",
      "  overwrite_a=True).T\n",
      "C:\\ProgramData\\Anaconda3\\lib\\site-packages\\sklearn\\linear_model\\ridge.py:125: LinAlgWarning: Ill-conditioned matrix (rcond=1.09427e-34): result may not be accurate.\n",
      "  overwrite_a=True).T\n",
      "C:\\ProgramData\\Anaconda3\\lib\\site-packages\\sklearn\\linear_model\\ridge.py:125: LinAlgWarning: Ill-conditioned matrix (rcond=8.71842e-35): result may not be accurate.\n",
      "  overwrite_a=True).T\n",
      "C:\\ProgramData\\Anaconda3\\lib\\site-packages\\sklearn\\linear_model\\ridge.py:125: LinAlgWarning: Ill-conditioned matrix (rcond=1.08145e-34): result may not be accurate.\n",
      "  overwrite_a=True).T\n",
      "C:\\ProgramData\\Anaconda3\\lib\\site-packages\\sklearn\\linear_model\\ridge.py:125: LinAlgWarning: Ill-conditioned matrix (rcond=1.08259e-34): result may not be accurate.\n",
      "  overwrite_a=True).T\n",
      "C:\\ProgramData\\Anaconda3\\lib\\site-packages\\sklearn\\linear_model\\ridge.py:125: LinAlgWarning: Ill-conditioned matrix (rcond=1.07191e-34): result may not be accurate.\n",
      "  overwrite_a=True).T\n",
      "C:\\ProgramData\\Anaconda3\\lib\\site-packages\\sklearn\\linear_model\\ridge.py:125: LinAlgWarning: Ill-conditioned matrix (rcond=1.0929e-34): result may not be accurate.\n",
      "  overwrite_a=True).T\n",
      "C:\\ProgramData\\Anaconda3\\lib\\site-packages\\sklearn\\linear_model\\ridge.py:125: LinAlgWarning: Ill-conditioned matrix (rcond=1.06737e-34): result may not be accurate.\n",
      "  overwrite_a=True).T\n",
      "C:\\ProgramData\\Anaconda3\\lib\\site-packages\\sklearn\\linear_model\\ridge.py:125: LinAlgWarning: Ill-conditioned matrix (rcond=1.09859e-34): result may not be accurate.\n",
      "  overwrite_a=True).T\n",
      "C:\\ProgramData\\Anaconda3\\lib\\site-packages\\sklearn\\linear_model\\ridge.py:125: LinAlgWarning: Ill-conditioned matrix (rcond=1.08117e-34): result may not be accurate.\n",
      "  overwrite_a=True).T\n",
      "C:\\ProgramData\\Anaconda3\\lib\\site-packages\\sklearn\\linear_model\\ridge.py:125: LinAlgWarning: Ill-conditioned matrix (rcond=1.10197e-34): result may not be accurate.\n",
      "  overwrite_a=True).T\n",
      "C:\\ProgramData\\Anaconda3\\lib\\site-packages\\sklearn\\linear_model\\ridge.py:125: LinAlgWarning: Ill-conditioned matrix (rcond=1.09507e-34): result may not be accurate.\n",
      "  overwrite_a=True).T\n"
     ]
    },
    {
     "name": "stderr",
     "output_type": "stream",
     "text": [
      "C:\\ProgramData\\Anaconda3\\lib\\site-packages\\sklearn\\linear_model\\ridge.py:125: LinAlgWarning: Ill-conditioned matrix (rcond=8.72623e-35): result may not be accurate.\n",
      "  overwrite_a=True).T\n",
      "C:\\ProgramData\\Anaconda3\\lib\\site-packages\\sklearn\\linear_model\\ridge.py:125: LinAlgWarning: Ill-conditioned matrix (rcond=1.08224e-34): result may not be accurate.\n",
      "  overwrite_a=True).T\n",
      "C:\\ProgramData\\Anaconda3\\lib\\site-packages\\sklearn\\linear_model\\ridge.py:125: LinAlgWarning: Ill-conditioned matrix (rcond=1.08338e-34): result may not be accurate.\n",
      "  overwrite_a=True).T\n",
      "C:\\ProgramData\\Anaconda3\\lib\\site-packages\\sklearn\\linear_model\\ridge.py:125: LinAlgWarning: Ill-conditioned matrix (rcond=1.07269e-34): result may not be accurate.\n",
      "  overwrite_a=True).T\n",
      "C:\\ProgramData\\Anaconda3\\lib\\site-packages\\sklearn\\linear_model\\ridge.py:125: LinAlgWarning: Ill-conditioned matrix (rcond=1.09369e-34): result may not be accurate.\n",
      "  overwrite_a=True).T\n",
      "C:\\ProgramData\\Anaconda3\\lib\\site-packages\\sklearn\\linear_model\\ridge.py:125: LinAlgWarning: Ill-conditioned matrix (rcond=1.06985e-34): result may not be accurate.\n",
      "  overwrite_a=True).T\n",
      "C:\\ProgramData\\Anaconda3\\lib\\site-packages\\sklearn\\linear_model\\ridge.py:125: LinAlgWarning: Ill-conditioned matrix (rcond=1.10109e-34): result may not be accurate.\n",
      "  overwrite_a=True).T\n",
      "C:\\ProgramData\\Anaconda3\\lib\\site-packages\\sklearn\\linear_model\\ridge.py:125: LinAlgWarning: Ill-conditioned matrix (rcond=1.08365e-34): result may not be accurate.\n",
      "  overwrite_a=True).T\n",
      "C:\\ProgramData\\Anaconda3\\lib\\site-packages\\sklearn\\linear_model\\ridge.py:125: LinAlgWarning: Ill-conditioned matrix (rcond=1.10446e-34): result may not be accurate.\n",
      "  overwrite_a=True).T\n",
      "C:\\ProgramData\\Anaconda3\\lib\\site-packages\\sklearn\\linear_model\\ridge.py:125: LinAlgWarning: Ill-conditioned matrix (rcond=1.09757e-34): result may not be accurate.\n",
      "  overwrite_a=True).T\n",
      "C:\\ProgramData\\Anaconda3\\lib\\site-packages\\sklearn\\linear_model\\ridge.py:125: LinAlgWarning: Ill-conditioned matrix (rcond=8.75093e-35): result may not be accurate.\n",
      "  overwrite_a=True).T\n",
      "C:\\ProgramData\\Anaconda3\\lib\\site-packages\\sklearn\\linear_model\\ridge.py:125: LinAlgWarning: Ill-conditioned matrix (rcond=1.08472e-34): result may not be accurate.\n",
      "  overwrite_a=True).T\n",
      "C:\\ProgramData\\Anaconda3\\lib\\site-packages\\sklearn\\linear_model\\ridge.py:125: LinAlgWarning: Ill-conditioned matrix (rcond=1.08587e-34): result may not be accurate.\n",
      "  overwrite_a=True).T\n",
      "C:\\ProgramData\\Anaconda3\\lib\\site-packages\\sklearn\\linear_model\\ridge.py:125: LinAlgWarning: Ill-conditioned matrix (rcond=1.07516e-34): result may not be accurate.\n",
      "  overwrite_a=True).T\n",
      "C:\\ProgramData\\Anaconda3\\lib\\site-packages\\sklearn\\linear_model\\ridge.py:125: LinAlgWarning: Ill-conditioned matrix (rcond=1.09617e-34): result may not be accurate.\n",
      "  overwrite_a=True).T\n",
      "C:\\ProgramData\\Anaconda3\\lib\\site-packages\\sklearn\\linear_model\\ridge.py:125: LinAlgWarning: Ill-conditioned matrix (rcond=1.07768e-34): result may not be accurate.\n",
      "  overwrite_a=True).T\n",
      "C:\\ProgramData\\Anaconda3\\lib\\site-packages\\sklearn\\linear_model\\ridge.py:125: LinAlgWarning: Ill-conditioned matrix (rcond=1.10898e-34): result may not be accurate.\n",
      "  overwrite_a=True).T\n",
      "C:\\ProgramData\\Anaconda3\\lib\\site-packages\\sklearn\\linear_model\\ridge.py:125: LinAlgWarning: Ill-conditioned matrix (rcond=1.0915e-34): result may not be accurate.\n",
      "  overwrite_a=True).T\n",
      "C:\\ProgramData\\Anaconda3\\lib\\site-packages\\sklearn\\linear_model\\ridge.py:125: LinAlgWarning: Ill-conditioned matrix (rcond=1.11233e-34): result may not be accurate.\n",
      "  overwrite_a=True).T\n",
      "C:\\ProgramData\\Anaconda3\\lib\\site-packages\\sklearn\\linear_model\\ridge.py:125: LinAlgWarning: Ill-conditioned matrix (rcond=1.1055e-34): result may not be accurate.\n",
      "  overwrite_a=True).T\n",
      "C:\\ProgramData\\Anaconda3\\lib\\site-packages\\sklearn\\linear_model\\ridge.py:125: LinAlgWarning: Ill-conditioned matrix (rcond=8.82903e-35): result may not be accurate.\n",
      "  overwrite_a=True).T\n",
      "C:\\ProgramData\\Anaconda3\\lib\\site-packages\\sklearn\\linear_model\\ridge.py:125: LinAlgWarning: Ill-conditioned matrix (rcond=1.09258e-34): result may not be accurate.\n",
      "  overwrite_a=True).T\n",
      "C:\\ProgramData\\Anaconda3\\lib\\site-packages\\sklearn\\linear_model\\ridge.py:125: LinAlgWarning: Ill-conditioned matrix (rcond=1.09373e-34): result may not be accurate.\n",
      "  overwrite_a=True).T\n",
      "C:\\ProgramData\\Anaconda3\\lib\\site-packages\\sklearn\\linear_model\\ridge.py:125: LinAlgWarning: Ill-conditioned matrix (rcond=1.08297e-34): result may not be accurate.\n",
      "  overwrite_a=True).T\n",
      "C:\\ProgramData\\Anaconda3\\lib\\site-packages\\sklearn\\linear_model\\ridge.py:125: LinAlgWarning: Ill-conditioned matrix (rcond=1.10403e-34): result may not be accurate.\n",
      "  overwrite_a=True).T\n",
      "C:\\ProgramData\\Anaconda3\\lib\\site-packages\\sklearn\\linear_model\\ridge.py:125: LinAlgWarning: Ill-conditioned matrix (rcond=1.10244e-34): result may not be accurate.\n",
      "  overwrite_a=True).T\n",
      "C:\\ProgramData\\Anaconda3\\lib\\site-packages\\sklearn\\linear_model\\ridge.py:125: LinAlgWarning: Ill-conditioned matrix (rcond=1.13393e-34): result may not be accurate.\n",
      "  overwrite_a=True).T\n",
      "C:\\ProgramData\\Anaconda3\\lib\\site-packages\\sklearn\\linear_model\\ridge.py:125: LinAlgWarning: Ill-conditioned matrix (rcond=1.11632e-34): result may not be accurate.\n",
      "  overwrite_a=True).T\n",
      "C:\\ProgramData\\Anaconda3\\lib\\site-packages\\sklearn\\linear_model\\ridge.py:125: LinAlgWarning: Ill-conditioned matrix (rcond=1.13723e-34): result may not be accurate.\n",
      "  overwrite_a=True).T\n",
      "C:\\ProgramData\\Anaconda3\\lib\\site-packages\\sklearn\\linear_model\\ridge.py:125: LinAlgWarning: Ill-conditioned matrix (rcond=1.13058e-34): result may not be accurate.\n",
      "  overwrite_a=True).T\n",
      "C:\\ProgramData\\Anaconda3\\lib\\site-packages\\sklearn\\linear_model\\ridge.py:125: LinAlgWarning: Ill-conditioned matrix (rcond=9.07603e-35): result may not be accurate.\n",
      "  overwrite_a=True).T\n",
      "C:\\ProgramData\\Anaconda3\\lib\\site-packages\\sklearn\\linear_model\\ridge.py:125: LinAlgWarning: Ill-conditioned matrix (rcond=1.11744e-34): result may not be accurate.\n",
      "  overwrite_a=True).T\n",
      "C:\\ProgramData\\Anaconda3\\lib\\site-packages\\sklearn\\linear_model\\ridge.py:125: LinAlgWarning: Ill-conditioned matrix (rcond=1.1186e-34): result may not be accurate.\n",
      "  overwrite_a=True).T\n",
      "C:\\ProgramData\\Anaconda3\\lib\\site-packages\\sklearn\\linear_model\\ridge.py:125: LinAlgWarning: Ill-conditioned matrix (rcond=1.10768e-34): result may not be accurate.\n",
      "  overwrite_a=True).T\n",
      "C:\\ProgramData\\Anaconda3\\lib\\site-packages\\sklearn\\linear_model\\ridge.py:125: LinAlgWarning: Ill-conditioned matrix (rcond=1.12888e-34): result may not be accurate.\n",
      "  overwrite_a=True).T\n",
      "C:\\ProgramData\\Anaconda3\\lib\\site-packages\\sklearn\\linear_model\\ridge.py:125: LinAlgWarning: Ill-conditioned matrix (rcond=1.18073e-34): result may not be accurate.\n",
      "  overwrite_a=True).T\n",
      "C:\\ProgramData\\Anaconda3\\lib\\site-packages\\sklearn\\linear_model\\ridge.py:125: LinAlgWarning: Ill-conditioned matrix (rcond=1.21284e-34): result may not be accurate.\n",
      "  overwrite_a=True).T\n",
      "C:\\ProgramData\\Anaconda3\\lib\\site-packages\\sklearn\\linear_model\\ridge.py:125: LinAlgWarning: Ill-conditioned matrix (rcond=1.19481e-34): result may not be accurate.\n",
      "  overwrite_a=True).T\n",
      "C:\\ProgramData\\Anaconda3\\lib\\site-packages\\sklearn\\linear_model\\ridge.py:125: LinAlgWarning: Ill-conditioned matrix (rcond=1.21598e-34): result may not be accurate.\n",
      "  overwrite_a=True).T\n",
      "C:\\ProgramData\\Anaconda3\\lib\\site-packages\\sklearn\\linear_model\\ridge.py:125: LinAlgWarning: Ill-conditioned matrix (rcond=1.20987e-34): result may not be accurate.\n",
      "  overwrite_a=True).T\n",
      "C:\\ProgramData\\Anaconda3\\lib\\site-packages\\sklearn\\linear_model\\ridge.py:125: LinAlgWarning: Ill-conditioned matrix (rcond=9.85709e-35): result may not be accurate.\n",
      "  overwrite_a=True).T\n",
      "C:\\ProgramData\\Anaconda3\\lib\\site-packages\\sklearn\\linear_model\\ridge.py:125: LinAlgWarning: Ill-conditioned matrix (rcond=1.19604e-34): result may not be accurate.\n",
      "  overwrite_a=True).T\n",
      "C:\\ProgramData\\Anaconda3\\lib\\site-packages\\sklearn\\linear_model\\ridge.py:125: LinAlgWarning: Ill-conditioned matrix (rcond=1.19725e-34): result may not be accurate.\n",
      "  overwrite_a=True).T\n",
      "C:\\ProgramData\\Anaconda3\\lib\\site-packages\\sklearn\\linear_model\\ridge.py:125: LinAlgWarning: Ill-conditioned matrix (rcond=1.18581e-34): result may not be accurate.\n",
      "  overwrite_a=True).T\n",
      "C:\\ProgramData\\Anaconda3\\lib\\site-packages\\sklearn\\linear_model\\ridge.py:125: LinAlgWarning: Ill-conditioned matrix (rcond=1.20747e-34): result may not be accurate.\n",
      "  overwrite_a=True).T\n"
     ]
    },
    {
     "name": "stderr",
     "output_type": "stream",
     "text": [
      "C:\\ProgramData\\Anaconda3\\lib\\site-packages\\sklearn\\linear_model\\ridge.py:125: LinAlgWarning: Ill-conditioned matrix (rcond=1.42832e-34): result may not be accurate.\n",
      "  overwrite_a=True).T\n",
      "C:\\ProgramData\\Anaconda3\\lib\\site-packages\\sklearn\\linear_model\\ridge.py:125: LinAlgWarning: Ill-conditioned matrix (rcond=1.46236e-34): result may not be accurate.\n",
      "  overwrite_a=True).T\n",
      "C:\\ProgramData\\Anaconda3\\lib\\site-packages\\sklearn\\linear_model\\ridge.py:125: LinAlgWarning: Ill-conditioned matrix (rcond=1.443e-34): result may not be accurate.\n",
      "  overwrite_a=True).T\n",
      "C:\\ProgramData\\Anaconda3\\lib\\site-packages\\sklearn\\linear_model\\ridge.py:125: LinAlgWarning: Ill-conditioned matrix (rcond=1.46498e-34): result may not be accurate.\n",
      "  overwrite_a=True).T\n",
      "C:\\ProgramData\\Anaconda3\\lib\\site-packages\\sklearn\\linear_model\\ridge.py:125: LinAlgWarning: Ill-conditioned matrix (rcond=1.46062e-34): result may not be accurate.\n",
      "  overwrite_a=True).T\n",
      "C:\\ProgramData\\Anaconda3\\lib\\site-packages\\sklearn\\linear_model\\ridge.py:125: LinAlgWarning: Ill-conditioned matrix (rcond=1.2327e-34): result may not be accurate.\n",
      "  overwrite_a=True).T\n",
      "C:\\ProgramData\\Anaconda3\\lib\\site-packages\\sklearn\\linear_model\\ridge.py:125: LinAlgWarning: Ill-conditioned matrix (rcond=1.44459e-34): result may not be accurate.\n",
      "  overwrite_a=True).T\n",
      "C:\\ProgramData\\Anaconda3\\lib\\site-packages\\sklearn\\linear_model\\ridge.py:125: LinAlgWarning: Ill-conditioned matrix (rcond=1.44594e-34): result may not be accurate.\n",
      "  overwrite_a=True).T\n",
      "C:\\ProgramData\\Anaconda3\\lib\\site-packages\\sklearn\\linear_model\\ridge.py:125: LinAlgWarning: Ill-conditioned matrix (rcond=1.43288e-34): result may not be accurate.\n",
      "  overwrite_a=True).T\n",
      "C:\\ProgramData\\Anaconda3\\lib\\site-packages\\sklearn\\linear_model\\ridge.py:125: LinAlgWarning: Ill-conditioned matrix (rcond=1.45597e-34): result may not be accurate.\n",
      "  overwrite_a=True).T\n",
      "C:\\ProgramData\\Anaconda3\\lib\\site-packages\\sklearn\\linear_model\\ridge.py:125: LinAlgWarning: Ill-conditioned matrix (rcond=2.21128e-34): result may not be accurate.\n",
      "  overwrite_a=True).T\n",
      "C:\\ProgramData\\Anaconda3\\lib\\site-packages\\sklearn\\linear_model\\ridge.py:125: LinAlgWarning: Ill-conditioned matrix (rcond=2.25141e-34): result may not be accurate.\n",
      "  overwrite_a=True).T\n",
      "C:\\ProgramData\\Anaconda3\\lib\\site-packages\\sklearn\\linear_model\\ridge.py:125: LinAlgWarning: Ill-conditioned matrix (rcond=2.22785e-34): result may not be accurate.\n",
      "  overwrite_a=True).T\n",
      "C:\\ProgramData\\Anaconda3\\lib\\site-packages\\sklearn\\linear_model\\ridge.py:125: LinAlgWarning: Ill-conditioned matrix (rcond=2.25242e-34): result may not be accurate.\n",
      "  overwrite_a=True).T\n",
      "C:\\ProgramData\\Anaconda3\\lib\\site-packages\\sklearn\\linear_model\\ridge.py:125: LinAlgWarning: Ill-conditioned matrix (rcond=2.25357e-34): result may not be accurate.\n",
      "  overwrite_a=True).T\n",
      "C:\\ProgramData\\Anaconda3\\lib\\site-packages\\sklearn\\linear_model\\ridge.py:125: LinAlgWarning: Ill-conditioned matrix (rcond=2.01376e-34): result may not be accurate.\n",
      "  overwrite_a=True).T\n",
      "C:\\ProgramData\\Anaconda3\\lib\\site-packages\\sklearn\\linear_model\\ridge.py:125: LinAlgWarning: Ill-conditioned matrix (rcond=2.23059e-34): result may not be accurate.\n",
      "  overwrite_a=True).T\n",
      "C:\\ProgramData\\Anaconda3\\lib\\site-packages\\sklearn\\linear_model\\ridge.py:125: LinAlgWarning: Ill-conditioned matrix (rcond=2.23239e-34): result may not be accurate.\n",
      "  overwrite_a=True).T\n",
      "C:\\ProgramData\\Anaconda3\\lib\\site-packages\\sklearn\\linear_model\\ridge.py:125: LinAlgWarning: Ill-conditioned matrix (rcond=2.21419e-34): result may not be accurate.\n",
      "  overwrite_a=True).T\n",
      "C:\\ProgramData\\Anaconda3\\lib\\site-packages\\sklearn\\linear_model\\ridge.py:125: LinAlgWarning: Ill-conditioned matrix (rcond=2.24181e-34): result may not be accurate.\n",
      "  overwrite_a=True).T\n",
      "C:\\ProgramData\\Anaconda3\\lib\\site-packages\\sklearn\\linear_model\\ridge.py:125: LinAlgWarning: Ill-conditioned matrix (rcond=4.6872e-34): result may not be accurate.\n",
      "  overwrite_a=True).T\n",
      "C:\\ProgramData\\Anaconda3\\lib\\site-packages\\sklearn\\linear_model\\ridge.py:125: LinAlgWarning: Ill-conditioned matrix (rcond=4.74663e-34): result may not be accurate.\n",
      "  overwrite_a=True).T\n",
      "C:\\ProgramData\\Anaconda3\\lib\\site-packages\\sklearn\\linear_model\\ridge.py:125: LinAlgWarning: Ill-conditioned matrix (rcond=4.70977e-34): result may not be accurate.\n",
      "  overwrite_a=True).T\n",
      "C:\\ProgramData\\Anaconda3\\lib\\site-packages\\sklearn\\linear_model\\ridge.py:125: LinAlgWarning: Ill-conditioned matrix (rcond=4.74249e-34): result may not be accurate.\n",
      "  overwrite_a=True).T\n",
      "C:\\ProgramData\\Anaconda3\\lib\\site-packages\\sklearn\\linear_model\\ridge.py:125: LinAlgWarning: Ill-conditioned matrix (rcond=4.76107e-34): result may not be accurate.\n",
      "  overwrite_a=True).T\n",
      "C:\\ProgramData\\Anaconda3\\lib\\site-packages\\sklearn\\linear_model\\ridge.py:125: LinAlgWarning: Ill-conditioned matrix (rcond=4.48369e-34): result may not be accurate.\n",
      "  overwrite_a=True).T\n",
      "C:\\ProgramData\\Anaconda3\\lib\\site-packages\\sklearn\\linear_model\\ridge.py:125: LinAlgWarning: Ill-conditioned matrix (rcond=4.71614e-34): result may not be accurate.\n",
      "  overwrite_a=True).T\n",
      "C:\\ProgramData\\Anaconda3\\lib\\site-packages\\sklearn\\linear_model\\ridge.py:125: LinAlgWarning: Ill-conditioned matrix (rcond=4.71936e-34): result may not be accurate.\n",
      "  overwrite_a=True).T\n",
      "C:\\ProgramData\\Anaconda3\\lib\\site-packages\\sklearn\\linear_model\\ridge.py:125: LinAlgWarning: Ill-conditioned matrix (rcond=4.6849e-34): result may not be accurate.\n",
      "  overwrite_a=True).T\n",
      "C:\\ProgramData\\Anaconda3\\lib\\site-packages\\sklearn\\linear_model\\ridge.py:125: LinAlgWarning: Ill-conditioned matrix (rcond=4.72685e-34): result may not be accurate.\n",
      "  overwrite_a=True).T\n",
      "C:\\ProgramData\\Anaconda3\\lib\\site-packages\\sklearn\\linear_model\\ridge.py:125: LinAlgWarning: Ill-conditioned matrix (rcond=1.25168e-33): result may not be accurate.\n",
      "  overwrite_a=True).T\n",
      "C:\\ProgramData\\Anaconda3\\lib\\site-packages\\sklearn\\linear_model\\ridge.py:125: LinAlgWarning: Ill-conditioned matrix (rcond=1.26372e-33): result may not be accurate.\n",
      "  overwrite_a=True).T\n",
      "C:\\ProgramData\\Anaconda3\\lib\\site-packages\\sklearn\\linear_model\\ridge.py:125: LinAlgWarning: Ill-conditioned matrix (rcond=1.25583e-33): result may not be accurate.\n",
      "  overwrite_a=True).T\n",
      "C:\\ProgramData\\Anaconda3\\lib\\site-packages\\sklearn\\linear_model\\ridge.py:125: LinAlgWarning: Ill-conditioned matrix (rcond=1.26168e-33): result may not be accurate.\n",
      "  overwrite_a=True).T\n",
      "C:\\ProgramData\\Anaconda3\\lib\\site-packages\\sklearn\\linear_model\\ridge.py:125: LinAlgWarning: Ill-conditioned matrix (rcond=1.26905e-33): result may not be accurate.\n",
      "  overwrite_a=True).T\n",
      "C:\\ProgramData\\Anaconda3\\lib\\site-packages\\sklearn\\linear_model\\ridge.py:125: LinAlgWarning: Ill-conditioned matrix (rcond=1.22943e-33): result may not be accurate.\n",
      "  overwrite_a=True).T\n",
      "C:\\ProgramData\\Anaconda3\\lib\\site-packages\\sklearn\\linear_model\\ridge.py:125: LinAlgWarning: Ill-conditioned matrix (rcond=1.25761e-33): result may not be accurate.\n",
      "  overwrite_a=True).T\n",
      "C:\\ProgramData\\Anaconda3\\lib\\site-packages\\sklearn\\linear_model\\ridge.py:125: LinAlgWarning: Ill-conditioned matrix (rcond=1.25839e-33): result may not be accurate.\n",
      "  overwrite_a=True).T\n",
      "C:\\ProgramData\\Anaconda3\\lib\\site-packages\\sklearn\\linear_model\\ridge.py:125: LinAlgWarning: Ill-conditioned matrix (rcond=1.2498e-33): result may not be accurate.\n",
      "  overwrite_a=True).T\n",
      "C:\\ProgramData\\Anaconda3\\lib\\site-packages\\sklearn\\linear_model\\ridge.py:125: LinAlgWarning: Ill-conditioned matrix (rcond=1.25852e-33): result may not be accurate.\n",
      "  overwrite_a=True).T\n"
     ]
    }
   ],
   "source": [
    "for l2 in l2_pen:\n",
    "    err=k_fold_cross_validation(k,l2,df,tr_val_sh[['price']])\n",
    "    l2_err.append(err)\n",
    "    if(min_err is None or err<min_err):\n",
    "        min_err=err\n",
    "        best_l2=l2"
   ]
  },
  {
   "cell_type": "code",
   "execution_count": 251,
   "metadata": {},
   "outputs": [
    {
     "data": {
      "text/plain": [
       "[128444667313677.72,\n",
       " 128444636419486.66,\n",
       " 128444538735878.03,\n",
       " 128444229957146.12,\n",
       " 128443254750996.75,\n",
       " 128440183205446.45,\n",
       " 128430591764793.78,\n",
       " 128401427886625.8,\n",
       " 128319495134565.75,\n",
       " 128132820732373.05,\n",
       " 127856602516294.17,\n",
       " 127631417885000.12,\n",
       " 127521291038581.7]"
      ]
     },
     "execution_count": 251,
     "metadata": {},
     "output_type": "execute_result"
    }
   ],
   "source": [
    "l2_err"
   ]
  },
  {
   "cell_type": "code",
   "execution_count": 252,
   "metadata": {},
   "outputs": [
    {
     "data": {
      "text/plain": [
       "1000000000.0"
      ]
     },
     "execution_count": 252,
     "metadata": {},
     "output_type": "execute_result"
    }
   ],
   "source": [
    "best_l2"
   ]
  },
  {
   "cell_type": "code",
   "execution_count": 253,
   "metadata": {},
   "outputs": [
    {
     "name": "stdout",
     "output_type": "stream",
     "text": [
      "[[ 8.17671921e+00  3.65326478e-02  5.88832510e-06 -5.22782403e-10\n",
      "  -2.53670727e-14 -2.99248181e-16 -3.83648264e-16  3.71587155e-16\n",
      "  -2.84844706e-16 -1.07195802e-16  1.54794639e-16  7.77887040e-16\n",
      "   4.18091419e-16 -2.00379189e-16  5.70890426e-17]]\n",
      "[276262.9435339]\n"
     ]
    },
    {
     "name": "stderr",
     "output_type": "stream",
     "text": [
      "C:\\ProgramData\\Anaconda3\\lib\\site-packages\\sklearn\\linear_model\\ridge.py:125: LinAlgWarning: Ill-conditioned matrix (rcond=1.14209e-33): result may not be accurate.\n",
      "  overwrite_a=True).T\n"
     ]
    }
   ],
   "source": [
    "## final model using best l2 pen\n",
    "model=Ridge(alpha=best_l2)\n",
    "model.fit(df,tr_val_sh[['price']])\n",
    "print(model.coef_)\n",
    "print(model.intercept_)"
   ]
  },
  {
   "cell_type": "code",
   "execution_count": 254,
   "metadata": {},
   "outputs": [
    {
     "name": "stdout",
     "output_type": "stream",
     "text": [
      "9.602153261968518e+17\n"
     ]
    }
   ],
   "source": [
    "test_x=polynomial_frame(test['sqft_living'],deg=15)\n",
    "test_y=np.array(test['price'])\n",
    "pred=model.predict(test_x)\n",
    "\n",
    "err= np.sum( (test_y-pred)**2 )\n",
    "print(err)"
   ]
  },
  {
   "cell_type": "code",
   "execution_count": null,
   "metadata": {},
   "outputs": [],
   "source": []
  },
  {
   "cell_type": "code",
   "execution_count": null,
   "metadata": {},
   "outputs": [],
   "source": []
  },
  {
   "cell_type": "code",
   "execution_count": null,
   "metadata": {},
   "outputs": [],
   "source": []
  },
  {
   "cell_type": "code",
   "execution_count": null,
   "metadata": {},
   "outputs": [],
   "source": []
  }
 ],
 "metadata": {
  "kernelspec": {
   "display_name": "Python 3",
   "language": "python",
   "name": "python3"
  },
  "language_info": {
   "codemirror_mode": {
    "name": "ipython",
    "version": 3
   },
   "file_extension": ".py",
   "mimetype": "text/x-python",
   "name": "python",
   "nbconvert_exporter": "python",
   "pygments_lexer": "ipython3",
   "version": "3.7.3"
  }
 },
 "nbformat": 4,
 "nbformat_minor": 2
}
